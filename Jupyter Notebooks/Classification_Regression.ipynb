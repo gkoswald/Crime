{
 "cells": [
  {
   "cell_type": "markdown",
   "metadata": {},
   "source": [
    "<div style='margin-left:0%;margin-right:0%;margin-top:0px;background-color:#d3d3d3;padding:1px;'></div>"
   ]
  },
  {
   "cell_type": "markdown",
   "metadata": {},
   "source": [
    "# MSDS 7331\n",
    "## Classification and Regression"
   ]
  },
  {
   "cell_type": "markdown",
   "metadata": {},
   "source": [
    "###  Glenn Oswald & Ian Kinskey"
   ]
  },
  {
   "cell_type": "markdown",
   "metadata": {},
   "source": [
    "<div style='margin-left:0%;margin-right:0%;margin-top:0px;background-color:#d3d3d3;padding:1px;'></div>"
   ]
  },
  {
   "cell_type": "markdown",
   "metadata": {},
   "source": [
    "# Introduction"
   ]
  },
  {
   "cell_type": "markdown",
   "metadata": {},
   "source": [
    "## Tasks\n",
    "\n",
    "In this notebook, we pursue two tasks:\n",
    " - **Classification**:  \n",
    " Predict whether the level of police incidents (per 25,000 residents) is high or low at a threshold of 21 incidents, for a given postal code and date.  \n",
    " \n",
    " \n",
    " - **Regression**:  \n",
    " Predict the level of police incidents (per 25,000 residents) as a continuous variable.  \n",
    " "
   ]
  },
  {
   "cell_type": "markdown",
   "metadata": {},
   "source": [
    "## Scenario\n",
    "\n",
    "The Austin Police Department would like to predict the level of crime incidents by postal code for the period September 15, 2015 to December 15, 2015. The APD will use this information to make better decisions on how and where to staff their police officers throughout the city.  We are also provided highly accurate forecasts for daily weather (precipitation and temperature), key economic indicators, and population estimates, which we use in order to make our predictions.\n",
    "\n",
    "We will use the first 57 months of the the data (January 2011 through September 2015) for training and testing models.  We will then validate those models against the final three months of data (September 2015 through December 2015).\n",
    "![](img/lab-2-train-test-validate-split.png)"
   ]
  },
  {
   "cell_type": "markdown",
   "metadata": {},
   "source": [
    "---\n",
    "## Evaluation Metrics"
   ]
  },
  {
   "cell_type": "markdown",
   "metadata": {},
   "source": [
    "### Classification  \n",
    "\n",
    "The level of incidents—low and high—with a threshold of 17 daily inicidents per 25,000 population is used as our binary response.  The low daily incident and high daily incident classes are imbalanced at a rate of 3:1, respectively.  That is 75% low incidnets and 25% high incidents. As with most classifiers, accuracy is our ultimate objective.  However, due to imbalanced classes, we must take precautions to ensure our classifiers are not incentivized to predict for the majority class. Later in this notebook, we re-examine the class imbalance of our binary response.\n",
    "\n",
    "![](img/class-imbalance.png) \n",
    "\n",
    "As our scorer, we use the \"composite score\" which is the geometric mean of accuracy and true positive rate.  The formulas are as follows:\n",
    "\n",
    "$$accuracy = \\frac{true \\ positives + true \\ negatives}{count \\ of \\ all \\ predictions}$$  \n",
    "$$true \\ positive \\ rate = \\frac{true \\ positives}{true \\ positives + false \\ negatives}$$  \n",
    "$$composite \\ score = \\sqrt{(1 + accuracy)(1 + true \\ positive \\ rate)} - 1$$\n",
    "\n",
    "### Regression  \n",
    "\n",
    "Our primary goal for the regression is the accurate prediction of the level of police incidents in the form of minimal prediction errors.  Explanation is of a secondary importance, and thus statistics such as $R^2$, which explain variance, are not principally useful.  Instead, we opt for a risk metric in the units of the response. We choose the mean absolute error ($MAE$) statistic for this purpose, calculated as follows:\n",
    "\n",
    "$$MAE = \\frac{1}{n}\\sum_{i=1}^n\\vert y_i-\\hat{y}_i\\vert$$\n",
    "\n",
    "This statistic is chosen over the root mean square error statistic ($RMSE$).  Functions for calculating both statistics are available as metrics in the scikit learn package, and $RMSE$ is the more commonly used when reporting average model performance error.  However, the literature shows that the $RMSE$ is an inappropriate measure of average error for us to use as it is a function of three sets of errors.  $RMSE$ changes with 1) the variance of the distribution of error magnitudes, 2) the square root of the number of errors ($\\sqrt{n}$), and 3) the average error magnitude.  These three sources of errors make determining the cause of the change in magnitude of the $RMSE$ ambiguous, whereas the $MAE$ only varies with the magnitudes of the errors. [7][8][9]\n",
    "\n",
    "$MAE$ has the additional benefit of being expressed in the units of the original data (i.e. level of daily incidents per 25,000 residents) and thus would be easier to understand for non-technical APD personnel when explaining the model."
   ]
  },
  {
   "cell_type": "markdown",
   "metadata": {},
   "source": [
    "<div style='margin-left:0%;margin-right:0%;margin-top:0px;background-color:#d3d3d3;padding:1px;'></div>"
   ]
  },
  {
   "cell_type": "markdown",
   "metadata": {},
   "source": [
    "# Data Preparation\n",
    "---"
   ]
  },
  {
   "cell_type": "markdown",
   "metadata": {},
   "source": [
    "## Import Data"
   ]
  },
  {
   "cell_type": "markdown",
   "metadata": {},
   "source": [
    "First, we'll import a few packages fundamental to all subsequent operations."
   ]
  },
  {
   "cell_type": "code",
   "execution_count": 1,
   "metadata": {},
   "outputs": [],
   "source": [
    "import numpy as np\n",
    "import pandas as pd\n",
    "import os\n",
    "\n",
    "import warnings\n",
    "warnings.filterwarnings('ignore')"
   ]
  },
  {
   "cell_type": "markdown",
   "metadata": {},
   "source": [
    "Next, we create a dictionary containing the names and data types of the columns of the data we will use for our analysis."
   ]
  },
  {
   "cell_type": "code",
   "execution_count": 2,
   "metadata": {},
   "outputs": [],
   "source": [
    "df_types = {'incident_rep_no':np.int64\n",
    "            ,'crime_type':object\n",
    "            ,'address':object\n",
    "            ,'latitude':np.float64\n",
    "            ,'longitude':np.float64\n",
    "            ,'consumer_price_index_tx':np.float64\n",
    "            ,'nonfarm_employment_tx':np.float64\n",
    "            ,'unemployment_tx':np.float64\n",
    "            ,'single_family_building_permits_tx':np.int64\n",
    "            ,'multi_family_building_permits_tx':np.int64\n",
    "            ,'existing_single_family_home_sales_tx':np.int64\n",
    "            ,'existing_single_family_home_price_tx':np.int64\n",
    "            ,'non_residential_building_construction':np.float64\n",
    "            ,'total_sales_tax_collections_retail_tx':np.float64\n",
    "            ,'total_sales_tax_collections_tx':np.float64\n",
    "            ,'retail_gasoline_price_tx':np.float64\n",
    "            ,'retail_diesel_price_tx':np.float64\n",
    "            ,'precipitation_inches':np.float64\n",
    "            ,'mean_temp_f':np.float64\n",
    "            ,'route_short_name':object\n",
    "            ,'neighborhood_short_name':object\n",
    "            ,'postal_code_short_name':object\n",
    "            ,'locality_short_name':object\n",
    "            ,'estimate_total_population':np.float64\n",
    "            ,'date':object,'day_of_month':np.int64\n",
    "            ,'month':np.int64\n",
    "            ,'year':np.int64\n",
    "            ,'dow':np.int64\n",
    "            ,'hour':np.int64\n",
    "            ,'minute':np.int64\n",
    "            ,'crime_group':object\n",
    "            ,'crime_subgroup':object\n",
    "            ,'violent':np.int64\n",
    "            ,'sexual':np.int64\n",
    "            ,'postal_code':object\n",
    "            ,'square_miles':np.float64\n",
    "            ,'square_feet':np.float64}\n"
   ]
  },
  {
   "cell_type": "markdown",
   "metadata": {},
   "source": [
    "Set the data path."
   ]
  },
  {
   "cell_type": "code",
   "execution_count": 3,
   "metadata": {},
   "outputs": [],
   "source": [
    "from pathlib import Path\n",
    "\n",
    "rel_path = Path('data/processed/apd-incidents-consolidated-proc-v2.txt')\n",
    "data_path = Path.cwd() / rel_path"
   ]
  },
  {
   "cell_type": "code",
   "execution_count": 4,
   "metadata": {},
   "outputs": [],
   "source": [
    "df = pd.read_csv(data_path\n",
    "                ,sep=\";\"\n",
    "                ,encoding='utf-8'\n",
    "                ,dtype=df_types\n",
    "                ,parse_dates=['date'])"
   ]
  },
  {
   "cell_type": "code",
   "execution_count": 5,
   "metadata": {},
   "outputs": [
    {
     "data": {
      "text/html": [
       "<div>\n",
       "<style scoped>\n",
       "    .dataframe tbody tr th:only-of-type {\n",
       "        vertical-align: middle;\n",
       "    }\n",
       "\n",
       "    .dataframe tbody tr th {\n",
       "        vertical-align: top;\n",
       "    }\n",
       "\n",
       "    .dataframe thead th {\n",
       "        text-align: right;\n",
       "    }\n",
       "</style>\n",
       "<table border=\"1\" class=\"dataframe\">\n",
       "  <thead>\n",
       "    <tr style=\"text-align: right;\">\n",
       "      <th></th>\n",
       "      <th>incident_rep_no</th>\n",
       "      <th>crime_type</th>\n",
       "      <th>address</th>\n",
       "      <th>latitude</th>\n",
       "      <th>longitude</th>\n",
       "      <th>consumer_price_index_tx</th>\n",
       "      <th>nonfarm_employment_tx</th>\n",
       "      <th>unemployment_tx</th>\n",
       "      <th>single_family_building_permits_tx</th>\n",
       "      <th>multi_family_building_permits_tx</th>\n",
       "      <th>...</th>\n",
       "      <th>dow</th>\n",
       "      <th>hour</th>\n",
       "      <th>minute</th>\n",
       "      <th>crime_group</th>\n",
       "      <th>crime_subgroup</th>\n",
       "      <th>violent</th>\n",
       "      <th>sexual</th>\n",
       "      <th>postal_code</th>\n",
       "      <th>square_miles</th>\n",
       "      <th>square_feet</th>\n",
       "    </tr>\n",
       "  </thead>\n",
       "  <tbody>\n",
       "    <tr>\n",
       "      <th>0</th>\n",
       "      <td>20114</td>\n",
       "      <td>CRED CARD ABUSE - OTHER</td>\n",
       "      <td>6917 CARWILL DR</td>\n",
       "      <td>30.301461</td>\n",
       "      <td>-97.644466</td>\n",
       "      <td>203.057</td>\n",
       "      <td>10.5293</td>\n",
       "      <td>7.8</td>\n",
       "      <td>6355</td>\n",
       "      <td>2044</td>\n",
       "      <td>...</td>\n",
       "      <td>1</td>\n",
       "      <td>12</td>\n",
       "      <td>25</td>\n",
       "      <td>PROPERTY</td>\n",
       "      <td>THEFT/BURGLARY</td>\n",
       "      <td>0</td>\n",
       "      <td>0</td>\n",
       "      <td>78724</td>\n",
       "      <td>24.395</td>\n",
       "      <td>680093568.0</td>\n",
       "    </tr>\n",
       "    <tr>\n",
       "      <th>1</th>\n",
       "      <td>2011801773</td>\n",
       "      <td>POSS/PROMO CHILD PORNOGRAPHY</td>\n",
       "      <td>3404 S US 183 HWY SB</td>\n",
       "      <td>30.200220</td>\n",
       "      <td>-97.684349</td>\n",
       "      <td>203.057</td>\n",
       "      <td>10.5293</td>\n",
       "      <td>7.8</td>\n",
       "      <td>6355</td>\n",
       "      <td>2044</td>\n",
       "      <td>...</td>\n",
       "      <td>1</td>\n",
       "      <td>19</td>\n",
       "      <td>9</td>\n",
       "      <td>PERSONAL</td>\n",
       "      <td>PUBLIC_NUISANCE</td>\n",
       "      <td>0</td>\n",
       "      <td>1</td>\n",
       "      <td>78744</td>\n",
       "      <td>21.398</td>\n",
       "      <td>596542003.2</td>\n",
       "    </tr>\n",
       "    <tr>\n",
       "      <th>2</th>\n",
       "      <td>2011802131</td>\n",
       "      <td>THEFT</td>\n",
       "      <td>9905 N LAMAR BLVD</td>\n",
       "      <td>30.368549</td>\n",
       "      <td>-97.693075</td>\n",
       "      <td>203.057</td>\n",
       "      <td>10.5293</td>\n",
       "      <td>7.8</td>\n",
       "      <td>6355</td>\n",
       "      <td>2044</td>\n",
       "      <td>...</td>\n",
       "      <td>1</td>\n",
       "      <td>0</td>\n",
       "      <td>29</td>\n",
       "      <td>PROPERTY</td>\n",
       "      <td>THEFT/BURGLARY</td>\n",
       "      <td>0</td>\n",
       "      <td>0</td>\n",
       "      <td>78753</td>\n",
       "      <td>10.967</td>\n",
       "      <td>305742412.8</td>\n",
       "    </tr>\n",
       "    <tr>\n",
       "      <th>3</th>\n",
       "      <td>2011802239</td>\n",
       "      <td>AGG ASLT STRANGLE/SUFFOCATE</td>\n",
       "      <td>7211 EASY WIND DR</td>\n",
       "      <td>30.340454</td>\n",
       "      <td>-97.718838</td>\n",
       "      <td>203.057</td>\n",
       "      <td>10.5293</td>\n",
       "      <td>7.8</td>\n",
       "      <td>6355</td>\n",
       "      <td>2044</td>\n",
       "      <td>...</td>\n",
       "      <td>1</td>\n",
       "      <td>23</td>\n",
       "      <td>3</td>\n",
       "      <td>PERSONAL</td>\n",
       "      <td>ASSAULT</td>\n",
       "      <td>1</td>\n",
       "      <td>0</td>\n",
       "      <td>78752</td>\n",
       "      <td>3.343</td>\n",
       "      <td>93197491.2</td>\n",
       "    </tr>\n",
       "    <tr>\n",
       "      <th>4</th>\n",
       "      <td>2011802274</td>\n",
       "      <td>FAMILY DISTURBANCE</td>\n",
       "      <td>1435 MANFORD HILL DR</td>\n",
       "      <td>30.358825</td>\n",
       "      <td>-97.671299</td>\n",
       "      <td>203.057</td>\n",
       "      <td>10.5293</td>\n",
       "      <td>7.8</td>\n",
       "      <td>6355</td>\n",
       "      <td>2044</td>\n",
       "      <td>...</td>\n",
       "      <td>1</td>\n",
       "      <td>23</td>\n",
       "      <td>24</td>\n",
       "      <td>PERSONAL</td>\n",
       "      <td>THREATS_AND_HARASSMENT</td>\n",
       "      <td>0</td>\n",
       "      <td>0</td>\n",
       "      <td>78753</td>\n",
       "      <td>10.967</td>\n",
       "      <td>305742412.8</td>\n",
       "    </tr>\n",
       "  </tbody>\n",
       "</table>\n",
       "<p>5 rows × 38 columns</p>\n",
       "</div>"
      ],
      "text/plain": [
       "   incident_rep_no                    crime_type               address  \\\n",
       "0            20114       CRED CARD ABUSE - OTHER       6917 CARWILL DR   \n",
       "1       2011801773  POSS/PROMO CHILD PORNOGRAPHY  3404 S US 183 HWY SB   \n",
       "2       2011802131                         THEFT     9905 N LAMAR BLVD   \n",
       "3       2011802239   AGG ASLT STRANGLE/SUFFOCATE     7211 EASY WIND DR   \n",
       "4       2011802274            FAMILY DISTURBANCE  1435 MANFORD HILL DR   \n",
       "\n",
       "    latitude  longitude  consumer_price_index_tx  nonfarm_employment_tx  \\\n",
       "0  30.301461 -97.644466                  203.057                10.5293   \n",
       "1  30.200220 -97.684349                  203.057                10.5293   \n",
       "2  30.368549 -97.693075                  203.057                10.5293   \n",
       "3  30.340454 -97.718838                  203.057                10.5293   \n",
       "4  30.358825 -97.671299                  203.057                10.5293   \n",
       "\n",
       "   unemployment_tx  single_family_building_permits_tx  \\\n",
       "0              7.8                               6355   \n",
       "1              7.8                               6355   \n",
       "2              7.8                               6355   \n",
       "3              7.8                               6355   \n",
       "4              7.8                               6355   \n",
       "\n",
       "   multi_family_building_permits_tx     ...       dow  hour  minute  \\\n",
       "0                              2044     ...         1    12      25   \n",
       "1                              2044     ...         1    19       9   \n",
       "2                              2044     ...         1     0      29   \n",
       "3                              2044     ...         1    23       3   \n",
       "4                              2044     ...         1    23      24   \n",
       "\n",
       "   crime_group          crime_subgroup  violent  sexual  postal_code  \\\n",
       "0     PROPERTY          THEFT/BURGLARY        0       0        78724   \n",
       "1     PERSONAL         PUBLIC_NUISANCE        0       1        78744   \n",
       "2     PROPERTY          THEFT/BURGLARY        0       0        78753   \n",
       "3     PERSONAL                 ASSAULT        1       0        78752   \n",
       "4     PERSONAL  THREATS_AND_HARASSMENT        0       0        78753   \n",
       "\n",
       "   square_miles  square_feet  \n",
       "0        24.395  680093568.0  \n",
       "1        21.398  596542003.2  \n",
       "2        10.967  305742412.8  \n",
       "3         3.343   93197491.2  \n",
       "4        10.967  305742412.8  \n",
       "\n",
       "[5 rows x 38 columns]"
      ]
     },
     "execution_count": 5,
     "metadata": {},
     "output_type": "execute_result"
    }
   ],
   "source": [
    "df.head()"
   ]
  },
  {
   "cell_type": "markdown",
   "metadata": {},
   "source": [
    "---\n",
    "## Drop Features"
   ]
  },
  {
   "cell_type": "markdown",
   "metadata": {},
   "source": [
    "Next, we drop variables that we no longer need, either because they are irrelevant to our analysis, no longer necessary after the creation of new variables, or might contain information about the response and thus might leak the \"answer into the question.\""
   ]
  },
  {
   "cell_type": "code",
   "execution_count": 6,
   "metadata": {},
   "outputs": [],
   "source": [
    "df.drop(['incident_rep_no' # unique identifer of rows not needed for this analysis\n",
    "              ,'crime_type' # irrelevant to this analysis (too granular)\n",
    "              ,'address' # irrelevant to this analysis (too granular)\n",
    "              ,'latitude' # irrelevant to this analysis (too granular)\n",
    "              ,'longitude' # irrelevant to this analysis (too granular)\n",
    "              ,'route_short_name' # irrelevant to this analysis (too granular)\n",
    "              ,'neighborhood_short_name' # irrelevant to this analysis (too granular)\n",
    "              ,'locality_short_name' # all incidents occur in Austin, rendering this column useless\n",
    "              ,'crime_group' # not of interest here (too granular i.e. incident specific)\n",
    "              ,'crime_subgroup' # not of interest here (too granular i.e. incident specific)\n",
    "              ,'sexual' # not of interest here (too granular i.e. incident specific)\n",
    "              ,'violent' # not of interest here (too granular i.e. incident specific)\n",
    "              ,'date' # redundant w.r.t. day, month, and year cols\n",
    "              ,'hour' # too granular (aggregation is to the day level)\n",
    "              ,'minute' # too granular (aggregation is to the day level)\n",
    "              ,'square_miles'] # redundant with square feet\n",
    "              ,axis=1\n",
    "              ,inplace=True)"
   ]
  },
  {
   "cell_type": "markdown",
   "metadata": {},
   "source": [
    "---"
   ]
  },
  {
   "cell_type": "markdown",
   "metadata": {},
   "source": [
    "## Create Features & Response"
   ]
  },
  {
   "cell_type": "markdown",
   "metadata": {},
   "source": [
    "In our mini-lab analysis, population size (or variables which may have encoded information about population size) was an important variable.  However, that analysis did not control for the disparate magnitudes of the geographic areas of postal codes.  For this analysis, we will calculate the estimate population _per 100,000 square feet_.  100,000 square feet was chosen as it approximates the typical area of one city block. "
   ]
  },
  {
   "cell_type": "code",
   "execution_count": 7,
   "metadata": {},
   "outputs": [],
   "source": [
    "df['population_per_100ksqft'] = df['estimate_total_population'] / df['square_feet'] * 100000.0"
   ]
  },
  {
   "cell_type": "markdown",
   "metadata": {},
   "source": [
    "Next, we group our data such that each row will correspond to a single day and postal code."
   ]
  },
  {
   "cell_type": "code",
   "execution_count": 8,
   "metadata": {},
   "outputs": [],
   "source": [
    "# group by columns\n",
    "grp_cols = ['consumer_price_index_tx'\n",
    "            ,'nonfarm_employment_tx'\n",
    "            ,'unemployment_tx'\n",
    "            ,'single_family_building_permits_tx'\n",
    "            ,'multi_family_building_permits_tx'\n",
    "            ,'existing_single_family_home_sales_tx'\n",
    "            ,'existing_single_family_home_price_tx'\n",
    "            ,'non_residential_building_construction'\n",
    "            ,'total_sales_tax_collections_retail_tx'\n",
    "            ,'total_sales_tax_collections_tx'\n",
    "            ,'retail_gasoline_price_tx'\n",
    "            ,'retail_diesel_price_tx'\n",
    "            ,'precipitation_inches'\n",
    "            ,'mean_temp_f'\n",
    "            ,'postal_code'\n",
    "            ,'estimate_total_population'\n",
    "            ,'day_of_month'\n",
    "            ,'month'\n",
    "            ,'year'\n",
    "            ,'dow'\n",
    "            ,'population_per_100ksqft']\n",
    "\n",
    "# execute group by function\n",
    "df_grp = df.groupby(grp_cols).size().reset_index()"
   ]
  },
  {
   "cell_type": "markdown",
   "metadata": {},
   "source": [
    "Notice that our aggregation has created a new, untitled column.  This column is the basis of the targets for both our regression and classification tasks.  We next give it an appropriate name:  `daily_incident_count`."
   ]
  },
  {
   "cell_type": "code",
   "execution_count": 9,
   "metadata": {},
   "outputs": [],
   "source": [
    "# rename new column to daily incident count\n",
    "df_grp.rename(columns = {0:'daily_incident_count'}, inplace=True)"
   ]
  },
  {
   "cell_type": "markdown",
   "metadata": {},
   "source": [
    "Much as we did for the estimated populations of each postal code, we will need to adjust `daily_incident_count` for the population size of the postal code.  We can think of this as a sort of \"crime density\".  We will call this column, which will be our response for the regression task, `daily_incidents_per_25k_population`."
   ]
  },
  {
   "cell_type": "code",
   "execution_count": 10,
   "metadata": {},
   "outputs": [],
   "source": [
    "df_grp['daily_incidents_per_25k_population'] = df_grp['daily_incident_count'] / df_grp['estimate_total_population'] * 25000"
   ]
  },
  {
   "cell_type": "markdown",
   "metadata": {},
   "source": [
    "25,000 was chosen as the rate as it is the mean estimated population for postal codes in Austin, TX."
   ]
  },
  {
   "cell_type": "markdown",
   "metadata": {},
   "source": [
    "---\n",
    "### Classification Threshold"
   ]
  },
  {
   "cell_type": "markdown",
   "metadata": {},
   "source": [
    "We will use the 3rd quartile of `daily_incidents_per_25k_population` as our threshold for a high or low daily incident count."
   ]
  },
  {
   "cell_type": "code",
   "execution_count": 11,
   "metadata": {},
   "outputs": [
    {
     "data": {
      "text/html": [
       "<div>\n",
       "<style scoped>\n",
       "    .dataframe tbody tr th:only-of-type {\n",
       "        vertical-align: middle;\n",
       "    }\n",
       "\n",
       "    .dataframe tbody tr th {\n",
       "        vertical-align: top;\n",
       "    }\n",
       "\n",
       "    .dataframe thead th {\n",
       "        text-align: right;\n",
       "    }\n",
       "</style>\n",
       "<table border=\"1\" class=\"dataframe\">\n",
       "  <thead>\n",
       "    <tr style=\"text-align: right;\">\n",
       "      <th></th>\n",
       "      <th>count</th>\n",
       "      <th>mean</th>\n",
       "      <th>std</th>\n",
       "      <th>min</th>\n",
       "      <th>25%</th>\n",
       "      <th>50%</th>\n",
       "      <th>75%</th>\n",
       "      <th>max</th>\n",
       "    </tr>\n",
       "  </thead>\n",
       "  <tbody>\n",
       "    <tr>\n",
       "      <th>consumer_price_index_tx</th>\n",
       "      <td>63331.0</td>\n",
       "      <td>211.292436</td>\n",
       "      <td>4.389125</td>\n",
       "      <td>200.713000</td>\n",
       "      <td>207.881000</td>\n",
       "      <td>212.034000</td>\n",
       "      <td>215.610000</td>\n",
       "      <td>217.333000</td>\n",
       "    </tr>\n",
       "    <tr>\n",
       "      <th>nonfarm_employment_tx</th>\n",
       "      <td>63331.0</td>\n",
       "      <td>11.258551</td>\n",
       "      <td>0.456858</td>\n",
       "      <td>10.491700</td>\n",
       "      <td>10.838600</td>\n",
       "      <td>11.258800</td>\n",
       "      <td>11.717600</td>\n",
       "      <td>11.944000</td>\n",
       "    </tr>\n",
       "    <tr>\n",
       "      <th>unemployment_tx</th>\n",
       "      <td>63331.0</td>\n",
       "      <td>5.952715</td>\n",
       "      <td>1.159166</td>\n",
       "      <td>4.400000</td>\n",
       "      <td>4.700000</td>\n",
       "      <td>6.100000</td>\n",
       "      <td>6.800000</td>\n",
       "      <td>7.900000</td>\n",
       "    </tr>\n",
       "    <tr>\n",
       "      <th>single_family_building_permits_tx</th>\n",
       "      <td>63331.0</td>\n",
       "      <td>7125.369993</td>\n",
       "      <td>1429.370805</td>\n",
       "      <td>4237.000000</td>\n",
       "      <td>5910.000000</td>\n",
       "      <td>7195.000000</td>\n",
       "      <td>8200.000000</td>\n",
       "      <td>9704.000000</td>\n",
       "    </tr>\n",
       "    <tr>\n",
       "      <th>multi_family_building_permits_tx</th>\n",
       "      <td>63331.0</td>\n",
       "      <td>4676.277400</td>\n",
       "      <td>1615.133502</td>\n",
       "      <td>1256.000000</td>\n",
       "      <td>3532.000000</td>\n",
       "      <td>4529.000000</td>\n",
       "      <td>5676.000000</td>\n",
       "      <td>8851.000000</td>\n",
       "    </tr>\n",
       "    <tr>\n",
       "      <th>existing_single_family_home_sales_tx</th>\n",
       "      <td>63331.0</td>\n",
       "      <td>22852.026559</td>\n",
       "      <td>5047.327357</td>\n",
       "      <td>12527.000000</td>\n",
       "      <td>19024.000000</td>\n",
       "      <td>22704.000000</td>\n",
       "      <td>25786.000000</td>\n",
       "      <td>33120.000000</td>\n",
       "    </tr>\n",
       "    <tr>\n",
       "      <th>existing_single_family_home_price_tx</th>\n",
       "      <td>63331.0</td>\n",
       "      <td>170060.630323</td>\n",
       "      <td>18428.786342</td>\n",
       "      <td>138000.000000</td>\n",
       "      <td>152900.000000</td>\n",
       "      <td>169950.000000</td>\n",
       "      <td>185000.000000</td>\n",
       "      <td>206000.000000</td>\n",
       "    </tr>\n",
       "    <tr>\n",
       "      <th>non_residential_building_construction</th>\n",
       "      <td>63331.0</td>\n",
       "      <td>1911.656253</td>\n",
       "      <td>1250.250666</td>\n",
       "      <td>870.337000</td>\n",
       "      <td>1225.087000</td>\n",
       "      <td>1450.563000</td>\n",
       "      <td>2139.590000</td>\n",
       "      <td>7650.165000</td>\n",
       "    </tr>\n",
       "    <tr>\n",
       "      <th>total_sales_tax_collections_retail_tx</th>\n",
       "      <td>63331.0</td>\n",
       "      <td>990.474813</td>\n",
       "      <td>108.117437</td>\n",
       "      <td>808.450000</td>\n",
       "      <td>906.760000</td>\n",
       "      <td>980.838000</td>\n",
       "      <td>1060.485000</td>\n",
       "      <td>1248.526000</td>\n",
       "    </tr>\n",
       "    <tr>\n",
       "      <th>total_sales_tax_collections_tx</th>\n",
       "      <td>63331.0</td>\n",
       "      <td>2181.169046</td>\n",
       "      <td>236.487498</td>\n",
       "      <td>1611.356000</td>\n",
       "      <td>2009.907000</td>\n",
       "      <td>2173.682000</td>\n",
       "      <td>2348.382000</td>\n",
       "      <td>2670.476000</td>\n",
       "    </tr>\n",
       "    <tr>\n",
       "      <th>retail_gasoline_price_tx</th>\n",
       "      <td>63331.0</td>\n",
       "      <td>3.091019</td>\n",
       "      <td>0.537990</td>\n",
       "      <td>1.789000</td>\n",
       "      <td>2.972000</td>\n",
       "      <td>3.265000</td>\n",
       "      <td>3.470000</td>\n",
       "      <td>3.784000</td>\n",
       "    </tr>\n",
       "    <tr>\n",
       "      <th>retail_diesel_price_tx</th>\n",
       "      <td>63331.0</td>\n",
       "      <td>3.557585</td>\n",
       "      <td>0.522598</td>\n",
       "      <td>2.191000</td>\n",
       "      <td>3.537000</td>\n",
       "      <td>3.782000</td>\n",
       "      <td>3.862000</td>\n",
       "      <td>4.041000</td>\n",
       "    </tr>\n",
       "    <tr>\n",
       "      <th>precipitation_inches</th>\n",
       "      <td>63331.0</td>\n",
       "      <td>0.096052</td>\n",
       "      <td>0.336323</td>\n",
       "      <td>0.000000</td>\n",
       "      <td>0.000000</td>\n",
       "      <td>0.000000</td>\n",
       "      <td>0.017500</td>\n",
       "      <td>4.785000</td>\n",
       "    </tr>\n",
       "    <tr>\n",
       "      <th>mean_temp_f</th>\n",
       "      <td>63331.0</td>\n",
       "      <td>68.979594</td>\n",
       "      <td>14.686992</td>\n",
       "      <td>20.000000</td>\n",
       "      <td>58.333333</td>\n",
       "      <td>71.500000</td>\n",
       "      <td>81.333333</td>\n",
       "      <td>94.500000</td>\n",
       "    </tr>\n",
       "    <tr>\n",
       "      <th>estimate_total_population</th>\n",
       "      <td>63331.0</td>\n",
       "      <td>26638.681451</td>\n",
       "      <td>15217.395725</td>\n",
       "      <td>544.000000</td>\n",
       "      <td>15919.000000</td>\n",
       "      <td>23514.000000</td>\n",
       "      <td>36210.000000</td>\n",
       "      <td>79067.000000</td>\n",
       "    </tr>\n",
       "    <tr>\n",
       "      <th>day_of_month</th>\n",
       "      <td>63331.0</td>\n",
       "      <td>15.693736</td>\n",
       "      <td>8.799843</td>\n",
       "      <td>1.000000</td>\n",
       "      <td>8.000000</td>\n",
       "      <td>16.000000</td>\n",
       "      <td>23.000000</td>\n",
       "      <td>31.000000</td>\n",
       "    </tr>\n",
       "    <tr>\n",
       "      <th>month</th>\n",
       "      <td>63331.0</td>\n",
       "      <td>6.622555</td>\n",
       "      <td>3.388008</td>\n",
       "      <td>1.000000</td>\n",
       "      <td>4.000000</td>\n",
       "      <td>7.000000</td>\n",
       "      <td>10.000000</td>\n",
       "      <td>12.000000</td>\n",
       "    </tr>\n",
       "    <tr>\n",
       "      <th>year</th>\n",
       "      <td>63331.0</td>\n",
       "      <td>2013.036143</td>\n",
       "      <td>1.403174</td>\n",
       "      <td>2011.000000</td>\n",
       "      <td>2012.000000</td>\n",
       "      <td>2013.000000</td>\n",
       "      <td>2014.000000</td>\n",
       "      <td>2015.000000</td>\n",
       "    </tr>\n",
       "    <tr>\n",
       "      <th>dow</th>\n",
       "      <td>63331.0</td>\n",
       "      <td>2.992721</td>\n",
       "      <td>1.996530</td>\n",
       "      <td>0.000000</td>\n",
       "      <td>1.000000</td>\n",
       "      <td>3.000000</td>\n",
       "      <td>5.000000</td>\n",
       "      <td>6.000000</td>\n",
       "    </tr>\n",
       "    <tr>\n",
       "      <th>population_per_100ksqft</th>\n",
       "      <td>63331.0</td>\n",
       "      <td>11.991438</td>\n",
       "      <td>9.057644</td>\n",
       "      <td>0.055647</td>\n",
       "      <td>5.005935</td>\n",
       "      <td>11.711547</td>\n",
       "      <td>16.530437</td>\n",
       "      <td>52.834841</td>\n",
       "    </tr>\n",
       "    <tr>\n",
       "      <th>daily_incident_count</th>\n",
       "      <td>63331.0</td>\n",
       "      <td>12.965420</td>\n",
       "      <td>13.084727</td>\n",
       "      <td>1.000000</td>\n",
       "      <td>3.000000</td>\n",
       "      <td>7.000000</td>\n",
       "      <td>21.000000</td>\n",
       "      <td>131.000000</td>\n",
       "    </tr>\n",
       "    <tr>\n",
       "      <th>daily_incidents_per_25k_population</th>\n",
       "      <td>63331.0</td>\n",
       "      <td>15.719784</td>\n",
       "      <td>30.719513</td>\n",
       "      <td>0.316188</td>\n",
       "      <td>4.152134</td>\n",
       "      <td>8.635579</td>\n",
       "      <td>16.974800</td>\n",
       "      <td>2558.348294</td>\n",
       "    </tr>\n",
       "  </tbody>\n",
       "</table>\n",
       "</div>"
      ],
      "text/plain": [
       "                                         count           mean           std  \\\n",
       "consumer_price_index_tx                63331.0     211.292436      4.389125   \n",
       "nonfarm_employment_tx                  63331.0      11.258551      0.456858   \n",
       "unemployment_tx                        63331.0       5.952715      1.159166   \n",
       "single_family_building_permits_tx      63331.0    7125.369993   1429.370805   \n",
       "multi_family_building_permits_tx       63331.0    4676.277400   1615.133502   \n",
       "existing_single_family_home_sales_tx   63331.0   22852.026559   5047.327357   \n",
       "existing_single_family_home_price_tx   63331.0  170060.630323  18428.786342   \n",
       "non_residential_building_construction  63331.0    1911.656253   1250.250666   \n",
       "total_sales_tax_collections_retail_tx  63331.0     990.474813    108.117437   \n",
       "total_sales_tax_collections_tx         63331.0    2181.169046    236.487498   \n",
       "retail_gasoline_price_tx               63331.0       3.091019      0.537990   \n",
       "retail_diesel_price_tx                 63331.0       3.557585      0.522598   \n",
       "precipitation_inches                   63331.0       0.096052      0.336323   \n",
       "mean_temp_f                            63331.0      68.979594     14.686992   \n",
       "estimate_total_population              63331.0   26638.681451  15217.395725   \n",
       "day_of_month                           63331.0      15.693736      8.799843   \n",
       "month                                  63331.0       6.622555      3.388008   \n",
       "year                                   63331.0    2013.036143      1.403174   \n",
       "dow                                    63331.0       2.992721      1.996530   \n",
       "population_per_100ksqft                63331.0      11.991438      9.057644   \n",
       "daily_incident_count                   63331.0      12.965420     13.084727   \n",
       "daily_incidents_per_25k_population     63331.0      15.719784     30.719513   \n",
       "\n",
       "                                                 min            25%  \\\n",
       "consumer_price_index_tx                   200.713000     207.881000   \n",
       "nonfarm_employment_tx                      10.491700      10.838600   \n",
       "unemployment_tx                             4.400000       4.700000   \n",
       "single_family_building_permits_tx        4237.000000    5910.000000   \n",
       "multi_family_building_permits_tx         1256.000000    3532.000000   \n",
       "existing_single_family_home_sales_tx    12527.000000   19024.000000   \n",
       "existing_single_family_home_price_tx   138000.000000  152900.000000   \n",
       "non_residential_building_construction     870.337000    1225.087000   \n",
       "total_sales_tax_collections_retail_tx     808.450000     906.760000   \n",
       "total_sales_tax_collections_tx           1611.356000    2009.907000   \n",
       "retail_gasoline_price_tx                    1.789000       2.972000   \n",
       "retail_diesel_price_tx                      2.191000       3.537000   \n",
       "precipitation_inches                        0.000000       0.000000   \n",
       "mean_temp_f                                20.000000      58.333333   \n",
       "estimate_total_population                 544.000000   15919.000000   \n",
       "day_of_month                                1.000000       8.000000   \n",
       "month                                       1.000000       4.000000   \n",
       "year                                     2011.000000    2012.000000   \n",
       "dow                                         0.000000       1.000000   \n",
       "population_per_100ksqft                     0.055647       5.005935   \n",
       "daily_incident_count                        1.000000       3.000000   \n",
       "daily_incidents_per_25k_population          0.316188       4.152134   \n",
       "\n",
       "                                                 50%            75%  \\\n",
       "consumer_price_index_tx                   212.034000     215.610000   \n",
       "nonfarm_employment_tx                      11.258800      11.717600   \n",
       "unemployment_tx                             6.100000       6.800000   \n",
       "single_family_building_permits_tx        7195.000000    8200.000000   \n",
       "multi_family_building_permits_tx         4529.000000    5676.000000   \n",
       "existing_single_family_home_sales_tx    22704.000000   25786.000000   \n",
       "existing_single_family_home_price_tx   169950.000000  185000.000000   \n",
       "non_residential_building_construction    1450.563000    2139.590000   \n",
       "total_sales_tax_collections_retail_tx     980.838000    1060.485000   \n",
       "total_sales_tax_collections_tx           2173.682000    2348.382000   \n",
       "retail_gasoline_price_tx                    3.265000       3.470000   \n",
       "retail_diesel_price_tx                      3.782000       3.862000   \n",
       "precipitation_inches                        0.000000       0.017500   \n",
       "mean_temp_f                                71.500000      81.333333   \n",
       "estimate_total_population               23514.000000   36210.000000   \n",
       "day_of_month                               16.000000      23.000000   \n",
       "month                                       7.000000      10.000000   \n",
       "year                                     2013.000000    2014.000000   \n",
       "dow                                         3.000000       5.000000   \n",
       "population_per_100ksqft                    11.711547      16.530437   \n",
       "daily_incident_count                        7.000000      21.000000   \n",
       "daily_incidents_per_25k_population          8.635579      16.974800   \n",
       "\n",
       "                                                 max  \n",
       "consumer_price_index_tx                   217.333000  \n",
       "nonfarm_employment_tx                      11.944000  \n",
       "unemployment_tx                             7.900000  \n",
       "single_family_building_permits_tx        9704.000000  \n",
       "multi_family_building_permits_tx         8851.000000  \n",
       "existing_single_family_home_sales_tx    33120.000000  \n",
       "existing_single_family_home_price_tx   206000.000000  \n",
       "non_residential_building_construction    7650.165000  \n",
       "total_sales_tax_collections_retail_tx    1248.526000  \n",
       "total_sales_tax_collections_tx           2670.476000  \n",
       "retail_gasoline_price_tx                    3.784000  \n",
       "retail_diesel_price_tx                      4.041000  \n",
       "precipitation_inches                        4.785000  \n",
       "mean_temp_f                                94.500000  \n",
       "estimate_total_population               79067.000000  \n",
       "day_of_month                               31.000000  \n",
       "month                                      12.000000  \n",
       "year                                     2015.000000  \n",
       "dow                                         6.000000  \n",
       "population_per_100ksqft                    52.834841  \n",
       "daily_incident_count                      131.000000  \n",
       "daily_incidents_per_25k_population       2558.348294  "
      ]
     },
     "execution_count": 11,
     "metadata": {},
     "output_type": "execute_result"
    }
   ],
   "source": [
    "df_grp.describe().T"
   ]
  },
  {
   "cell_type": "markdown",
   "metadata": {},
   "source": [
    "As the above shows, Q3 of `daily_incidents_per_25k_population` is approximately $17$."
   ]
  },
  {
   "cell_type": "markdown",
   "metadata": {},
   "source": [
    "---\n",
    "###  Create Binary Response"
   ]
  },
  {
   "cell_type": "markdown",
   "metadata": {},
   "source": [
    "We use this fact to create the binary response for our classification task."
   ]
  },
  {
   "cell_type": "code",
   "execution_count": 12,
   "metadata": {},
   "outputs": [],
   "source": [
    "high_level_of_incidents = 17\n",
    "\n",
    "df_grp['high_loi'] = np.where(df_grp['daily_incidents_per_25k_population']>=high_level_of_incidents, 1, 0)"
   ]
  },
  {
   "cell_type": "markdown",
   "metadata": {},
   "source": [
    "### Class Imbalance Plot"
   ]
  },
  {
   "cell_type": "markdown",
   "metadata": {},
   "source": [
    "As mentioned above, we re-examine the class imbalance."
   ]
  },
  {
   "cell_type": "code",
   "execution_count": 13,
   "metadata": {},
   "outputs": [
    {
     "data": {
      "image/png": "[encoded data removed]",
      "text/plain": [
       "<Figure size 432x288 with 1 Axes>"
      ]
     },
     "metadata": {},
     "output_type": "display_data"
    },
    {
     "name": "stdout",
     "output_type": "stream",
     "text": [
      "There are 15,786 (25.0%) observations of high incidents 47,545 (75.0%) observations of low incidents\n"
     ]
    }
   ],
   "source": [
    "import seaborn as sns\n",
    "from matplotlib import pyplot as plt\n",
    "%matplotlib inline  \n",
    "\n",
    "g = sns.countplot(x=\"high_loi\", data=df_grp)\n",
    "g.set(xticklabels=[\"Low Incidents\\nper 25,000 Residents\", \"High Incidents\\nper 25,000 Residents\"])\n",
    "g.set(xlabel='Incident Level\\nclassification', ylabel='Instance Frequency')\n",
    "\n",
    "plt.show()\n",
    "\n",
    "high_days = np.where(df_grp['high_loi']==1)[0].shape[0]\n",
    "low_days = np.where(df_grp['high_loi']==0)[0].shape[0]\n",
    "\n",
    "hd_perc = round(1.0 * high_days / (high_days + low_days), 2) * 100\n",
    "ld_perc = round(1.0 * low_days / (high_days + low_days),2) * 100\n",
    "\n",
    "print(\"There are {high:,d} ({hd_perc}%) observations of high incidents {low:,d} ({ld_perc}%) \"\n",
    "      \"observations of low incidents\".format(high=high_days\n",
    "                                          , hd_perc=hd_perc\n",
    "                                          , low=low_days\n",
    "                                          , ld_perc=ld_perc))\n"
   ]
  },
  {
   "cell_type": "markdown",
   "metadata": {},
   "source": [
    "The class imbalance ratio of 3:1 remains almost identical after transforming our response and modifying the high/low threshold."
   ]
  },
  {
   "cell_type": "markdown",
   "metadata": {},
   "source": [
    "---\n",
    "### Drop More Variables"
   ]
  },
  {
   "cell_type": "markdown",
   "metadata": {},
   "source": [
    "We drop `daily_incident_count` as it is no longer needed now that we've created `daily_incidents_per_25k_population` and `high_loi`.  We also drop `estimate_total_population` as it is effectively replaced by `population_per_100ksqft`."
   ]
  },
  {
   "cell_type": "code",
   "execution_count": 14,
   "metadata": {},
   "outputs": [],
   "source": [
    "df_grp.drop(['daily_incident_count', 'estimate_total_population'] # not needed after feature creation\n",
    "              ,axis=1\n",
    "              ,inplace=True)"
   ]
  },
  {
   "cell_type": "markdown",
   "metadata": {},
   "source": [
    "---\n",
    "### Create Dummy Variables"
   ]
  },
  {
   "cell_type": "markdown",
   "metadata": {},
   "source": [
    "We next transform any categorical variables into dummies via one hot encoding."
   ]
  },
  {
   "cell_type": "code",
   "execution_count": 15,
   "metadata": {},
   "outputs": [],
   "source": [
    "df_grp = pd.get_dummies(df_grp\n",
    "                        , columns={\"postal_code\",\"day_of_month\",\"month\",\"year\",\"dow\"}\n",
    "                        , prefix={\"postal_code\":\"postal_code_\"\n",
    "                        , \"day_of_month\":\"dom_\"\n",
    "                        , \"month\":\"month_\"\n",
    "                        , \"year\":\"year_\"\n",
    "                        , \"dow\":\"dow_\"})"
   ]
  },
  {
   "cell_type": "markdown",
   "metadata": {},
   "source": [
    "---\n",
    "### Segregate Validation Data"
   ]
  },
  {
   "cell_type": "markdown",
   "metadata": {},
   "source": [
    "As noted in the introduction, we will segregate the final 3 months of data in this set for use as a validation set so as to simulate the previously described scenario."
   ]
  },
  {
   "cell_type": "code",
   "execution_count": 16,
   "metadata": {},
   "outputs": [],
   "source": [
    "# training & testing set\n",
    "df_test = df_grp.loc[(df_grp.year__2011.isin([1]) | df_grp.year__2012.isin([1]) | \n",
    "                        df_grp.year__2013.isin([1]) | \n",
    "                        df_grp.year__2014.isin([1])) | \n",
    "                        (df_grp.year__2015.isin([1]) &\n",
    "                        (df_grp.month__1.isin([1]) |\n",
    "                        df_grp.month__2.isin([1]) |\n",
    "                        df_grp.month__3.isin([1]) |\n",
    "                        df_grp.month__4.isin([1]) |\n",
    "                        df_grp.month__5.isin([1]) |\n",
    "                        df_grp.month__6.isin([1]) |\n",
    "                        df_grp.month__7.isin([1]) |\n",
    "                        df_grp.month__8.isin([1]) |\n",
    "                        df_grp.month__9.isin([1])))]\n",
    "\n",
    "# validation set\n",
    "df_validate = df_grp.loc[df_grp.year__2015.isin([1]) & \n",
    "                         (df_grp.month__10.isin([1]) | \n",
    "                          df_grp.month__11.isin([1]) | \n",
    "                          df_grp.month__12.isin([1]))]\n"
   ]
  },
  {
   "cell_type": "markdown",
   "metadata": {},
   "source": [
    "---\n",
    "## Scale Features"
   ]
  },
  {
   "cell_type": "markdown",
   "metadata": {},
   "source": [
    "In order to improve interpretability of our model coefficients (where applicable) we will next standardize features by removing the mean and scaling to unit variance using the `sklearn`'s `StandardScaler` function.  An additional justification for transforming features values to z-scores is that gradient descent (a regression method we employ in this notebook) converges much faster with feature scaling than without it. [1]  Lastly, we will scale features for all models so as to preserve our ability to more easily compare models to one another."
   ]
  },
  {
   "cell_type": "markdown",
   "metadata": {},
   "source": [
    "First, we transfer all values to `numpy.ndarray` objects.  Note that we have two separate $y$ arrays.  The first is the continuous variable for the regression task:  `daily_incidents_per_25k_population`.  The second is the binary class variable for the classification task:  `high_loi`."
   ]
  },
  {
   "cell_type": "code",
   "execution_count": 17,
   "metadata": {},
   "outputs": [],
   "source": [
    "# train and test set\n",
    "Xs_trn_tst = df_test.drop(labels=['daily_incidents_per_25k_population','high_loi'], axis=1).values\n",
    "y_trn_tst_reg = df_test['daily_incidents_per_25k_population'].values\n",
    "y_trn_tst_clf = df_test['high_loi'].values\n",
    "\n",
    "# validation set\n",
    "Xs_val = df_validate.drop(labels=['daily_incidents_per_25k_population','high_loi'], axis=1).values\n",
    "y_val_reg = df_validate['daily_incidents_per_25k_population'].values\n",
    "y_val_clf = df_validate['high_loi'].values"
   ]
  },
  {
   "cell_type": "markdown",
   "metadata": {},
   "source": [
    "Import `StandardScaler` from `sklearn` for conversion of feature values to z-scores."
   ]
  },
  {
   "cell_type": "code",
   "execution_count": 18,
   "metadata": {
    "scrolled": false
   },
   "outputs": [],
   "source": [
    "from sklearn.preprocessing import StandardScaler"
   ]
  },
  {
   "cell_type": "markdown",
   "metadata": {},
   "source": [
    "Instantiate `StandardScaler` object and fit to data."
   ]
  },
  {
   "cell_type": "code",
   "execution_count": 19,
   "metadata": {},
   "outputs": [
    {
     "data": {
      "text/plain": [
       "StandardScaler(copy=True, with_mean=True, with_std=True)"
      ]
     },
     "execution_count": 19,
     "metadata": {},
     "output_type": "execute_result"
    }
   ],
   "source": [
    "scaler = StandardScaler()\n",
    "scaler.fit(Xs_trn_tst)"
   ]
  },
  {
   "cell_type": "markdown",
   "metadata": {},
   "source": [
    "Transform $Xs$ to z-scores."
   ]
  },
  {
   "cell_type": "code",
   "execution_count": 20,
   "metadata": {},
   "outputs": [],
   "source": [
    "Xs_trn_tst_scl = scaler.transform(Xs_trn_tst)\n",
    "Xs_val_scl = scaler.transform(Xs_val)"
   ]
  },
  {
   "cell_type": "markdown",
   "metadata": {},
   "source": [
    "---\n",
    "## Final Data Set Description"
   ]
  },
  {
   "cell_type": "code",
   "execution_count": 21,
   "metadata": {},
   "outputs": [
    {
     "name": "stdout",
     "output_type": "stream",
     "text": [
      "\n",
      "The working data set comprises 60103 observations and 131 features.\n",
      "There are two response variabels corresponding to the classification and regression tasks.\n",
      "\n"
     ]
    }
   ],
   "source": [
    "print(\"\\nThe working data set comprises {instances} observations and {features} features.\"\n",
    "      \"\\nThere are two response variabels corresponding \"\n",
    "      \"to the classification and regression tasks.\\n\".format(instances=Xs_trn_tst_scl.shape[0], features=Xs_trn_tst_scl.shape[1]))"
   ]
  },
  {
   "cell_type": "markdown",
   "metadata": {},
   "source": [
    "| Variable | Data Type | Level of Measurement | Description | Variable Type | \n",
    "|  :------ |  :------ |  :------ |  :------ |  :------ | \n",
    "| consumer_price_index_tx | float64 | Ratio | Economic indicator measuring the average change over a reference base period of time | Feature | \n",
    "| nonfarm_employment_tx | float64 | Ratio | Represents the number of persons who work and are on the payroll of nonagricultural establishments in TX. | Feature | \n",
    "| unemployment_tx | float64 | Ratio | Represents a percentage of the civilian labor force that is unemployed in TX. | Feature | \n",
    "| single_family_building_permits_tx | int64 | Ratio | Represents data on new privately-owned residential construction. The data only shows information on single-family building permits issued for new construction. The number of permits issued does not necessarily mean that the same number of residential structures will be built. | Feature | \n",
    "| multi_family_building_permits_tx | int64 | Ratio | Represents data on new privately-owned residential construction. The data only shows information on multi-family building permits issued for new construction. The number of permits issued does not necessarily mean that the same number of residential structures will be built. | Feature | \n",
    "| existing_single_family_home_sales_tx | int64 | Ratio | Total Single Family Home Sales in a one month period in the state of TX. | Feature | \n",
    "| existing_single_family_home_price_tx | int64 | Ratio | Median Single Family Home Price over a one month period in the state of TX. | Feature | \n",
    "| non_residential_building_construction | float64 | Ratio | The value of construction starts for non-residential construction in the state of TX over a one month period of time. | Feature | \n",
    "| total_sales_tax_collections_retail_tx | float64 | Ratio | Total sales tax collected in Texas from retailers over a one month period. | Feature | \n",
    "| total_sales_tax_collections_tx | float64 | Ratio | Total sales tax collected in Texas over a one month period. | Feature | \n",
    "| retail_gasoline_price_tx | float64 | Ratio | Average price of gasoline at the pump paid by TX consumers. | Feature | \n",
    "| retail_diesel_price_tx | float64 | Ratio | Average price paid by TX consumers for diesel fuel at the pump. | Feature | \n",
    "| precipitation_inches | float64 | Ratio | Mean daily air temperature on the date of the incident in and around Austin as measured by seven Austin area NOAA weather stations. | Feature | \n",
    "| mean_temp_f | float64 | Interval | Mean daily precipitation on the date of the incident in and around Austin as measured by seven Austin area NOAA weather stations. | Feature | \n",
    "| population_per_100ksqft | float64 | Ratio | Estimated total population of a given zip code per 100,000 square feet.  Measure of population density. | Feature | \n",
    "| dow__0 | uint8 | Interval | Indicator variable for day of week = Sunday | Feature | \n",
    "| dow__1 | uint8 | Interval | Indicator variable for day of week = Monday | Feature | \n",
    "| dow__2 | uint8 | Interval | Indicator variable for day of week = Tuesday | Feature | \n",
    "| dow__3 | uint8 | Interval | Indicator variable for day of week = Wednesday | Feature | \n",
    "| dow__4 | uint8 | Interval | Indicator variable for day of week = Thursday | Feature | \n",
    "| dow__5 | uint8 | Interval | Indicator variable for day of week = Friday | Feature | \n",
    "| dow__6 | uint8 | Interval | Indicator variable for day of week = Saturday | Feature | \n",
    "| year__2011 | uint8 | Interval | Indicator variable for year = 2011 | Feature | \n",
    "| year__2012 | uint8 | Interval | Indicator variable for year = 2012 | Feature | \n",
    "| year__2013 | uint8 | Interval | Indicator variable for year = 2013 | Feature | \n",
    "| year__2014 | uint8 | Interval | Indicator variable for year = 2014 | Feature | \n",
    "| year__2015 | uint8 | Interval | Indicator variable for year = 2015 | Feature | \n",
    "| postal_code__75078 | uint8 | Interval | Indicator variable for postal code = 75078 | Feature | \n",
    "| postal_code__78610 | uint8 | Interval | Indicator variable for postal code = 78610 | Feature | \n",
    "| postal_code__78612 | uint8 | Interval | Indicator variable for postal code = 78612 | Feature | \n",
    "| postal_code__78613 | uint8 | Interval | Indicator variable for postal code = 78613 | Feature | \n",
    "| postal_code__78615 | uint8 | Interval | Indicator variable for postal code = 78615 | Feature | \n",
    "| postal_code__78616 | uint8 | Interval | Indicator variable for postal code = 78616 | Feature | \n",
    "| postal_code__78617 | uint8 | Interval | Indicator variable for postal code = 78617 | Feature | \n",
    "| postal_code__78621 | uint8 | Interval | Indicator variable for postal code = 78621 | Feature | \n",
    "| postal_code__78641 | uint8 | Interval | Indicator variable for postal code = 78641 | Feature | \n",
    "| postal_code__78645 | uint8 | Interval | Indicator variable for postal code = 78645 | Feature | \n",
    "| postal_code__78652 | uint8 | Interval | Indicator variable for postal code = 78652 | Feature | \n",
    "| postal_code__78653 | uint8 | Interval | Indicator variable for postal code = 78653 | Feature | \n",
    "| postal_code__78660 | uint8 | Interval | Indicator variable for postal code = 78660 | Feature | \n",
    "| postal_code__78664 | uint8 | Interval | Indicator variable for postal code = 78664 | Feature | \n",
    "| postal_code__78665 | uint8 | Interval | Indicator variable for postal code = 78665 | Feature | \n",
    "| postal_code__78681 | uint8 | Interval | Indicator variable for postal code = 78681 | Feature | \n",
    "| postal_code__78701 | uint8 | Interval | Indicator variable for postal code = 78701 | Feature | \n",
    "| postal_code__78702 | uint8 | Interval | Indicator variable for postal code = 78702 | Feature | \n",
    "| postal_code__78703 | uint8 | Interval | Indicator variable for postal code = 78703 | Feature | \n",
    "| postal_code__78704 | uint8 | Interval | Indicator variable for postal code = 78704 | Feature | \n",
    "| postal_code__78705 | uint8 | Interval | Indicator variable for postal code = 78705 | Feature | \n",
    "| postal_code__78712 | uint8 | Interval | Indicator variable for postal code = 78712 | Feature | \n",
    "| postal_code__78717 | uint8 | Interval | Indicator variable for postal code = 78717 | Feature | \n",
    "| postal_code__78719 | uint8 | Interval | Indicator variable for postal code = 78719 | Feature | \n",
    "| postal_code__78721 | uint8 | Interval | Indicator variable for postal code = 78721 | Feature | \n",
    "| postal_code__78722 | uint8 | Interval | Indicator variable for postal code = 78722 | Feature | \n",
    "| postal_code__78723 | uint8 | Interval | Indicator variable for postal code = 78723 | Feature | \n",
    "| postal_code__78724 | uint8 | Interval | Indicator variable for postal code = 78724 | Feature | \n",
    "| postal_code__78725 | uint8 | Interval | Indicator variable for postal code = 78725 | Feature | \n",
    "| postal_code__78726 | uint8 | Interval | Indicator variable for postal code = 78726 | Feature | \n",
    "| postal_code__78727 | uint8 | Interval | Indicator variable for postal code = 78727 | Feature | \n",
    "| postal_code__78728 | uint8 | Interval | Indicator variable for postal code = 78728 | Feature | \n",
    "| postal_code__78729 | uint8 | Interval | Indicator variable for postal code = 78729 | Feature | \n",
    "| postal_code__78730 | uint8 | Interval | Indicator variable for postal code = 78730 | Feature | \n",
    "| postal_code__78731 | uint8 | Interval | Indicator variable for postal code = 78731 | Feature | \n",
    "| postal_code__78732 | uint8 | Interval | Indicator variable for postal code = 78732 | Feature | \n",
    "| postal_code__78733 | uint8 | Interval | Indicator variable for postal code = 78733 | Feature | \n",
    "| postal_code__78734 | uint8 | Interval | Indicator variable for postal code = 78734 | Feature | \n",
    "| postal_code__78735 | uint8 | Interval | Indicator variable for postal code = 78735 | Feature | \n",
    "| postal_code__78736 | uint8 | Interval | Indicator variable for postal code = 78736 | Feature | \n",
    "| postal_code__78737 | uint8 | Interval | Indicator variable for postal code = 78737 | Feature | \n",
    "| postal_code__78738 | uint8 | Interval | Indicator variable for postal code = 78738 | Feature | \n",
    "| postal_code__78739 | uint8 | Interval | Indicator variable for postal code = 78739 | Feature | \n",
    "| postal_code__78741 | uint8 | Interval | Indicator variable for postal code = 78741 | Feature | \n",
    "| postal_code__78742 | uint8 | Interval | Indicator variable for postal code = 78742 | Feature | \n",
    "| postal_code__78744 | uint8 | Interval | Indicator variable for postal code = 78744 | Feature | \n",
    "| postal_code__78745 | uint8 | Interval | Indicator variable for postal code = 78745 | Feature | \n",
    "| postal_code__78746 | uint8 | Interval | Indicator variable for postal code = 78746 | Feature | \n",
    "| postal_code__78747 | uint8 | Interval | Indicator variable for postal code = 78747 | Feature | \n",
    "| postal_code__78748 | uint8 | Interval | Indicator variable for postal code = 78748 | Feature | \n",
    "| postal_code__78749 | uint8 | Interval | Indicator variable for postal code = 78749 | Feature | \n",
    "| postal_code__78750 | uint8 | Interval | Indicator variable for postal code = 78750 | Feature | \n",
    "| postal_code__78751 | uint8 | Interval | Indicator variable for postal code = 78751 | Feature | \n",
    "| postal_code__78752 | uint8 | Interval | Indicator variable for postal code = 78752 | Feature | \n",
    "| postal_code__78753 | uint8 | Interval | Indicator variable for postal code = 78753 | Feature | \n",
    "| postal_code__78754 | uint8 | Interval | Indicator variable for postal code = 78754 | Feature | \n",
    "| postal_code__78756 | uint8 | Interval | Indicator variable for postal code = 78756 | Feature | \n",
    "| postal_code__78757 | uint8 | Interval | Indicator variable for postal code = 78757 | Feature | \n",
    "| postal_code__78758 | uint8 | Interval | Indicator variable for postal code = 78758 | Feature | \n",
    "| postal_code__78759 | uint8 | Interval | Indicator variable for postal code = 78759 | Feature | \n",
    "| postal_code__78945 | uint8 | Interval | Indicator variable for postal code = 78945 | Feature | \n",
    "| dom__1 | uint8 | Interval | Indicator variable for day of month = 1 | Feature | \n",
    "| dom__2 | uint8 | Interval | Indicator variable for day of month = 2 | Feature | \n",
    "| dom__3 | uint8 | Interval | Indicator variable for day of month = 3 | Feature | \n",
    "| dom__4 | uint8 | Interval | Indicator variable for day of month = 4 | Feature | \n",
    "| dom__5 | uint8 | Interval | Indicator variable for day of month = 5 | Feature | \n",
    "| dom__6 | uint8 | Interval | Indicator variable for day of month = 6 | Feature | \n",
    "| dom__7 | uint8 | Interval | Indicator variable for day of month = 7 | Feature | \n",
    "| dom__8 | uint8 | Interval | Indicator variable for day of month = 8 | Feature | \n",
    "| dom__9 | uint8 | Interval | Indicator variable for day of month = 9 | Feature | \n",
    "| dom__10 | uint8 | Interval | Indicator variable for day of month = 10 | Feature | \n",
    "| dom__11 | uint8 | Interval | Indicator variable for day of month = 11 | Feature | \n",
    "| dom__12 | uint8 | Interval | Indicator variable for day of month = 12 | Feature | \n",
    "| dom__13 | uint8 | Interval | Indicator variable for day of month = 13 | Feature | \n",
    "| dom__14 | uint8 | Interval | Indicator variable for day of month = 14 | Feature | \n",
    "| dom__15 | uint8 | Interval | Indicator variable for day of month = 15 | Feature | \n",
    "| dom__16 | uint8 | Interval | Indicator variable for day of month = 16 | Feature | \n",
    "| dom__17 | uint8 | Interval | Indicator variable for day of month = 17 | Feature | \n",
    "| dom__18 | uint8 | Interval | Indicator variable for day of month = 18 | Feature | \n",
    "| dom__19 | uint8 | Interval | Indicator variable for day of month = 19 | Feature | \n",
    "| dom__20 | uint8 | Interval | Indicator variable for day of month = 20 | Feature | \n",
    "| dom__21 | uint8 | Interval | Indicator variable for day of month = 21 | Feature | \n",
    "| dom__22 | uint8 | Interval | Indicator variable for day of month = 22 | Feature | \n",
    "| dom__23 | uint8 | Interval | Indicator variable for day of month = 23 | Feature | \n",
    "| dom__24 | uint8 | Interval | Indicator variable for day of month = 24 | Feature | \n",
    "| dom__25 | uint8 | Interval | Indicator variable for day of month = 25 | Feature | \n",
    "| dom__26 | uint8 | Interval | Indicator variable for day of month = 26 | Feature | \n",
    "| dom__27 | uint8 | Interval | Indicator variable for day of month = 27 | Feature | \n",
    "| dom__28 | uint8 | Interval | Indicator variable for day of month = 28 | Feature | \n",
    "| dom__29 | uint8 | Interval | Indicator variable for day of month = 29 | Feature | \n",
    "| dom__30 | uint8 | Interval | Indicator variable for day of month = 30 | Feature | \n",
    "| dom__31 | uint8 | Interval | Indicator variable for day of month = 31 | Feature | \n",
    "| month__1 | uint8 | Interval | Indicator variable for day of month = 1 | Feature | \n",
    "| month__2 | uint8 | Interval | Indicator variable for day of month = 2 | Feature | \n",
    "| month__3 | uint8 | Interval | Indicator variable for day of month = 3 | Feature | \n",
    "| month__4 | uint8 | Interval | Indicator variable for day of month = 4 | Feature | \n",
    "| month__5 | uint8 | Interval | Indicator variable for day of month = 5 | Feature | \n",
    "| month__6 | uint8 | Interval | Indicator variable for day of month = 6 | Feature | \n",
    "| month__7 | uint8 | Interval | Indicator variable for day of month = 7 | Feature | \n",
    "| month__8 | uint8 | Interval | Indicator variable for day of month = 8 | Feature | \n",
    "| month__9 | uint8 | Interval | Indicator variable for day of month = 9 | Feature | \n",
    "| month__10 | uint8 | Interval | Indicator variable for day of month = 10 | Feature | \n",
    "| month__11 | uint8 | Interval | Indicator variable for day of month = 11 | Feature | \n",
    "| month__12 | uint8 | Interval | Indicator variable for day of month = 12 | Feature | \n",
    "| daily_incidents_per_25k_population | float64 | Ratio | Count of incident occurences by day and postal code per 25,000 residents. | Regression Target | \n",
    "| high_loi | int64 | Interval | Binary response variable indicating whether the daily incident count for a given date and postal code exceeded the threshold of 17 incidents per 25,000. | Classification Target | "
   ]
  },
  {
   "cell_type": "markdown",
   "metadata": {},
   "source": [
    "---"
   ]
  },
  {
   "cell_type": "markdown",
   "metadata": {},
   "source": [
    "## Data Split"
   ]
  },
  {
   "cell_type": "markdown",
   "metadata": {},
   "source": [
    "For our cross validation splitting strategy, we employ stratified $k$-fold cross validation.  In $k$-fold cross-validation the data is first divided into $k$ approximately equal sized folds. Next, $k$ loops of training and testing are performed such that for each loop a different fold of the data is witheld for testing while the other $k - 1$ folds are used for training.\n",
    "\n",
    "Because our data are imbalanced, the stratified $k$-folds method is superior for our uses. In the $k$-folds method, the subsamples (folds) are selected so as to roughly maintain the class proportions of the whole sample.  In this way training and testing occurs against representative proportions of the two classes.  We selected $k=10$ for the stratified cross validation of our models as this number of folds tends to reduce variance while remaining mostly unbiased.  [2]\n",
    "\n",
    "\n",
    "The figure below depicts the stratified $k$-fold strategy for our binary class imbalance ratio."
   ]
  },
  {
   "cell_type": "markdown",
   "metadata": {},
   "source": [
    "![](img/stratified-k-fold-cv.png)"
   ]
  },
  {
   "cell_type": "code",
   "execution_count": 22,
   "metadata": {},
   "outputs": [
    {
     "name": "stdout",
     "output_type": "stream",
     "text": [
      "StratifiedKFold(n_splits=10, random_state=24, shuffle=False)\n"
     ]
    }
   ],
   "source": [
    "from sklearn.model_selection import StratifiedKFold\n",
    "\n",
    "skf = StratifiedKFold(n_splits=10 # k folds = 10\n",
    "                      , random_state=24)\n",
    "skf.get_n_splits(Xs_trn_tst_scl, y_val_reg)\n",
    "\n",
    "print(skf)"
   ]
  },
  {
   "cell_type": "markdown",
   "metadata": {},
   "source": [
    "We will utilize this cross validation strategy within a `gridsearchCV` object, which will enable us to exhaustively search a hyperparameter space of our definition for each classifier and regressor while performing stratified k-fold on each model configuration."
   ]
  },
  {
   "cell_type": "markdown",
   "metadata": {},
   "source": [
    "<div style='margin-left:0%;margin-right:0%;margin-top:0px;background-color:#d3d3d3;padding:1px;'></div>"
   ]
  },
  {
   "cell_type": "markdown",
   "metadata": {},
   "source": [
    "# Classification"
   ]
  },
  {
   "cell_type": "markdown",
   "metadata": {},
   "source": [
    "---\n",
    "## Logistic Regression"
   ]
  },
  {
   "cell_type": "markdown",
   "metadata": {},
   "source": [
    "### General  \n",
    "Logistic regression is a machine learning and statistical method for making predictions about a binary response using data in which there are one or more independent variables. In this case, the target variable has only two classes (i.e. binary).\n",
    "\n",
    "### Advantages of Logistic Regression  \n",
    " - While target classes must be discrete (i.e. categorical), inputs can be both continuous and categorical (provided they are properly encoded)\n",
    " - The logit function produces a probabilistic interpretation, and the algorithm can be regularized to avoid overfitting. [4]\n",
    " - When inputs are converted to z-scores, relative importance of features is very easy to interpret\n",
    " - Logistic regression will work better if there's a single decision boundary.  In other words, the classes should be linearly separable for best results. [3]\n",
    " - Logistic regression is relatively simple when compared to other algorithms, and thus is easier to understand generally\n",
    " \n",
    "### Disadvantages of Logistic Regression\n",
    " - Target classes must be discrete.  This is only a disadvantage if the task is one of regression, as classification problems generally have discrete outcomes.\n",
    " - Works best when classes are linearly separable.  Said another way, this method does not work well for non-linear data.  Non-linear inputs must be transformed to be linear.\n",
    " - Does not perform well with large feature space"
   ]
  },
  {
   "cell_type": "markdown",
   "metadata": {},
   "source": [
    "---\n",
    "### Modeling"
   ]
  },
  {
   "cell_type": "markdown",
   "metadata": {},
   "source": [
    "Import necessary packages.  `GridSearchCV`, `confusion_matrix`, `accuracy_score`, and `auc` will be used for all three classification models."
   ]
  },
  {
   "cell_type": "code",
   "execution_count": 23,
   "metadata": {},
   "outputs": [],
   "source": [
    "from sklearn.linear_model import LogisticRegression\n",
    "from sklearn.model_selection import GridSearchCV\n",
    "from sklearn.metrics import confusion_matrix, make_scorer, accuracy_score, roc_curve, auc, recall_score"
   ]
  },
  {
   "cell_type": "markdown",
   "metadata": {},
   "source": [
    "Create a function to calculation our performance metric (\"composite score\"). Make a scorer from this function which we can then pass to `GridSearchCV` for scoring each model configuration."
   ]
  },
  {
   "cell_type": "code",
   "execution_count": 24,
   "metadata": {},
   "outputs": [],
   "source": [
    "def score_func(y, y_pred, **kwargs):\n",
    "    acc = np.float64(accuracy_score(y, y_pred))\n",
    "    cm = confusion_matrix(y, y_pred)\n",
    "    tp = np.float64(cm[1][1])\n",
    "    fn = np.float64(cm[1][0])\n",
    "    tpr = tp / (tp + fn)\n",
    "    comp_score = np.sqrt((1+acc)*(1+tpr)) - 1\n",
    "    return comp_score\n",
    "\n",
    "comp_scorer = make_scorer(score_func=score_func, greater_is_better=True)"
   ]
  },
  {
   "cell_type": "markdown",
   "metadata": {},
   "source": [
    "Instantiate a logistic regression classifier object.  Note that we pass no parameters to the object as this will occur during the hyperparameter search conducted by the `GridSearchCV` object."
   ]
  },
  {
   "cell_type": "code",
   "execution_count": 25,
   "metadata": {},
   "outputs": [],
   "source": [
    "# create the classifier instance\n",
    "logreg = LogisticRegression()"
   ]
  },
  {
   "cell_type": "markdown",
   "metadata": {},
   "source": [
    "Establish hyperparameter space to be grid searched."
   ]
  },
  {
   "cell_type": "code",
   "execution_count": 26,
   "metadata": {},
   "outputs": [],
   "source": [
    "parameters = {'dual':(True, False)\n",
    "    , 'C':[0.1,1,10]\n",
    "    ,'class_weight':[{0: w} for w in [1, 2, 4, 6, 10]]}"
   ]
  },
  {
   "cell_type": "markdown",
   "metadata": {},
   "source": [
    "Create a `GridSearchCV` object.  In our configuration of this object, we pass it the \"blank\" logistic regression classifier, the `StratifiedKFold` object where $k = 10$, the hyperparameter object from the previous cell, and the composite scorer we previously created.  Additionally, we instruct the grid search object to execute two jobs simultaneously (i.e. parallel execution)."
   ]
  },
  {
   "cell_type": "code",
   "execution_count": 27,
   "metadata": {},
   "outputs": [],
   "source": [
    "# create a grid search object\n",
    "lr_clf = GridSearchCV(estimator=logreg\n",
    "                   , n_jobs=2 # parallel execution\n",
    "                   , verbose=1 # low verbosity\n",
    "                   , param_grid=parameters\n",
    "                   , cv=skf # KFolds = 10\n",
    "                   , scoring=comp_scorer)"
   ]
  },
  {
   "cell_type": "markdown",
   "metadata": {},
   "source": [
    "Having created our grid search object, we now pass it training data and begin the hyperparameter search."
   ]
  },
  {
   "cell_type": "code",
   "execution_count": 28,
   "metadata": {
    "scrolled": false
   },
   "outputs": [
    {
     "name": "stdout",
     "output_type": "stream",
     "text": [
      "Fitting 10 folds for each of 30 candidates, totalling 300 fits\n"
     ]
    },
    {
     "name": "stderr",
     "output_type": "stream",
     "text": [
      "[Parallel(n_jobs=2)]: Done  46 tasks      | elapsed:  1.4min\n",
      "[Parallel(n_jobs=2)]: Done 196 tasks      | elapsed:  7.4min\n",
      "[Parallel(n_jobs=2)]: Done 300 out of 300 | elapsed: 12.5min finished\n"
     ]
    },
    {
     "data": {
      "text/plain": [
       "GridSearchCV(cv=StratifiedKFold(n_splits=10, random_state=24, shuffle=False),\n",
       "       error_score='raise',\n",
       "       estimator=LogisticRegression(C=1.0, class_weight=None, dual=False, fit_intercept=True,\n",
       "          intercept_scaling=1, max_iter=100, multi_class='ovr', n_jobs=1,\n",
       "          penalty='l2', random_state=None, solver='liblinear', tol=0.0001,\n",
       "          verbose=0, warm_start=False),\n",
       "       fit_params=None, iid=True, n_jobs=2,\n",
       "       param_grid={'dual': (True, False), 'C': [0.1, 1, 10], 'class_weight': [{0: 1}, {0: 2}, {0: 4}, {0: 6}, {0: 10}]},\n",
       "       pre_dispatch='2*n_jobs', refit=True, return_train_score='warn',\n",
       "       scoring=make_scorer(score_func), verbose=1)"
      ]
     },
     "execution_count": 28,
     "metadata": {},
     "output_type": "execute_result"
    }
   ],
   "source": [
    "lr_clf.fit(Xs_trn_tst_scl, y_trn_tst_clf)"
   ]
  },
  {
   "cell_type": "markdown",
   "metadata": {},
   "source": [
    "With our grid search process complete, we can now look at models ranked according to their mean test score (where $n=k=10$).  Our grid search produced 30 models, but we'll just look at the best 10 models."
   ]
  },
  {
   "cell_type": "code",
   "execution_count": 29,
   "metadata": {
    "scrolled": false
   },
   "outputs": [
    {
     "data": {
      "text/html": [
       "<div>\n",
       "<style scoped>\n",
       "    .dataframe tbody tr th:only-of-type {\n",
       "        vertical-align: middle;\n",
       "    }\n",
       "\n",
       "    .dataframe tbody tr th {\n",
       "        vertical-align: top;\n",
       "    }\n",
       "\n",
       "    .dataframe thead th {\n",
       "        text-align: right;\n",
       "    }\n",
       "</style>\n",
       "<table border=\"1\" class=\"dataframe\">\n",
       "  <thead>\n",
       "    <tr style=\"text-align: right;\">\n",
       "      <th></th>\n",
       "      <th>rank_test_score</th>\n",
       "      <th>mean_test_score</th>\n",
       "      <th>mean_train_score</th>\n",
       "      <th>param_C</th>\n",
       "      <th>param_class_weight</th>\n",
       "      <th>param_dual</th>\n",
       "      <th>std_test_score</th>\n",
       "      <th>std_train_score</th>\n",
       "    </tr>\n",
       "  </thead>\n",
       "  <tbody>\n",
       "    <tr>\n",
       "      <th>0</th>\n",
       "      <td>1</td>\n",
       "      <td>0.853842</td>\n",
       "      <td>0.882315</td>\n",
       "      <td>0.1</td>\n",
       "      <td>{0: 1}</td>\n",
       "      <td>True</td>\n",
       "      <td>0.041111</td>\n",
       "      <td>0.001948</td>\n",
       "    </tr>\n",
       "    <tr>\n",
       "      <th>1</th>\n",
       "      <td>2</td>\n",
       "      <td>0.853810</td>\n",
       "      <td>0.882393</td>\n",
       "      <td>0.1</td>\n",
       "      <td>{0: 1}</td>\n",
       "      <td>False</td>\n",
       "      <td>0.041076</td>\n",
       "      <td>0.001925</td>\n",
       "    </tr>\n",
       "    <tr>\n",
       "      <th>20</th>\n",
       "      <td>3</td>\n",
       "      <td>0.849904</td>\n",
       "      <td>0.872741</td>\n",
       "      <td>10</td>\n",
       "      <td>{0: 1}</td>\n",
       "      <td>True</td>\n",
       "      <td>0.050334</td>\n",
       "      <td>0.010776</td>\n",
       "    </tr>\n",
       "    <tr>\n",
       "      <th>10</th>\n",
       "      <td>4</td>\n",
       "      <td>0.849050</td>\n",
       "      <td>0.882862</td>\n",
       "      <td>1</td>\n",
       "      <td>{0: 1}</td>\n",
       "      <td>True</td>\n",
       "      <td>0.044233</td>\n",
       "      <td>0.002086</td>\n",
       "    </tr>\n",
       "    <tr>\n",
       "      <th>11</th>\n",
       "      <td>5</td>\n",
       "      <td>0.848674</td>\n",
       "      <td>0.882900</td>\n",
       "      <td>1</td>\n",
       "      <td>{0: 1}</td>\n",
       "      <td>False</td>\n",
       "      <td>0.043971</td>\n",
       "      <td>0.002290</td>\n",
       "    </tr>\n",
       "    <tr>\n",
       "      <th>21</th>\n",
       "      <td>6</td>\n",
       "      <td>0.846895</td>\n",
       "      <td>0.882939</td>\n",
       "      <td>10</td>\n",
       "      <td>{0: 1}</td>\n",
       "      <td>False</td>\n",
       "      <td>0.044244</td>\n",
       "      <td>0.002266</td>\n",
       "    </tr>\n",
       "    <tr>\n",
       "      <th>24</th>\n",
       "      <td>7</td>\n",
       "      <td>0.806513</td>\n",
       "      <td>0.835550</td>\n",
       "      <td>10</td>\n",
       "      <td>{0: 4}</td>\n",
       "      <td>True</td>\n",
       "      <td>0.041886</td>\n",
       "      <td>0.017271</td>\n",
       "    </tr>\n",
       "    <tr>\n",
       "      <th>22</th>\n",
       "      <td>8</td>\n",
       "      <td>0.800874</td>\n",
       "      <td>0.839796</td>\n",
       "      <td>10</td>\n",
       "      <td>{0: 2}</td>\n",
       "      <td>True</td>\n",
       "      <td>0.053126</td>\n",
       "      <td>0.011026</td>\n",
       "    </tr>\n",
       "    <tr>\n",
       "      <th>2</th>\n",
       "      <td>9</td>\n",
       "      <td>0.800517</td>\n",
       "      <td>0.832312</td>\n",
       "      <td>0.1</td>\n",
       "      <td>{0: 2}</td>\n",
       "      <td>True</td>\n",
       "      <td>0.054073</td>\n",
       "      <td>0.003035</td>\n",
       "    </tr>\n",
       "    <tr>\n",
       "      <th>3</th>\n",
       "      <td>10</td>\n",
       "      <td>0.800509</td>\n",
       "      <td>0.832243</td>\n",
       "      <td>0.1</td>\n",
       "      <td>{0: 2}</td>\n",
       "      <td>False</td>\n",
       "      <td>0.053992</td>\n",
       "      <td>0.003008</td>\n",
       "    </tr>\n",
       "  </tbody>\n",
       "</table>\n",
       "</div>"
      ],
      "text/plain": [
       "    rank_test_score  mean_test_score  mean_train_score param_C  \\\n",
       "0                 1         0.853842          0.882315     0.1   \n",
       "1                 2         0.853810          0.882393     0.1   \n",
       "20                3         0.849904          0.872741      10   \n",
       "10                4         0.849050          0.882862       1   \n",
       "11                5         0.848674          0.882900       1   \n",
       "21                6         0.846895          0.882939      10   \n",
       "24                7         0.806513          0.835550      10   \n",
       "22                8         0.800874          0.839796      10   \n",
       "2                 9         0.800517          0.832312     0.1   \n",
       "3                10         0.800509          0.832243     0.1   \n",
       "\n",
       "   param_class_weight param_dual  std_test_score  std_train_score  \n",
       "0              {0: 1}       True        0.041111         0.001948  \n",
       "1              {0: 1}      False        0.041076         0.001925  \n",
       "20             {0: 1}       True        0.050334         0.010776  \n",
       "10             {0: 1}       True        0.044233         0.002086  \n",
       "11             {0: 1}      False        0.043971         0.002290  \n",
       "21             {0: 1}      False        0.044244         0.002266  \n",
       "24             {0: 4}       True        0.041886         0.017271  \n",
       "22             {0: 2}       True        0.053126         0.011026  \n",
       "2              {0: 2}       True        0.054073         0.003035  \n",
       "3              {0: 2}      False        0.053992         0.003008  "
      ]
     },
     "execution_count": 29,
     "metadata": {},
     "output_type": "execute_result"
    }
   ],
   "source": [
    "logreg_results = pd.DataFrame(lr_clf.cv_results_)\n",
    "logreg_results.sort_values(by=\"rank_test_score\", inplace=True)\n",
    "headers = ['rank_test_score','mean_test_score','mean_train_score','param_C','param_class_weight','param_dual','std_test_score','std_train_score']\n",
    "logreg_results[headers].head(10)"
   ]
  },
  {
   "cell_type": "markdown",
   "metadata": {},
   "source": [
    "Observations about top ranked models:\n",
    " - Top six models all utilized balanced class weights, suggesting changing class weightings in the models configuration does not produce superior results.  \n",
    " - The values of the $C$ parameter are relatively evenly distributed throughout the rankings.  The sum of their ranks is as follows:  {$0.1$:$157$, $1$:$160$, $10$:$148$}.\n",
    " - The values of the `dual` parameter are also somewhat evenly distributed throughout the rankings as with their summed ranks as follows:  {dual=True:$201$, dual=False:$264$}.\n",
    " - The range of the mean test score for the top five models is only 0.69 percentage points!  This would suggest that our selection from that group is somewhat arbitrary as to which is truly the best model."
   ]
  },
  {
   "cell_type": "markdown",
   "metadata": {},
   "source": [
    "Next, we print the parameterization of the best estimator."
   ]
  },
  {
   "cell_type": "code",
   "execution_count": 30,
   "metadata": {},
   "outputs": [
    {
     "data": {
      "text/plain": [
       "LogisticRegression(C=0.1, class_weight={0: 1}, dual=True, fit_intercept=True,\n",
       "          intercept_scaling=1, max_iter=100, multi_class='ovr', n_jobs=1,\n",
       "          penalty='l2', random_state=None, solver='liblinear', tol=0.0001,\n",
       "          verbose=0, warm_start=False)"
      ]
     },
     "execution_count": 30,
     "metadata": {},
     "output_type": "execute_result"
    }
   ],
   "source": [
    "lr_clf.best_estimator_"
   ]
  },
  {
   "cell_type": "markdown",
   "metadata": {},
   "source": [
    "We instantiate a logistic regression object using the parameters of the best model."
   ]
  },
  {
   "cell_type": "code",
   "execution_count": 31,
   "metadata": {},
   "outputs": [],
   "source": [
    "best_lr_clf = LogisticRegression(C=0.1, class_weight={0: 1}, dual=True, fit_intercept=True,\n",
    "          intercept_scaling=1, max_iter=100, multi_class='ovr', n_jobs=1,\n",
    "          penalty='l2', random_state=None, solver='liblinear', tol=0.0001,\n",
    "          verbose=0, warm_start=False)"
   ]
  },
  {
   "cell_type": "markdown",
   "metadata": {},
   "source": [
    "This new model is trained on the entire \"train-test\" set.  After training, we predict against the validation set."
   ]
  },
  {
   "cell_type": "code",
   "execution_count": 32,
   "metadata": {},
   "outputs": [],
   "source": [
    "# fit the model with best parameters to all the data\n",
    "best_lr_clf.fit(Xs_trn_tst_scl, y_trn_tst_clf)\n",
    "\n",
    "# make predictions against unseen data (validation set)\n",
    "lr_y_hat = best_lr_clf.predict(Xs_val_scl)"
   ]
  },
  {
   "cell_type": "markdown",
   "metadata": {},
   "source": [
    "---\n",
    "### Logistic Regression Best Model Evaluation"
   ]
  },
  {
   "cell_type": "code",
   "execution_count": 33,
   "metadata": {},
   "outputs": [
    {
     "name": "stdout",
     "output_type": "stream",
     "text": [
      "The best logistic regression model produces a composite \n",
      "score of 82.25 out of 100 when predicting against the validation data set\n"
     ]
    }
   ],
   "source": [
    "lr_comp_score = round(score_func(y_val_clf, lr_y_hat),4) * 100\n",
    "print(\"The best logistic regression model produces a composite \\nscore of {score}\" \n",
    "      \" out of 100 when predicting against the validation data set\".format(score=lr_comp_score))"
   ]
  },
  {
   "cell_type": "markdown",
   "metadata": {},
   "source": [
    "The composite score of our  best model underperforms our training expectations by a a few percentage points."
   ]
  },
  {
   "cell_type": "code",
   "execution_count": 34,
   "metadata": {},
   "outputs": [],
   "source": [
    "import itertools\n",
    "\n",
    "def plot_confusion_matrix(cm, classes,\n",
    "                          normalize=False,\n",
    "                          title='Confusion matrix',\n",
    "                          cmap=plt.cm.Blues):\n",
    "    \"\"\"\n",
    "    This function prints and plots the confusion matrix.\n",
    "    Normalization can be applied by setting `normalize=True`.\n",
    "    \"\"\"\n",
    "    if normalize:\n",
    "        cm = cm.astype('float') / cm.sum(axis=1)[:, np.newaxis]\n",
    "        print(\"Normalized confusion matrix\")\n",
    "    else:\n",
    "        print('Confusion matrix, without normalization')\n",
    "\n",
    "    plt.imshow(cm, interpolation='nearest', cmap=cmap)\n",
    "    plt.title(title)\n",
    "    plt.colorbar()\n",
    "    tick_marks = np.arange(len(classes))\n",
    "    plt.xticks(tick_marks, classes, rotation=45)\n",
    "    plt.yticks(tick_marks, classes)\n",
    "\n",
    "    fmt = '.2f' if normalize else 'd'\n",
    "    thresh = cm.max() / 2.\n",
    "    for i, j in itertools.product(range(cm.shape[0]), range(cm.shape[1])):\n",
    "        plt.text(j, i, format(cm[i, j], fmt),\n",
    "                 horizontalalignment=\"center\",\n",
    "                 color=\"white\" if cm[i, j] > thresh else \"black\")\n",
    "\n",
    "    plt.tight_layout()\n",
    "    plt.ylabel('True label')\n",
    "    plt.xlabel('Predicted label')"
   ]
  },
  {
   "cell_type": "code",
   "execution_count": 35,
   "metadata": {},
   "outputs": [
    {
     "name": "stdout",
     "output_type": "stream",
     "text": [
      "Confusion matrix, without normalization\n"
     ]
    },
    {
     "data": {
      "image/png": "[encoded data removed]",
      "text/plain": [
       "<Figure size 432x288 with 2 Axes>"
      ]
     },
     "metadata": {},
     "output_type": "display_data"
    }
   ],
   "source": [
    "conf = confusion_matrix(y_val_clf, lr_y_hat)\n",
    "ttl = \"Confusion Matrix\"\n",
    "plot_confusion_matrix(conf, classes=[\"low incident count\",\"high incident count\"], title = ttl)\n",
    "plt.show()"
   ]
  },
  {
   "cell_type": "code",
   "execution_count": 36,
   "metadata": {},
   "outputs": [
    {
     "name": "stdout",
     "output_type": "stream",
     "text": [
      "Accuracy = 0.9117100371747212\tTrue Positive Rate = 0.7374392220421394\n"
     ]
    }
   ],
   "source": [
    "tpr = recall_score(y_val_clf, lr_y_hat)\n",
    "acc = accuracy_score(y_val_clf, lr_y_hat)\n",
    "print_txt = \"Accuracy = {acc}\\tTrue Positive Rate = {tpr}\".format(acc=acc, tpr=tpr)\n",
    "print(print_txt)"
   ]
  },
  {
   "cell_type": "markdown",
   "metadata": {},
   "source": [
    "Our confusion matrix and the above breakdown of the elements of our composite score (accuracy and TPR) show that our best logistic model does quite well at predicting the majority class (low daily incidents per 25,000 residents) and significantly worse when predicting for the minority class.  In other words, our TPR dragged down the composite score."
   ]
  },
  {
   "cell_type": "markdown",
   "metadata": {},
   "source": [
    "In the context of our scenario, presenting these data to the APD, we would explain that a confusion matrix helps explain how confused our classifier is. A perfect classifier would have all predictions fall into the negatively sloped diagonal cells. This type of plot easily illuminates the accuracy, TPR, and composite score calculations, all of which can be derived from this simple plot.  "
   ]
  },
  {
   "cell_type": "markdown",
   "metadata": {},
   "source": [
    "Next we plot ROC curves for both classes using the best logistic regression model."
   ]
  },
  {
   "cell_type": "code",
   "execution_count": 37,
   "metadata": {},
   "outputs": [
    {
     "data": {
      "image/png": "[encoded data removed]",
      "text/plain": [
       "<Figure size 432x288 with 1 Axes>"
      ]
     },
     "metadata": {},
     "output_type": "display_data"
    }
   ],
   "source": [
    "import scikitplot as skplt\n",
    "\n",
    "y_probas = best_lr_clf.predict_proba(Xs_val_scl)\n",
    "skplt.metrics.plot_roc(y_val_clf, y_probas)\n",
    "\n",
    "plt.show()"
   ]
  },
  {
   "cell_type": "markdown",
   "metadata": {},
   "source": [
    "The ROC curves figure above is a plot of the true positive rate (TPR) against the false positive rate (FPR) for different possible cutpoints (i.e. thresholds) of the probabilities output by the logistic function of our model.  This plot depicts the trade off between TPR and FPR, where increases in TPR will require an increase in the FPR.\n",
    "\n",
    "The closer the curves get to the upper left corner and the top of the plot, the more accurate our classifier is.  Conversely, the closer the ROC curves get to the dashed 45$^{\\circ}$ line, the more our binary classifier approaches a model which predicts as well as random chance.  In other words, the 45$^{\\circ}$ represents \"random coin flip classifier.\"\n",
    "\n",
    "The area under the curve (AUC) is essentially a measure of how well our classifier can distinguish between the two classes.  As we see in the plot, our AUC is quite high for both classes at 0.96."
   ]
  },
  {
   "cell_type": "markdown",
   "metadata": {},
   "source": [
    "### Logistic Regression Best Model Feature Importance"
   ]
  },
  {
   "cell_type": "code",
   "execution_count": 38,
   "metadata": {},
   "outputs": [],
   "source": [
    "feature_names = [col for col in df_test.drop(['high_loi', 'daily_incidents_per_25k_population'], axis=1).columns]\n",
    "weights = best_lr_clf.coef_[0]\n",
    "logreg_feature_importance_df = pd.DataFrame({'Feature_Name':feature_names,'Weights':weights})\n",
    "logreg_feature_importance_df['Absolute_Weight'] = np.abs(weights)\n",
    "logreg_feature_importance_df.sort_values('Absolute_Weight', inplace=True, ascending=False)\n"
   ]
  },
  {
   "cell_type": "code",
   "execution_count": 39,
   "metadata": {},
   "outputs": [
    {
     "data": {
      "image/png": "[encoded data removed]",
      "text/plain": [
       "<Figure size 432x288 with 1 Axes>"
      ]
     },
     "metadata": {},
     "output_type": "display_data"
    }
   ],
   "source": [
    "plt.style.use('ggplot')\n",
    "\n",
    "wt_plt_df = logreg_feature_importance_df.head(25)\n",
    "\n",
    "weights = pd.Series(wt_plt_df['Weights'].values,index=wt_plt_df['Feature_Name'])\n",
    "ax = weights.plot(kind='bar')\n",
    "\n",
    "\n",
    "ax.set_ylabel(\"Coefficient Magnitude\\n(z-score)\")\n",
    "plt.show()\n"
   ]
  },
  {
   "cell_type": "markdown",
   "metadata": {},
   "source": [
    "In examining the top 25 weights by absolute value, it is clear that location is the most important factor in determining level of daily incidents per 25,000 residents.\n",
    "\n",
    "The importance of location makes quite a bit of sense. For instance, the most significant feature, postal code 78701, is Downtown Austin. This is a densely populated area with a large number of bars and night clubs. It would make sense that an area such as this, with a high population, would have a higher probability of a high frequency of incidents. Coupled with the fact that large numbers of persons are individuals consuming alcohol (often at high volumes), and you have a recipe for incidents to occur.\n",
    "\n",
    "The next most significant feature is postal code 78702, an area just East of downtown Austin.  This area tends to be low income while also being more densely populated than much of the rest of Austin.  This area also has a higher concentration of nightlife establishments, likely leading to more frequent alcohol related incidents similar to Downtown.\n",
    "\n",
    "The next 22 most significant features are all location based. These locations act as proxies for and encode information of other variables (which are not present in our data), such as population, population density, socioeconomics, and so on.\n",
    "\n",
    "Finally, the 25th most significant feature is population per 100,000 square feet.  A more densely populated area seems to suggest a  higher probability of crime, even if the actual rate of crime remains the same as other locales, so this too makes sense as an influential feature."
   ]
  },
  {
   "cell_type": "markdown",
   "metadata": {},
   "source": [
    "---\n",
    "## Random Forest"
   ]
  },
  {
   "cell_type": "markdown",
   "metadata": {},
   "source": [
    "### General\n",
    "\n",
    "The Random Forest algorithm is an ensemble method where multiple decision tree classifiers are aggregated together thereby improving accuracy.  The individual decision trees comprise a random sample of the observations and a random selection of the features.  A single decision trees is considered to be a “weak learner”; however, when a group of individual trees (a forest) come together and vote for a final result, that process creates a “strong learner.”\n",
    "\n",
    "### Advantages of Random Forest\n",
    "\n",
    " - Random Forests are generally very accurate and are the workhorse of classification algorithms.  \n",
    " - They are faster to train because it selects a subset of predictors for each split this also improves the predictive power as the trees are therefore uncorrelated.  \n",
    " - They work well for large data sets because of the computational scalability.  \n",
    " - They also work well for data sets with high dimensionality and data sets with mixed data types.  \n",
    " - They specifically work well with categorical features having high cardinality (many possible values).  \n",
    " - They are robust to missing values in the data and outliers.  \n",
    " - From a modeling perspective they have relatively few hyperparameters to tune.  \n",
    " - The algorithm is not bound by linear constraints and will function with both linear and nonlinear data sets.  \n",
    "\n",
    "### Disadvantages of Random Forest\n",
    "\n",
    " - Random Forests can be prone to overfitting on the training data and not generalizing well to testing data.  \n",
    " - Needs larger number of observations for the randomization inherent in the algorithm process to work well—at least a few hundred samples per class.  \n",
    " - They have poor predictive ability outside of the range of the features (extrapolation).\n"
   ]
  },
  {
   "cell_type": "markdown",
   "metadata": {},
   "source": [
    "---\n",
    "### Modeling"
   ]
  },
  {
   "cell_type": "markdown",
   "metadata": {},
   "source": [
    "Instantiate a random forest classifier object. Note that we pass no parameters to the object as this will occur during the hyperparameter search conducted by the GridSearchCV object."
   ]
  },
  {
   "cell_type": "code",
   "execution_count": 40,
   "metadata": {},
   "outputs": [],
   "source": [
    "from sklearn.ensemble import RandomForestClassifier\n",
    "\n",
    "# create the classifier instance\n",
    "rfclf = RandomForestClassifier()"
   ]
  },
  {
   "cell_type": "markdown",
   "metadata": {},
   "source": [
    "Create a dictionary of hyperparameter values that will be passed to the grid search function.  \n",
    "`n_estimators` is the number of individual decision trees that will be created in the model.  \n",
    "`criterion` is the method of determing best split and is either the gini value or entropy value.  \n",
    "`max_depth` is the maximum depth of the decision trees or the maximum number of splits deep the tree is.  \n",
    "\n",
    "A preliminary grid search was performed that is not shown here.  A broad range of hyperparameters were used which resulted in an extremely time consuming model search which was deemed to be beyond the scope of this analysis.  We have slightly simplified the parameter search which we feel in is accord with the scope of this analysis.  The number of estimators (n_estimators) was choosen as it sets the number of decision trees in the forest; which equates to how many weak learners are aggregated together to achieve the final classification.  We set n_estimators at 10 and 100, 10 being a relatively small number of trees versus the number of features in the data and 100 being a more normal value.  We would have liked to run the model using a much larger number of trees but these proved to be too resource intensive.  Criterion was choosen because this calculation drives the decison element of the decision tree.  While, gini and entropy are known to give similar values we wanted to know which was more effective in this analysis.  Maximum features selected at each split (max_features) is an important parameter in the model as it determines the amount of randomness in the creation of each tree.  We used the default square root of the maximum number of features and compared that to 131, which is the actual maximum number of features. "
   ]
  },
  {
   "cell_type": "code",
   "execution_count": 41,
   "metadata": {},
   "outputs": [],
   "source": [
    "# establish parameters for gridsearch\n",
    "parameters = {'n_estimators': [10, 100]\n",
    "    , 'criterion':[\"gini\", \"entropy\"]\n",
    "    , 'max_features':(\"sqrt\", 131)\n",
    "    }"
   ]
  },
  {
   "cell_type": "markdown",
   "metadata": {},
   "source": [
    "Create a GridSearchCV object. In our configuration of this object, we pass it the \"blank\" random forest classifier, the StratifiedKFold object where $k=10$, the hyperparameter object from the previous cell, and the composite scorer we previously created. Additionally, we instruct the grid search object to execute two jobs simultaneously (i.e. parallel execution)."
   ]
  },
  {
   "cell_type": "code",
   "execution_count": 42,
   "metadata": {},
   "outputs": [],
   "source": [
    "# create a grid search object\n",
    "rf_clf = GridSearchCV(estimator=rfclf\n",
    "                   , n_jobs=2 # parallel execution\n",
    "                   , verbose=1 # low verbosity\n",
    "                   , param_grid=parameters\n",
    "                   , cv=skf # KFolds = 10\n",
    "                   , scoring=comp_scorer)"
   ]
  },
  {
   "cell_type": "markdown",
   "metadata": {},
   "source": [
    "Having created our grid search object, we now pass it training data and begin the hyperparameter search."
   ]
  },
  {
   "cell_type": "code",
   "execution_count": 43,
   "metadata": {},
   "outputs": [
    {
     "name": "stdout",
     "output_type": "stream",
     "text": [
      "Fitting 10 folds for each of 8 candidates, totalling 80 fits\n"
     ]
    },
    {
     "name": "stderr",
     "output_type": "stream",
     "text": [
      "[Parallel(n_jobs=2)]: Done  46 tasks      | elapsed:  7.1min\n",
      "[Parallel(n_jobs=2)]: Done  80 out of  80 | elapsed: 13.0min finished\n"
     ]
    },
    {
     "data": {
      "text/plain": [
       "GridSearchCV(cv=StratifiedKFold(n_splits=10, random_state=24, shuffle=False),\n",
       "       error_score='raise',\n",
       "       estimator=RandomForestClassifier(bootstrap=True, class_weight=None, criterion='gini',\n",
       "            max_depth=None, max_features='auto', max_leaf_nodes=None,\n",
       "            min_impurity_decrease=0.0, min_impurity_split=None,\n",
       "            min_samples_leaf=1, min_samples_split=2,\n",
       "            min_weight_fraction_leaf=0.0, n_estimators=10, n_jobs=1,\n",
       "            oob_score=False, random_state=None, verbose=0,\n",
       "            warm_start=False),\n",
       "       fit_params=None, iid=True, n_jobs=2,\n",
       "       param_grid={'n_estimators': [10, 100], 'criterion': ['gini', 'entropy'], 'max_features': ('sqrt', 131)},\n",
       "       pre_dispatch='2*n_jobs', refit=True, return_train_score='warn',\n",
       "       scoring=make_scorer(score_func), verbose=1)"
      ]
     },
     "execution_count": 43,
     "metadata": {},
     "output_type": "execute_result"
    }
   ],
   "source": [
    "rf_clf.fit(Xs_trn_tst_scl, y_trn_tst_clf)"
   ]
  },
  {
   "cell_type": "markdown",
   "metadata": {},
   "source": [
    "With our grid search process complete, we can now look at models ranked according to their mean test score (where $n=k=10$). The grid search produced 8 models."
   ]
  },
  {
   "cell_type": "code",
   "execution_count": 44,
   "metadata": {},
   "outputs": [
    {
     "data": {
      "text/html": [
       "<div>\n",
       "<style scoped>\n",
       "    .dataframe tbody tr th:only-of-type {\n",
       "        vertical-align: middle;\n",
       "    }\n",
       "\n",
       "    .dataframe tbody tr th {\n",
       "        vertical-align: top;\n",
       "    }\n",
       "\n",
       "    .dataframe thead th {\n",
       "        text-align: right;\n",
       "    }\n",
       "</style>\n",
       "<table border=\"1\" class=\"dataframe\">\n",
       "  <thead>\n",
       "    <tr style=\"text-align: right;\">\n",
       "      <th></th>\n",
       "      <th>rank_test_score</th>\n",
       "      <th>mean_test_score</th>\n",
       "      <th>mean_train_score</th>\n",
       "      <th>param_n_estimators</th>\n",
       "      <th>param_criterion</th>\n",
       "      <th>param_max_features</th>\n",
       "      <th>std_test_score</th>\n",
       "      <th>std_train_score</th>\n",
       "    </tr>\n",
       "  </thead>\n",
       "  <tbody>\n",
       "    <tr>\n",
       "      <th>7</th>\n",
       "      <td>1</td>\n",
       "      <td>0.746665</td>\n",
       "      <td>0.999955</td>\n",
       "      <td>100</td>\n",
       "      <td>entropy</td>\n",
       "      <td>131</td>\n",
       "      <td>0.086369</td>\n",
       "      <td>0.000033</td>\n",
       "    </tr>\n",
       "    <tr>\n",
       "      <th>6</th>\n",
       "      <td>2</td>\n",
       "      <td>0.733241</td>\n",
       "      <td>0.985104</td>\n",
       "      <td>10</td>\n",
       "      <td>entropy</td>\n",
       "      <td>131</td>\n",
       "      <td>0.084282</td>\n",
       "      <td>0.000780</td>\n",
       "    </tr>\n",
       "    <tr>\n",
       "      <th>3</th>\n",
       "      <td>3</td>\n",
       "      <td>0.724152</td>\n",
       "      <td>0.999968</td>\n",
       "      <td>100</td>\n",
       "      <td>gini</td>\n",
       "      <td>131</td>\n",
       "      <td>0.112965</td>\n",
       "      <td>0.000033</td>\n",
       "    </tr>\n",
       "    <tr>\n",
       "      <th>2</th>\n",
       "      <td>4</td>\n",
       "      <td>0.711291</td>\n",
       "      <td>0.985180</td>\n",
       "      <td>10</td>\n",
       "      <td>gini</td>\n",
       "      <td>131</td>\n",
       "      <td>0.108789</td>\n",
       "      <td>0.000665</td>\n",
       "    </tr>\n",
       "    <tr>\n",
       "      <th>5</th>\n",
       "      <td>5</td>\n",
       "      <td>0.695905</td>\n",
       "      <td>0.999939</td>\n",
       "      <td>100</td>\n",
       "      <td>entropy</td>\n",
       "      <td>sqrt</td>\n",
       "      <td>0.106161</td>\n",
       "      <td>0.000043</td>\n",
       "    </tr>\n",
       "    <tr>\n",
       "      <th>4</th>\n",
       "      <td>6</td>\n",
       "      <td>0.677528</td>\n",
       "      <td>0.985952</td>\n",
       "      <td>10</td>\n",
       "      <td>entropy</td>\n",
       "      <td>sqrt</td>\n",
       "      <td>0.112067</td>\n",
       "      <td>0.000828</td>\n",
       "    </tr>\n",
       "    <tr>\n",
       "      <th>1</th>\n",
       "      <td>7</td>\n",
       "      <td>0.647170</td>\n",
       "      <td>0.999968</td>\n",
       "      <td>100</td>\n",
       "      <td>gini</td>\n",
       "      <td>sqrt</td>\n",
       "      <td>0.135770</td>\n",
       "      <td>0.000036</td>\n",
       "    </tr>\n",
       "    <tr>\n",
       "      <th>0</th>\n",
       "      <td>8</td>\n",
       "      <td>0.638967</td>\n",
       "      <td>0.986134</td>\n",
       "      <td>10</td>\n",
       "      <td>gini</td>\n",
       "      <td>sqrt</td>\n",
       "      <td>0.128556</td>\n",
       "      <td>0.000698</td>\n",
       "    </tr>\n",
       "  </tbody>\n",
       "</table>\n",
       "</div>"
      ],
      "text/plain": [
       "   rank_test_score  mean_test_score  mean_train_score param_n_estimators  \\\n",
       "7                1         0.746665          0.999955                100   \n",
       "6                2         0.733241          0.985104                 10   \n",
       "3                3         0.724152          0.999968                100   \n",
       "2                4         0.711291          0.985180                 10   \n",
       "5                5         0.695905          0.999939                100   \n",
       "4                6         0.677528          0.985952                 10   \n",
       "1                7         0.647170          0.999968                100   \n",
       "0                8         0.638967          0.986134                 10   \n",
       "\n",
       "  param_criterion param_max_features  std_test_score  std_train_score  \n",
       "7         entropy                131        0.086369         0.000033  \n",
       "6         entropy                131        0.084282         0.000780  \n",
       "3            gini                131        0.112965         0.000033  \n",
       "2            gini                131        0.108789         0.000665  \n",
       "5         entropy               sqrt        0.106161         0.000043  \n",
       "4         entropy               sqrt        0.112067         0.000828  \n",
       "1            gini               sqrt        0.135770         0.000036  \n",
       "0            gini               sqrt        0.128556         0.000698  "
      ]
     },
     "execution_count": 44,
     "metadata": {},
     "output_type": "execute_result"
    }
   ],
   "source": [
    "rndfst_results = pd.DataFrame(rf_clf.cv_results_)\n",
    "rndfst_results.sort_values(by=\"rank_test_score\", inplace=True)\n",
    "headers = ['rank_test_score','mean_test_score','mean_train_score','param_n_estimators','param_criterion','param_max_features','std_test_score','std_train_score']\n",
    "rndfst_results[headers].head(10)"
   ]
  },
  {
   "cell_type": "markdown",
   "metadata": {},
   "source": [
    "Observations about the models:\n",
    "\n",
    "The models have mean test scores ranging from 0.62 to 0.74.  From this table we can see a clear ordering of which hyperparameters influence the mean test score.  The hyperparameters in order of descending influence are maximum features per tree, split criterion, and number of estimators (trees).  When the random forest algorithm was allowed to select 131 features, which is the total number of features in the data set, versus the square root of the maximum features (default setting), it outperformed by approximately 500 basis points.  Entropy as the split criterion showed an increase over gini as the split criterion.  The larger number of estimators, 100 versus 10, showed improved performance.  Suprisingly, the number of estimators (trees) in each random forest was not the most influential hyperparamter in the model search.  We suspect that, given more time and resources, further increasing the number of estimators would increase its importance in the model and improve accuracy.\n",
    "\n",
    "Next, we print the parameterization of the best estimator."
   ]
  },
  {
   "cell_type": "code",
   "execution_count": 45,
   "metadata": {},
   "outputs": [
    {
     "data": {
      "text/plain": [
       "RandomForestClassifier(bootstrap=True, class_weight=None, criterion='entropy',\n",
       "            max_depth=None, max_features=131, max_leaf_nodes=None,\n",
       "            min_impurity_decrease=0.0, min_impurity_split=None,\n",
       "            min_samples_leaf=1, min_samples_split=2,\n",
       "            min_weight_fraction_leaf=0.0, n_estimators=100, n_jobs=1,\n",
       "            oob_score=False, random_state=None, verbose=0,\n",
       "            warm_start=False)"
      ]
     },
     "execution_count": 45,
     "metadata": {},
     "output_type": "execute_result"
    }
   ],
   "source": [
    "rf_clf.best_estimator_"
   ]
  },
  {
   "cell_type": "markdown",
   "metadata": {},
   "source": [
    "We instantiate a random forest classifier object using the parameters of the best model."
   ]
  },
  {
   "cell_type": "code",
   "execution_count": 46,
   "metadata": {},
   "outputs": [],
   "source": [
    "best_rf_clf=RandomForestClassifier(bootstrap=True, class_weight=None, criterion='entropy',\n",
    "            max_depth=None, max_features=131, max_leaf_nodes=None,\n",
    "            min_impurity_decrease=0.0, min_impurity_split=None,\n",
    "            min_samples_leaf=1, min_samples_split=2,\n",
    "            min_weight_fraction_leaf=0.0, n_estimators=100, n_jobs=1,\n",
    "            oob_score=False, random_state=None, verbose=0,\n",
    "            warm_start=False)"
   ]
  },
  {
   "cell_type": "markdown",
   "metadata": {},
   "source": [
    "This new model is trained on the entire \"train-test\" set. After training, we predict against the validation set."
   ]
  },
  {
   "cell_type": "code",
   "execution_count": 47,
   "metadata": {},
   "outputs": [],
   "source": [
    "# fit the model with best parameters to ALL THE DATA!\n",
    "best_rf_clf.fit(Xs_trn_tst_scl, y_trn_tst_clf)\n",
    "\n",
    "# make predictions against unseen data (validation set)\n",
    "rf_y_hat = best_rf_clf.predict(Xs_val_scl)"
   ]
  },
  {
   "cell_type": "markdown",
   "metadata": {},
   "source": [
    "---\n",
    "### Random Forest Best Model Evaluation"
   ]
  },
  {
   "cell_type": "code",
   "execution_count": 48,
   "metadata": {},
   "outputs": [
    {
     "name": "stdout",
     "output_type": "stream",
     "text": [
      "The best random forest model produces a composite \n",
      "score of 81.47999999999999 out of 100 when predicting against the validation data set\n"
     ]
    }
   ],
   "source": [
    "rf_comp_score = round(score_func(y_val_clf, rf_y_hat),4) * 100\n",
    "print(\"The best random forest model produces a composite \\nscore of {score}\" \n",
    "      \" out of 100 when predicting against the validation data set\".format(score=rf_comp_score))"
   ]
  },
  {
   "cell_type": "code",
   "execution_count": 49,
   "metadata": {},
   "outputs": [
    {
     "name": "stdout",
     "output_type": "stream",
     "text": [
      "Confusion matrix, without normalization\n"
     ]
    },
    {
     "data": {
      "image/png": "[encoded data removed]",
      "text/plain": [
       "<Figure size 432x288 with 2 Axes>"
      ]
     },
     "metadata": {},
     "output_type": "display_data"
    }
   ],
   "source": [
    "conf = confusion_matrix(y_val_clf, rf_y_hat)\n",
    "ttl = \"Confusion Matrix\"\n",
    "plot_confusion_matrix(conf, classes=[\"low incident count\",\"high incident count\"], title = ttl)\n",
    "plt.show()"
   ]
  },
  {
   "cell_type": "markdown",
   "metadata": {},
   "source": [
    "Our confusion matrix and the above breakdown of the elements of our composite score (accuracy and TPR) show that our best random forest model does quite well at predicting the majority class (low daily incidents per 25,000 residents) and significantly worse when predicting for the minority class. In other words, our TPR dragged down the composite score.\n"
   ]
  },
  {
   "cell_type": "markdown",
   "metadata": {},
   "source": [
    "In the context of our scenario, were we to present these data to the APD, we would explain that a confusion matrix helps explain how confused our classifier is. They would be able to understand the weight of each cell in the matrix via color coding, and how a perfect classifier would all predictions fall into the negatively sloped diagonal cells. This plot also easily illuminates the accuracy, TPR, and composite score calculations, all of which can be derived from this simple plot."
   ]
  },
  {
   "cell_type": "markdown",
   "metadata": {},
   "source": [
    "Next we plot ROC curves for both classes using the best random forest model."
   ]
  },
  {
   "cell_type": "code",
   "execution_count": 50,
   "metadata": {},
   "outputs": [
    {
     "name": "stderr",
     "output_type": "stream",
     "text": [
      "/Users/glennoswald/miniconda3/envs/gkopyenviro/lib/python3.6/site-packages/sklearn/utils/deprecation.py:77: DeprecationWarning: Function plot_roc_curve is deprecated; This will be removed in v0.5.0. Please use scikitplot.metrics.plot_roc instead.\n",
      "  warnings.warn(msg, category=DeprecationWarning)\n"
     ]
    },
    {
     "data": {
      "image/png": "[encoded data removed]",
      "text/plain": [
       "<Figure size 432x288 with 1 Axes>"
      ]
     },
     "metadata": {},
     "output_type": "display_data"
    }
   ],
   "source": [
    "import scikitplot as skplt\n",
    "\n",
    "y_probas = best_rf_clf.predict_proba(Xs_val_scl)\n",
    "skplt.metrics.plot_roc_curve(y_val_clf, y_probas)\n",
    "\n",
    "plt.show()"
   ]
  },
  {
   "cell_type": "markdown",
   "metadata": {},
   "source": [
    "The ROC curve is explained in the logistic regression evaluation section."
   ]
  },
  {
   "cell_type": "markdown",
   "metadata": {},
   "source": [
    "The area under the curve (AUC) is essentially a measure of how well our classifier can distinguish between the two classes.  As we see in the plot, our AUC is quite high for both classes at $0.95$."
   ]
  },
  {
   "cell_type": "markdown",
   "metadata": {},
   "source": [
    "---\n",
    "## AdaBoost"
   ]
  },
  {
   "cell_type": "markdown",
   "metadata": {},
   "source": [
    "### General\n",
    "\n",
    "The AdaBoost algorithm is an ensemble method where multiple weak learners are combined together to make a stronger prediction. Any weak learner can be used but for this project a decision tree was used. Each training iteration of the algorithm weights the predictions. Incorrect predictions are weighted higher on subsequent runs. This makes sure the boosting focuses on the incorrect predictions.\n",
    "\n",
    "### Advantages of AdaBoost\n",
    "\n",
    "-Rarely overfits  \n",
    "-Runs fast as weak learners are quick to build.  \n",
    "-Very accurate as it just needs a weak learner that is above 50% accurate.\n",
    "\n",
    "### Disadvantages of AdaBoost\n",
    "\n",
    "-Cannot be parallelized as each run depends on the results of the preceeding one  \n",
    "-Tuning hyperparameters can be difficult.  \n",
    "-AdaBoost is sensitive to outliers due to the weighting process.\n"
   ]
  },
  {
   "cell_type": "markdown",
   "metadata": {},
   "source": [
    "---\n",
    "### Modeling"
   ]
  },
  {
   "cell_type": "markdown",
   "metadata": {},
   "source": [
    "First, an AdaBoost classifier must be created. A decision tree is chosen as the weak learner."
   ]
  },
  {
   "cell_type": "code",
   "execution_count": 51,
   "metadata": {},
   "outputs": [],
   "source": [
    "import numpy as np\n",
    "import matplotlib.pyplot as plt\n",
    "\n",
    "from sklearn.ensemble import AdaBoostClassifier\n",
    "from sklearn.tree import DecisionTreeClassifier\n",
    "\n",
    "# Create an AdaBoosted decision tree\n",
    "bdt = AdaBoostClassifier(DecisionTreeClassifier(max_depth=1))\n"
   ]
  },
  {
   "cell_type": "markdown",
   "metadata": {},
   "source": [
    "Create a dictionary of hyperparameter values that will be passed to the grid search function:\n",
    " - `n_estimators` - the number of individual decision trees that will be created in the model.\n",
    " - `learning_rate` - the weight given to each classifier. Generally, a lower learning_rate requires more estimators.\n",
    " - `algorithm` - can be either the real or discrete form of SAMME (Stagewise Additive Modeling using Multiclass Exponential loss)."
   ]
  },
  {
   "cell_type": "code",
   "execution_count": 52,
   "metadata": {},
   "outputs": [],
   "source": [
    "# establish parameters for gridsearch\n",
    "parameters = {'n_estimators': [50,100]\n",
    "    , 'learning_rate':[0.99,1.0]\n",
    "    , 'algorithm':(\"SAMME\", \"SAMME.R\")\n",
    "    }"
   ]
  },
  {
   "cell_type": "markdown",
   "metadata": {},
   "source": [
    "Create a GridSearchCV object. In our configuration of this object, we pass it the AdaBoost classifier, the StratifiedKFold object where k=10, the hyperparameter object from the previous cell, and the composite scorer we previously created. Additionally, we instruct the grid search object to execute four jobs simultaneously (i.e. parallel execution)."
   ]
  },
  {
   "cell_type": "code",
   "execution_count": 53,
   "metadata": {},
   "outputs": [],
   "source": [
    "# create a grid search object\n",
    "ab_clf = GridSearchCV(estimator=bdt\n",
    "                   , n_jobs=4 # parallel execution\n",
    "                   , verbose=1 # low verbosity\n",
    "                   , param_grid=parameters\n",
    "                   , cv=skf # KFolds = 10\n",
    "                   , scoring=comp_scorer)"
   ]
  },
  {
   "cell_type": "markdown",
   "metadata": {},
   "source": [
    "Having created our grid search object, we now pass it training data and begin the hyperparameter search."
   ]
  },
  {
   "cell_type": "code",
   "execution_count": 54,
   "metadata": {},
   "outputs": [
    {
     "name": "stdout",
     "output_type": "stream",
     "text": [
      "Fitting 10 folds for each of 8 candidates, totalling 80 fits\n"
     ]
    },
    {
     "name": "stderr",
     "output_type": "stream",
     "text": [
      "[Parallel(n_jobs=4)]: Done  42 tasks      | elapsed:  2.2min\n",
      "[Parallel(n_jobs=4)]: Done  80 out of  80 | elapsed:  4.3min finished\n"
     ]
    },
    {
     "data": {
      "text/plain": [
       "GridSearchCV(cv=StratifiedKFold(n_splits=10, random_state=24, shuffle=False),\n",
       "       error_score='raise',\n",
       "       estimator=AdaBoostClassifier(algorithm='SAMME.R',\n",
       "          base_estimator=DecisionTreeClassifier(class_weight=None, criterion='gini', max_depth=1,\n",
       "            max_features=None, max_leaf_nodes=None,\n",
       "            min_impurity_decrease=0.0, min_impurity_split=None,\n",
       "            min_samples_leaf=1, min_samples_split=2,\n",
       "            min_weight_fraction_leaf=0.0, presort=False, random_state=None,\n",
       "            splitter='best'),\n",
       "          learning_rate=1.0, n_estimators=50, random_state=None),\n",
       "       fit_params=None, iid=True, n_jobs=4,\n",
       "       param_grid={'n_estimators': [50, 100], 'learning_rate': [0.99, 1.0], 'algorithm': ('SAMME', 'SAMME.R')},\n",
       "       pre_dispatch='2*n_jobs', refit=True, return_train_score='warn',\n",
       "       scoring=make_scorer(score_func), verbose=1)"
      ]
     },
     "execution_count": 54,
     "metadata": {},
     "output_type": "execute_result"
    }
   ],
   "source": [
    "ab_clf.fit(Xs_trn_tst_scl, y_trn_tst_clf)"
   ]
  },
  {
   "cell_type": "markdown",
   "metadata": {},
   "source": [
    "With our grid search process complete, we can now look at models ranked according to their mean test score (where $n=k=10$). The grid search produced 8 models."
   ]
  },
  {
   "cell_type": "code",
   "execution_count": 55,
   "metadata": {},
   "outputs": [
    {
     "data": {
      "text/html": [
       "<div>\n",
       "<style scoped>\n",
       "    .dataframe tbody tr th:only-of-type {\n",
       "        vertical-align: middle;\n",
       "    }\n",
       "\n",
       "    .dataframe tbody tr th {\n",
       "        vertical-align: top;\n",
       "    }\n",
       "\n",
       "    .dataframe thead th {\n",
       "        text-align: right;\n",
       "    }\n",
       "</style>\n",
       "<table border=\"1\" class=\"dataframe\">\n",
       "  <thead>\n",
       "    <tr style=\"text-align: right;\">\n",
       "      <th></th>\n",
       "      <th>rank_test_score</th>\n",
       "      <th>mean_test_score</th>\n",
       "      <th>mean_train_score</th>\n",
       "      <th>param_n_estimators</th>\n",
       "      <th>param_learning_rate</th>\n",
       "      <th>param_algorithm</th>\n",
       "      <th>std_test_score</th>\n",
       "      <th>std_train_score</th>\n",
       "    </tr>\n",
       "  </thead>\n",
       "  <tbody>\n",
       "    <tr>\n",
       "      <th>4</th>\n",
       "      <td>1</td>\n",
       "      <td>0.767691</td>\n",
       "      <td>0.878808</td>\n",
       "      <td>50</td>\n",
       "      <td>0.99</td>\n",
       "      <td>SAMME.R</td>\n",
       "      <td>0.153685</td>\n",
       "      <td>0.002853</td>\n",
       "    </tr>\n",
       "    <tr>\n",
       "      <th>6</th>\n",
       "      <td>2</td>\n",
       "      <td>0.762294</td>\n",
       "      <td>0.879004</td>\n",
       "      <td>50</td>\n",
       "      <td>1</td>\n",
       "      <td>SAMME.R</td>\n",
       "      <td>0.152482</td>\n",
       "      <td>0.002851</td>\n",
       "    </tr>\n",
       "    <tr>\n",
       "      <th>7</th>\n",
       "      <td>3</td>\n",
       "      <td>0.738027</td>\n",
       "      <td>0.880426</td>\n",
       "      <td>100</td>\n",
       "      <td>1</td>\n",
       "      <td>SAMME.R</td>\n",
       "      <td>0.143416</td>\n",
       "      <td>0.002300</td>\n",
       "    </tr>\n",
       "    <tr>\n",
       "      <th>5</th>\n",
       "      <td>4</td>\n",
       "      <td>0.733487</td>\n",
       "      <td>0.881129</td>\n",
       "      <td>100</td>\n",
       "      <td>0.99</td>\n",
       "      <td>SAMME.R</td>\n",
       "      <td>0.140449</td>\n",
       "      <td>0.002533</td>\n",
       "    </tr>\n",
       "    <tr>\n",
       "      <th>1</th>\n",
       "      <td>5</td>\n",
       "      <td>0.729977</td>\n",
       "      <td>0.764880</td>\n",
       "      <td>100</td>\n",
       "      <td>0.99</td>\n",
       "      <td>SAMME</td>\n",
       "      <td>0.059253</td>\n",
       "      <td>0.044324</td>\n",
       "    </tr>\n",
       "    <tr>\n",
       "      <th>3</th>\n",
       "      <td>6</td>\n",
       "      <td>0.716684</td>\n",
       "      <td>0.746936</td>\n",
       "      <td>100</td>\n",
       "      <td>1</td>\n",
       "      <td>SAMME</td>\n",
       "      <td>0.049204</td>\n",
       "      <td>0.042504</td>\n",
       "    </tr>\n",
       "    <tr>\n",
       "      <th>2</th>\n",
       "      <td>7</td>\n",
       "      <td>0.655197</td>\n",
       "      <td>0.674805</td>\n",
       "      <td>50</td>\n",
       "      <td>1</td>\n",
       "      <td>SAMME</td>\n",
       "      <td>0.064536</td>\n",
       "      <td>0.025971</td>\n",
       "    </tr>\n",
       "    <tr>\n",
       "      <th>0</th>\n",
       "      <td>8</td>\n",
       "      <td>0.653856</td>\n",
       "      <td>0.664343</td>\n",
       "      <td>50</td>\n",
       "      <td>0.99</td>\n",
       "      <td>SAMME</td>\n",
       "      <td>0.066655</td>\n",
       "      <td>0.035414</td>\n",
       "    </tr>\n",
       "  </tbody>\n",
       "</table>\n",
       "</div>"
      ],
      "text/plain": [
       "   rank_test_score  mean_test_score  mean_train_score param_n_estimators  \\\n",
       "4                1         0.767691          0.878808                 50   \n",
       "6                2         0.762294          0.879004                 50   \n",
       "7                3         0.738027          0.880426                100   \n",
       "5                4         0.733487          0.881129                100   \n",
       "1                5         0.729977          0.764880                100   \n",
       "3                6         0.716684          0.746936                100   \n",
       "2                7         0.655197          0.674805                 50   \n",
       "0                8         0.653856          0.664343                 50   \n",
       "\n",
       "  param_learning_rate param_algorithm  std_test_score  std_train_score  \n",
       "4                0.99         SAMME.R        0.153685         0.002853  \n",
       "6                   1         SAMME.R        0.152482         0.002851  \n",
       "7                   1         SAMME.R        0.143416         0.002300  \n",
       "5                0.99         SAMME.R        0.140449         0.002533  \n",
       "1                0.99           SAMME        0.059253         0.044324  \n",
       "3                   1           SAMME        0.049204         0.042504  \n",
       "2                   1           SAMME        0.064536         0.025971  \n",
       "0                0.99           SAMME        0.066655         0.035414  "
      ]
     },
     "execution_count": 55,
     "metadata": {},
     "output_type": "execute_result"
    }
   ],
   "source": [
    "ab_results = pd.DataFrame(ab_clf.cv_results_)\n",
    "ab_results.sort_values(by=\"rank_test_score\", inplace=True)\n",
    "headers = ['rank_test_score','mean_test_score','mean_train_score','param_n_estimators','param_learning_rate','param_algorithm','std_test_score','std_train_score']\n",
    "ab_results[headers].head(10)"
   ]
  },
  {
   "cell_type": "markdown",
   "metadata": {},
   "source": [
    "Observations about the models:\n",
    "\n",
    "The models have mean test scores ranging from 0.66 to 0.77. There are some interesting findings in the grid search. First, the top two models only used 50 estimators. This is a strange finding as normally boosting gets progressively better with each iteration. Also, the real form of SAMME (SAMME.R) outperformed all of the SAMME algorithms. Lastly, the 0.9 learning rate did mostly better in all of them.    \n",
    "\n",
    "Next, we print the parameterization of the best estimator."
   ]
  },
  {
   "cell_type": "code",
   "execution_count": 56,
   "metadata": {},
   "outputs": [
    {
     "data": {
      "text/plain": [
       "AdaBoostClassifier(algorithm='SAMME.R',\n",
       "          base_estimator=DecisionTreeClassifier(class_weight=None, criterion='gini', max_depth=1,\n",
       "            max_features=None, max_leaf_nodes=None,\n",
       "            min_impurity_decrease=0.0, min_impurity_split=None,\n",
       "            min_samples_leaf=1, min_samples_split=2,\n",
       "            min_weight_fraction_leaf=0.0, presort=False, random_state=None,\n",
       "            splitter='best'),\n",
       "          learning_rate=0.99, n_estimators=50, random_state=None)"
      ]
     },
     "execution_count": 56,
     "metadata": {},
     "output_type": "execute_result"
    }
   ],
   "source": [
    "ab_clf.best_estimator_"
   ]
  },
  {
   "cell_type": "markdown",
   "metadata": {},
   "source": [
    "We instantiate an AdaBoost classifier object using the parameters of the best model."
   ]
  },
  {
   "cell_type": "code",
   "execution_count": 57,
   "metadata": {},
   "outputs": [],
   "source": [
    "best_ab_clf = AdaBoostClassifier(algorithm='SAMME.R',\n",
    "          base_estimator=DecisionTreeClassifier(class_weight=None, criterion='gini', max_depth=1,\n",
    "            max_features=None, max_leaf_nodes=None,\n",
    "            min_impurity_decrease=0.0, min_impurity_split=None,\n",
    "            min_samples_leaf=1, min_samples_split=2,\n",
    "            min_weight_fraction_leaf=0.0, presort=False, random_state=None,\n",
    "            splitter='best'),\n",
    "          learning_rate=0.99, n_estimators=50, random_state=None)"
   ]
  },
  {
   "cell_type": "markdown",
   "metadata": {},
   "source": [
    "This model then is fitted to all of the training data at once and then predictions made on the validation set."
   ]
  },
  {
   "cell_type": "code",
   "execution_count": 58,
   "metadata": {},
   "outputs": [],
   "source": [
    "# fit the model with best parameters to ALL THE DATA!\n",
    "best_ab_clf.fit(Xs_trn_tst_scl, y_trn_tst_clf)\n",
    "\n",
    "# make predictions against unseen data (validation set)\n",
    "ab_y_hat = best_ab_clf.predict(Xs_val_scl)"
   ]
  },
  {
   "cell_type": "markdown",
   "metadata": {},
   "source": [
    "---\n",
    "### AdaBoost Best Model Evaluation"
   ]
  },
  {
   "cell_type": "code",
   "execution_count": 59,
   "metadata": {},
   "outputs": [
    {
     "name": "stdout",
     "output_type": "stream",
     "text": [
      "The best AdaBoost model produces a composite \n",
      "score of 85.19 out of 100 when predicting against the validation data set\n"
     ]
    }
   ],
   "source": [
    "ab_comp_score = round(score_func(y_val_clf, ab_y_hat),4) * 100\n",
    "print(\"The best AdaBoost model produces a composite \\nscore of {score}\" \n",
    "      \" out of 100 when predicting against the validation data set\".format(score=ab_comp_score))"
   ]
  },
  {
   "cell_type": "code",
   "execution_count": 60,
   "metadata": {},
   "outputs": [
    {
     "name": "stdout",
     "output_type": "stream",
     "text": [
      "Confusion matrix, without normalization\n"
     ]
    },
    {
     "data": {
      "image/png": "[encoded data removed]",
      "text/plain": [
       "<Figure size 432x288 with 2 Axes>"
      ]
     },
     "metadata": {},
     "output_type": "display_data"
    }
   ],
   "source": [
    "conf = confusion_matrix(y_val_clf, ab_y_hat)\n",
    "ttl = \"Confusion Matrix\"\n",
    "plot_confusion_matrix(conf, classes=[\"low incident count\",\"high incident count\"], title = ttl)\n",
    "plt.show()"
   ]
  },
  {
   "cell_type": "markdown",
   "metadata": {},
   "source": [
    "As our dataset has a class imbalance, simple accuracy is not the best way to evaluate a model. The confusion matrix will show how the model is handling classification by easily seeing all of the classifications."
   ]
  },
  {
   "cell_type": "code",
   "execution_count": 61,
   "metadata": {},
   "outputs": [
    {
     "name": "stdout",
     "output_type": "stream",
     "text": [
      "Accuracy = 0.9098513011152416\tTrue Positive Rate = 0.7957860615883307\n"
     ]
    }
   ],
   "source": [
    "tpr = recall_score(y_val_clf, ab_y_hat)\n",
    "acc = accuracy_score(y_val_clf, ab_y_hat)\n",
    "print_txt = \"Accuracy = {acc}\\tTrue Positive Rate = {tpr}\".format(acc=acc, tpr=tpr)\n",
    "print(print_txt)"
   ]
  },
  {
   "cell_type": "code",
   "execution_count": 62,
   "metadata": {},
   "outputs": [
    {
     "name": "stderr",
     "output_type": "stream",
     "text": [
      "/Users/glennoswald/miniconda3/envs/gkopyenviro/lib/python3.6/site-packages/sklearn/utils/deprecation.py:77: DeprecationWarning: Function plot_roc_curve is deprecated; This will be removed in v0.5.0. Please use scikitplot.metrics.plot_roc instead.\n",
      "  warnings.warn(msg, category=DeprecationWarning)\n"
     ]
    },
    {
     "data": {
      "image/png": "[encoded data removed]",
      "text/plain": [
       "<Figure size 432x288 with 1 Axes>"
      ]
     },
     "metadata": {},
     "output_type": "display_data"
    }
   ],
   "source": [
    "y_probas = best_ab_clf.predict_proba(Xs_val_scl)\n",
    "skplt.metrics.plot_roc_curve(y_val_clf, y_probas)\n",
    "\n",
    "plt.show()"
   ]
  },
  {
   "cell_type": "markdown",
   "metadata": {},
   "source": [
    "The ROC curve is explained in the logistic regression evaluation section."
   ]
  },
  {
   "cell_type": "markdown",
   "metadata": {},
   "source": [
    "Each of the class curves has an area of 0.95 which is good performance."
   ]
  },
  {
   "cell_type": "markdown",
   "metadata": {},
   "source": [
    "<div style='margin-left:0%;margin-right:0%;margin-top:0px;background-color:#d3d3d3;padding:1px;'></div>"
   ]
  },
  {
   "cell_type": "markdown",
   "metadata": {},
   "source": [
    "# Regression"
   ]
  },
  {
   "cell_type": "markdown",
   "metadata": {},
   "source": [
    "---\n",
    "## Multiple Linear Regression (Ordinary Least Squares Method)"
   ]
  },
  {
   "cell_type": "markdown",
   "metadata": {},
   "source": [
    "---\n",
    "### General  \n",
    "The ordinary least squares (OLS) method of multiple linear regression is a statistical method for estimating unknown coefficients of multiple independent variables to predict the value of a single dependent (or target) variable.  The method achieves these estimates by attempting to minimize to the sum of squares of the model errors.  \n",
    " \n",
    "### Advantages of Multiple Linear Regression  \n",
    " - Relatively simple and thus easier to interpret and thus explain relationships between independent and dependent variables.\n",
    " - Computationally efficient when compared to more complex methods.  Requires only linear algebra and thus is ideally suited for computers!\n",
    "\n",
    " \n",
    "### Disadvantages of Multiple Linear Regression  \n",
    " - Models can be disrupted by outliers\n",
    " - Even after transformation, extreme instances of nonlinear independent variables may result in large errors (i.e. works best with linear inputs)\n",
    " - The further away from the data extrapolation is attempted, the more uncertain predictions become\n"
   ]
  },
  {
   "cell_type": "markdown",
   "metadata": {},
   "source": [
    "---\n",
    "## Modeling"
   ]
  },
  {
   "cell_type": "markdown",
   "metadata": {},
   "source": [
    "Import the `mean_squared_error` function from `sklearn.metrics`.  Create a function which returns the $MAE$, then make that a function a scorer object so it can be passed to grid search."
   ]
  },
  {
   "cell_type": "code",
   "execution_count": 63,
   "metadata": {},
   "outputs": [],
   "source": [
    "from sklearn.metrics import mean_absolute_error\n",
    "\n",
    "mae_scorer = make_scorer(score_func=mean_absolute_error, greater_is_better=False)"
   ]
  },
  {
   "cell_type": "markdown",
   "metadata": {},
   "source": [
    "Instantiate `LinearRegression` object with default parameterization."
   ]
  },
  {
   "cell_type": "code",
   "execution_count": 64,
   "metadata": {},
   "outputs": [],
   "source": [
    "from sklearn.linear_model import LinearRegression\n",
    "\n",
    "linreg = LinearRegression()"
   ]
  },
  {
   "cell_type": "markdown",
   "metadata": {},
   "source": [
    "Establish hyperparameter space to be grid searched."
   ]
  },
  {
   "cell_type": "code",
   "execution_count": 65,
   "metadata": {},
   "outputs": [],
   "source": [
    "parameters = {'normalize':(True,False), 'fit_intercept':(True,False)}"
   ]
  },
  {
   "cell_type": "markdown",
   "metadata": {},
   "source": [
    "Create a GridSearchCV object. In our configuration of this object, we pass it the \"blank\" linear regressor, the KFold object where  $k=10$ , the hyperparameter search space object from the previous cell, and the $MAE$ scorer we previously created. Additionally, we instruct the grid search object to execute two jobs simultaneously (i.e. parallel execution)."
   ]
  },
  {
   "cell_type": "code",
   "execution_count": 66,
   "metadata": {},
   "outputs": [],
   "source": [
    "linreg_clf = GridSearchCV(estimator=linreg\n",
    "                   , n_jobs=2 # parallel execution\n",
    "                   , verbose=1 # low verbosity\n",
    "                   , param_grid=parameters\n",
    "                   #, cv=skf # KFolds = 10\n",
    "                    , cv=10 # KFolds = 10\n",
    "                   , scoring=mae_scorer)"
   ]
  },
  {
   "cell_type": "markdown",
   "metadata": {},
   "source": [
    "Having created our grid search object, we now pass it training data and begin the hyperparameter search."
   ]
  },
  {
   "cell_type": "code",
   "execution_count": 67,
   "metadata": {},
   "outputs": [
    {
     "name": "stdout",
     "output_type": "stream",
     "text": [
      "Fitting 10 folds for each of 4 candidates, totalling 40 fits\n"
     ]
    },
    {
     "name": "stderr",
     "output_type": "stream",
     "text": [
      "[Parallel(n_jobs=2)]: Done  40 out of  40 | elapsed:    9.5s finished\n"
     ]
    },
    {
     "data": {
      "text/plain": [
       "GridSearchCV(cv=10, error_score='raise',\n",
       "       estimator=LinearRegression(copy_X=True, fit_intercept=True, n_jobs=1, normalize=False),\n",
       "       fit_params=None, iid=True, n_jobs=2,\n",
       "       param_grid={'normalize': (True, False), 'fit_intercept': (True, False)},\n",
       "       pre_dispatch='2*n_jobs', refit=True, return_train_score='warn',\n",
       "       scoring=make_scorer(mean_absolute_error, greater_is_better=False),\n",
       "       verbose=1)"
      ]
     },
     "execution_count": 67,
     "metadata": {},
     "output_type": "execute_result"
    }
   ],
   "source": [
    "linreg_clf.fit(Xs_trn_tst_scl, y_trn_tst_reg)"
   ]
  },
  {
   "cell_type": "markdown",
   "metadata": {},
   "source": [
    "With our grid search process complete, we can now look at the models ranked according to their mean test score (where $n=k=10$). Our grid search produced 4 models, few enough that we can display them all."
   ]
  },
  {
   "cell_type": "code",
   "execution_count": 68,
   "metadata": {},
   "outputs": [
    {
     "data": {
      "text/html": [
       "<div>\n",
       "<style scoped>\n",
       "    .dataframe tbody tr th:only-of-type {\n",
       "        vertical-align: middle;\n",
       "    }\n",
       "\n",
       "    .dataframe tbody tr th {\n",
       "        vertical-align: top;\n",
       "    }\n",
       "\n",
       "    .dataframe thead th {\n",
       "        text-align: right;\n",
       "    }\n",
       "</style>\n",
       "<table border=\"1\" class=\"dataframe\">\n",
       "  <thead>\n",
       "    <tr style=\"text-align: right;\">\n",
       "      <th></th>\n",
       "      <th>rank_test_score</th>\n",
       "      <th>mean_test_score</th>\n",
       "      <th>mean_train_score</th>\n",
       "      <th>param_fit_intercept</th>\n",
       "      <th>param_normalize</th>\n",
       "      <th>std_test_score</th>\n",
       "      <th>std_train_score</th>\n",
       "    </tr>\n",
       "  </thead>\n",
       "  <tbody>\n",
       "    <tr>\n",
       "      <th>2</th>\n",
       "      <td>1</td>\n",
       "      <td>-1.009039e+02</td>\n",
       "      <td>-9.338252</td>\n",
       "      <td>False</td>\n",
       "      <td>True</td>\n",
       "      <td>6.236717e+01</td>\n",
       "      <td>5.043087</td>\n",
       "    </tr>\n",
       "    <tr>\n",
       "      <th>3</th>\n",
       "      <td>1</td>\n",
       "      <td>-1.009039e+02</td>\n",
       "      <td>-9.338252</td>\n",
       "      <td>False</td>\n",
       "      <td>False</td>\n",
       "      <td>6.236717e+01</td>\n",
       "      <td>5.043087</td>\n",
       "    </tr>\n",
       "    <tr>\n",
       "      <th>1</th>\n",
       "      <td>3</td>\n",
       "      <td>-3.238051e+11</td>\n",
       "      <td>-4.306109</td>\n",
       "      <td>True</td>\n",
       "      <td>False</td>\n",
       "      <td>8.084608e+11</td>\n",
       "      <td>0.047545</td>\n",
       "    </tr>\n",
       "    <tr>\n",
       "      <th>0</th>\n",
       "      <td>4</td>\n",
       "      <td>-4.340414e+12</td>\n",
       "      <td>-4.302157</td>\n",
       "      <td>True</td>\n",
       "      <td>True</td>\n",
       "      <td>5.046136e+12</td>\n",
       "      <td>0.047183</td>\n",
       "    </tr>\n",
       "  </tbody>\n",
       "</table>\n",
       "</div>"
      ],
      "text/plain": [
       "   rank_test_score  mean_test_score  mean_train_score param_fit_intercept  \\\n",
       "2                1    -1.009039e+02         -9.338252               False   \n",
       "3                1    -1.009039e+02         -9.338252               False   \n",
       "1                3    -3.238051e+11         -4.306109                True   \n",
       "0                4    -4.340414e+12         -4.302157                True   \n",
       "\n",
       "  param_normalize  std_test_score  std_train_score  \n",
       "2            True    6.236717e+01         5.043087  \n",
       "3           False    6.236717e+01         5.043087  \n",
       "1           False    8.084608e+11         0.047545  \n",
       "0            True    5.046136e+12         0.047183  "
      ]
     },
     "execution_count": 68,
     "metadata": {},
     "output_type": "execute_result"
    }
   ],
   "source": [
    "linreg_results = pd.DataFrame(linreg_clf.cv_results_)\n",
    "linreg_results.sort_values(by=\"rank_test_score\", inplace=True)\n",
    "headers = ['rank_test_score','mean_test_score','mean_train_score','param_fit_intercept','param_normalize','std_test_score','std_train_score']\n",
    "linreg_results[headers].head(10)"
   ]
  },
  {
   "cell_type": "markdown",
   "metadata": {},
   "source": [
    "Observations about linear models produced by grid search:\n",
    " - The `mean_test_score` and `mean_train_score` fields are negated as an artifact of `sklearn`'s internals.  The true mean $MAE$ for each model is obtained by reversing this negation.  So the top ranked model's `mean_test_score` is actually $2.522540e+10$ and its `mean_train_score` is actually $4.305920e+00$.\n",
    " - The `mean_test_score`s are incredibly large for $MAE$.  As we will soon see, these don't seem to correspond to the actual performance of the estimators.\n",
    " - The top ranked estimator's `mean_test_score` is two orders of magnitude better than the next ranked estimator."
   ]
  },
  {
   "cell_type": "markdown",
   "metadata": {},
   "source": [
    "Next, we print the parameterization of the best estimator."
   ]
  },
  {
   "cell_type": "code",
   "execution_count": 69,
   "metadata": {},
   "outputs": [
    {
     "data": {
      "text/plain": [
       "LinearRegression(copy_X=True, fit_intercept=False, n_jobs=1, normalize=True)"
      ]
     },
     "execution_count": 69,
     "metadata": {},
     "output_type": "execute_result"
    }
   ],
   "source": [
    "linreg_clf.best_estimator_"
   ]
  },
  {
   "cell_type": "markdown",
   "metadata": {},
   "source": [
    "We instantiate a linear regression object using the parameters of the best model."
   ]
  },
  {
   "cell_type": "code",
   "execution_count": 70,
   "metadata": {},
   "outputs": [],
   "source": [
    "best_linreg_clf = LinearRegression(copy_X=True, fit_intercept=True, n_jobs=1, normalize=False)"
   ]
  },
  {
   "cell_type": "markdown",
   "metadata": {},
   "source": [
    "This new model is trained on the entire \"train-test\" set.  After training, we predict against the validation set."
   ]
  },
  {
   "cell_type": "code",
   "execution_count": 71,
   "metadata": {},
   "outputs": [],
   "source": [
    "# train on all of the \"train-test\" data\n",
    "best_linreg_clf.fit(Xs_trn_tst_scl, y_trn_tst_reg)\n",
    "\n",
    "# make predictions against unseen data (validation set)\n",
    "linreg_y_hat = best_linreg_clf.predict(Xs_val_scl)"
   ]
  },
  {
   "cell_type": "markdown",
   "metadata": {},
   "source": [
    "---\n",
    "### Multiple Linear Regression Best Model Evaluation"
   ]
  },
  {
   "cell_type": "markdown",
   "metadata": {},
   "source": [
    "First, we will calculate the $MAE$, our chosen metric, for the best model's predictions against the validation data set."
   ]
  },
  {
   "cell_type": "code",
   "execution_count": 72,
   "metadata": {},
   "outputs": [
    {
     "name": "stdout",
     "output_type": "stream",
     "text": [
      "The MAE of the predictions is 4.8829295276456905.\n"
     ]
    }
   ],
   "source": [
    "mae = mean_absolute_error(y_val_reg, linreg_y_hat)\n",
    "print_str = \"The MAE of the predictions is {mae}.\"\n",
    "print(print_str.format(mae=mae))"
   ]
  },
  {
   "cell_type": "markdown",
   "metadata": {},
   "source": [
    "Recall that $MAE$ is in the units of the original data.  This means that our \"average error\" has about one quarter the  magnitude of our high/low threshold cutpoint ($17$)."
   ]
  },
  {
   "cell_type": "markdown",
   "metadata": {},
   "source": [
    " Next we'll build a sampling distribution of the $MAE$ via bootstrap."
   ]
  },
  {
   "cell_type": "code",
   "execution_count": 73,
   "metadata": {
    "scrolled": true
   },
   "outputs": [
    {
     "data": {
      "image/png": "[encoded data removed]",
      "text/plain": [
       "<Figure size 432x288 with 1 Axes>"
      ]
     },
     "metadata": {},
     "output_type": "display_data"
    },
    {
     "name": "stdout",
     "output_type": "stream",
     "text": [
      "The mean of the distribution is 4.878550009199882\n",
      "The median of the distribution is 4.875635783140165\n"
     ]
    }
   ],
   "source": [
    "from sklearn.utils import resample\n",
    "\n",
    "mae_li = [] # an empty list\n",
    "n_samples = len(y_val_reg) # large same equal to validation set size, but w/ replacement!\n",
    "\n",
    "for i in range(10000): # 10,000 samples\n",
    "    X_samp, y_true = resample(Xs_val_scl, y_val_reg, replace=True, n_samples=n_samples)\n",
    "    y_pred = best_linreg_clf.predict(X_samp)\n",
    "    mae = mean_absolute_error(y_true, y_pred)\n",
    "    mae_li.append(mae)\n",
    "    \n",
    "sns.distplot(mae_li).set_title(\"Mean Absolute Error\\nSampling Distribution Plot\")  \n",
    "plt.show()\n",
    "\n",
    "print(\"The mean of the distribution is {mean}\".format(mean=np.mean(mae_li)))\n",
    "print(\"The median of the distribution is {median}\".format(median=np.median(mae_li)))"
   ]
  },
  {
   "cell_type": "markdown",
   "metadata": {},
   "source": [
    "This distribution is has low spread and looks very symmetric. Let's examine its five number summary."
   ]
  },
  {
   "cell_type": "code",
   "execution_count": 74,
   "metadata": {},
   "outputs": [
    {
     "data": {
      "text/html": [
       "<div>\n",
       "<style scoped>\n",
       "    .dataframe tbody tr th:only-of-type {\n",
       "        vertical-align: middle;\n",
       "    }\n",
       "\n",
       "    .dataframe tbody tr th {\n",
       "        vertical-align: top;\n",
       "    }\n",
       "\n",
       "    .dataframe thead th {\n",
       "        text-align: right;\n",
       "    }\n",
       "</style>\n",
       "<table border=\"1\" class=\"dataframe\">\n",
       "  <thead>\n",
       "    <tr style=\"text-align: right;\">\n",
       "      <th></th>\n",
       "      <th>count</th>\n",
       "      <th>mean</th>\n",
       "      <th>std</th>\n",
       "      <th>min</th>\n",
       "      <th>25%</th>\n",
       "      <th>50%</th>\n",
       "      <th>75%</th>\n",
       "      <th>max</th>\n",
       "    </tr>\n",
       "  </thead>\n",
       "  <tbody>\n",
       "    <tr>\n",
       "      <th>sample_mae</th>\n",
       "      <td>10000.0</td>\n",
       "      <td>4.87855</td>\n",
       "      <td>0.145103</td>\n",
       "      <td>4.397075</td>\n",
       "      <td>4.778033</td>\n",
       "      <td>4.875636</td>\n",
       "      <td>4.975133</td>\n",
       "      <td>5.54436</td>\n",
       "    </tr>\n",
       "  </tbody>\n",
       "</table>\n",
       "</div>"
      ],
      "text/plain": [
       "              count     mean       std       min       25%       50%  \\\n",
       "sample_mae  10000.0  4.87855  0.145103  4.397075  4.778033  4.875636   \n",
       "\n",
       "                 75%      max  \n",
       "sample_mae  4.975133  5.54436  "
      ]
     },
     "execution_count": 74,
     "metadata": {},
     "output_type": "execute_result"
    }
   ],
   "source": [
    "linreg_mae_df = pd.DataFrame({\"sample_mae\":mae_li})\n",
    "linreg_mae_df.describe().T"
   ]
  },
  {
   "cell_type": "markdown",
   "metadata": {},
   "source": [
    "Calculate a 95% confidence interval for the $MAE$ using our bootstrapped frequency distribution."
   ]
  },
  {
   "cell_type": "code",
   "execution_count": 75,
   "metadata": {},
   "outputs": [
    {
     "name": "stdout",
     "output_type": "stream",
     "text": [
      "The 95% confidence interval for the mean 4.88 is 4.65 to 5.12.\n"
     ]
    }
   ],
   "source": [
    "x_bar = round(linreg_mae_df.describe().T['mean'].values[0],2)\n",
    "fifth = round(np.percentile(mae_li, 5),2)\n",
    "ninety_fifth = round(np.percentile(mae_li, 95),2)\n",
    "\n",
    "\n",
    "print(\"The 95% confidence interval for the mean {mean} is {low} to {high}.\".format(mean=x_bar, low=fifth, high=ninety_fifth))\n"
   ]
  },
  {
   "cell_type": "markdown",
   "metadata": {},
   "source": [
    "These results strongly suggest that if future data are similar to the validation set (something we would not necessarly expect), the $MAE$ is likely to be around $4.5$, or $25\\%$ of our high/low cutpoint of 17.  We would have to consult our domain experts at the APD to deterimine if this magnitude of average error would be acceptable when predicting the continuous variable of daily incidents per 25,000 residents."
   ]
  },
  {
   "cell_type": "markdown",
   "metadata": {},
   "source": [
    "---\n",
    "### Linear Regression Feature Importance"
   ]
  },
  {
   "cell_type": "code",
   "execution_count": 76,
   "metadata": {},
   "outputs": [],
   "source": [
    "weights = best_linreg_clf.coef_\n",
    "feature_names = df_test.drop(labels=['daily_incidents_per_25k_population','high_loi'], axis=1).columns\n",
    "linreg_ft_imp_df = pd.DataFrame({'feature_names':feature_names, 'weights':weights, 'absolute_weights': np.abs(weights)})\n",
    "linreg_ft_imp_df.sort_values(by='weights', inplace=True)"
   ]
  },
  {
   "cell_type": "code",
   "execution_count": 77,
   "metadata": {},
   "outputs": [
    {
     "data": {
      "image/png": "[encoded data removed]",
      "text/plain": [
       "<Figure size 432x288 with 1 Axes>"
      ]
     },
     "metadata": {},
     "output_type": "display_data"
    }
   ],
   "source": [
    "plt.style.use('ggplot')\n",
    "\n",
    "wt_plt_df = linreg_ft_imp_df.head(25)\n",
    "\n",
    "weights = pd.Series(wt_plt_df['weights'].values,index=wt_plt_df['feature_names'])\n",
    "ax = weights.plot(kind='bar')\n",
    "\n",
    "\n",
    "ax.set_ylabel(\"Coefficient Magnitude\\n(z-score)\")\n",
    "plt.show()\n"
   ]
  },
  {
   "cell_type": "markdown",
   "metadata": {},
   "source": [
    "Interestingly, this model finds time variables to be most significant.  The first 8 most signifanct features are the months August, July, March, May, April, June, September, and February. These the weights of these features are very similar, and all negative in sign.\n",
    "\n",
    "The next seven most significant variables are then each day of the week (not in order), followed by the remaining months of the year.  The magnitude of the next most significance drops by more than half, with the remaining features being comprised of days of the month.\n",
    "\n",
    "\n",
    "It is tempting to conclude that some notions of seasonality or other temporally driven phenomena may contribute to this set of weights, but it seems that the linear regression model may simply be heavily weighting indicator variables with the fewest levels."
   ]
  },
  {
   "cell_type": "markdown",
   "metadata": {},
   "source": [
    "---\n",
    "## Stochast Gradient Descent for Linear Regression"
   ]
  },
  {
   "cell_type": "markdown",
   "metadata": {},
   "source": [
    "---\n",
    "### General  \n",
    "\"The class SGDRegressor implements a plain stochastic gradient descent learning routine which supports different loss functions and penalties to fit linear regression models. SGDRegressor is well suited for regression problems with a large number of training samples (> 10.000)...\" [6]\n",
    "\n",
    "### Advantages  \n",
    " - Efficiency. [6]  \n",
    " - Ease of implementation (lots of opportunities for code tuning). [6]  \n",
    " \n",
    "### Disadvantages\n",
    " - SGD requires a number of hyperparameters such as the regularization parameter and the number of iterations. [6] \n",
    " - SGD is sensitive to feature scaling. [6]  "
   ]
  },
  {
   "cell_type": "markdown",
   "metadata": {},
   "source": [
    "---\n",
    "## Modeling"
   ]
  },
  {
   "cell_type": "markdown",
   "metadata": {},
   "source": [
    "Instantiate `SGDRegressor` object with default parameterization."
   ]
  },
  {
   "cell_type": "code",
   "execution_count": 78,
   "metadata": {},
   "outputs": [],
   "source": [
    "from sklearn.linear_model import SGDRegressor\n",
    "\n",
    "sgdreg = SGDRegressor()"
   ]
  },
  {
   "cell_type": "markdown",
   "metadata": {},
   "source": [
    "Establish hyperparameter space to be grid searched."
   ]
  },
  {
   "cell_type": "code",
   "execution_count": 79,
   "metadata": {},
   "outputs": [],
   "source": [
    "parameters = {'learning_rate':('optimal','constant'), 'eta0':(.00001, .0001, .001, .01)}"
   ]
  },
  {
   "cell_type": "markdown",
   "metadata": {},
   "source": [
    "Create a GridSearchCV object. In our configuration of this object, we pass it the \"blank\" SGD regressor, the KFold object where  $k=10$ , the hyperparameter search space object from the previous cell, and the $MAE$ scorer we previously created. Additionally, we instruct the grid search object to execute two jobs simultaneously (i.e. parallel execution)."
   ]
  },
  {
   "cell_type": "code",
   "execution_count": 80,
   "metadata": {},
   "outputs": [],
   "source": [
    "sgdreg_clf = GridSearchCV(estimator=sgdreg\n",
    "                   , n_jobs=2 # parallel execution\n",
    "                   , verbose=1 # low verbosity\n",
    "                   , param_grid=parameters\n",
    "                   #, cv=skf # KFolds = 10\n",
    "                    , cv=10 # KFolds = 10\n",
    "                   , scoring=mae_scorer)"
   ]
  },
  {
   "cell_type": "markdown",
   "metadata": {},
   "source": [
    "Having created our grid search object, we now pass it training data and begin the hyperparameter search."
   ]
  },
  {
   "cell_type": "code",
   "execution_count": 81,
   "metadata": {},
   "outputs": [
    {
     "name": "stdout",
     "output_type": "stream",
     "text": [
      "Fitting 10 folds for each of 8 candidates, totalling 80 fits\n"
     ]
    },
    {
     "name": "stderr",
     "output_type": "stream",
     "text": [
      "[Parallel(n_jobs=2)]: Done  46 tasks      | elapsed:    9.1s\n",
      "[Parallel(n_jobs=2)]: Done  80 out of  80 | elapsed:   15.5s finished\n"
     ]
    },
    {
     "data": {
      "text/plain": [
       "GridSearchCV(cv=10, error_score='raise',\n",
       "       estimator=SGDRegressor(alpha=0.0001, average=False, epsilon=0.1, eta0=0.01,\n",
       "       fit_intercept=True, l1_ratio=0.15, learning_rate='invscaling',\n",
       "       loss='squared_loss', max_iter=None, n_iter=None, penalty='l2',\n",
       "       power_t=0.25, random_state=None, shuffle=True, tol=None, verbose=0,\n",
       "       warm_start=False),\n",
       "       fit_params=None, iid=True, n_jobs=2,\n",
       "       param_grid={'learning_rate': ('optimal', 'constant'), 'eta0': (1e-05, 0.0001, 0.001, 0.01)},\n",
       "       pre_dispatch='2*n_jobs', refit=True, return_train_score='warn',\n",
       "       scoring=make_scorer(mean_absolute_error, greater_is_better=False),\n",
       "       verbose=1)"
      ]
     },
     "execution_count": 81,
     "metadata": {},
     "output_type": "execute_result"
    }
   ],
   "source": [
    "sgdreg_clf.fit(Xs_trn_tst_scl, y_trn_tst_reg)"
   ]
  },
  {
   "cell_type": "markdown",
   "metadata": {},
   "source": [
    "With our grid search process complete, we can now look at the models ranked according to their mean test score (where $n=k=10$). Our grid search produced 8 models, few enough that we can display them all."
   ]
  },
  {
   "cell_type": "code",
   "execution_count": 82,
   "metadata": {},
   "outputs": [
    {
     "data": {
      "text/html": [
       "<div>\n",
       "<style scoped>\n",
       "    .dataframe tbody tr th:only-of-type {\n",
       "        vertical-align: middle;\n",
       "    }\n",
       "\n",
       "    .dataframe tbody tr th {\n",
       "        vertical-align: top;\n",
       "    }\n",
       "\n",
       "    .dataframe thead th {\n",
       "        text-align: right;\n",
       "    }\n",
       "</style>\n",
       "<table border=\"1\" class=\"dataframe\">\n",
       "  <thead>\n",
       "    <tr style=\"text-align: right;\">\n",
       "      <th></th>\n",
       "      <th>rank_test_score</th>\n",
       "      <th>mean_test_score</th>\n",
       "      <th>mean_train_score</th>\n",
       "      <th>param_learning_rate</th>\n",
       "      <th>param_eta0</th>\n",
       "      <th>std_test_score</th>\n",
       "      <th>std_train_score</th>\n",
       "    </tr>\n",
       "  </thead>\n",
       "  <tbody>\n",
       "    <tr>\n",
       "      <th>3</th>\n",
       "      <td>1</td>\n",
       "      <td>-4.901447e+00</td>\n",
       "      <td>-6.168560e+00</td>\n",
       "      <td>constant</td>\n",
       "      <td>0.0001</td>\n",
       "      <td>4.820400e-01</td>\n",
       "      <td>8.041704e-01</td>\n",
       "    </tr>\n",
       "    <tr>\n",
       "      <th>1</th>\n",
       "      <td>2</td>\n",
       "      <td>-5.477800e+00</td>\n",
       "      <td>-4.363899e+00</td>\n",
       "      <td>constant</td>\n",
       "      <td>1e-05</td>\n",
       "      <td>5.785997e-01</td>\n",
       "      <td>5.686136e-02</td>\n",
       "    </tr>\n",
       "    <tr>\n",
       "      <th>5</th>\n",
       "      <td>3</td>\n",
       "      <td>-8.724868e+09</td>\n",
       "      <td>-1.120814e+10</td>\n",
       "      <td>constant</td>\n",
       "      <td>0.001</td>\n",
       "      <td>2.643508e+09</td>\n",
       "      <td>2.043158e+09</td>\n",
       "    </tr>\n",
       "    <tr>\n",
       "      <th>7</th>\n",
       "      <td>4</td>\n",
       "      <td>-1.632509e+11</td>\n",
       "      <td>-1.833719e+11</td>\n",
       "      <td>constant</td>\n",
       "      <td>0.01</td>\n",
       "      <td>1.750193e+10</td>\n",
       "      <td>2.693341e+10</td>\n",
       "    </tr>\n",
       "    <tr>\n",
       "      <th>0</th>\n",
       "      <td>5</td>\n",
       "      <td>-1.836336e+12</td>\n",
       "      <td>-1.984752e+12</td>\n",
       "      <td>optimal</td>\n",
       "      <td>1e-05</td>\n",
       "      <td>1.195057e+11</td>\n",
       "      <td>1.101468e+11</td>\n",
       "    </tr>\n",
       "    <tr>\n",
       "      <th>2</th>\n",
       "      <td>6</td>\n",
       "      <td>-1.943173e+12</td>\n",
       "      <td>-2.057901e+12</td>\n",
       "      <td>optimal</td>\n",
       "      <td>0.0001</td>\n",
       "      <td>2.007035e+11</td>\n",
       "      <td>1.721918e+11</td>\n",
       "    </tr>\n",
       "    <tr>\n",
       "      <th>4</th>\n",
       "      <td>7</td>\n",
       "      <td>-1.953482e+12</td>\n",
       "      <td>-2.086138e+12</td>\n",
       "      <td>optimal</td>\n",
       "      <td>0.001</td>\n",
       "      <td>2.483476e+11</td>\n",
       "      <td>1.310589e+11</td>\n",
       "    </tr>\n",
       "    <tr>\n",
       "      <th>6</th>\n",
       "      <td>8</td>\n",
       "      <td>-1.965703e+12</td>\n",
       "      <td>-1.986248e+12</td>\n",
       "      <td>optimal</td>\n",
       "      <td>0.01</td>\n",
       "      <td>2.716762e+11</td>\n",
       "      <td>1.231879e+11</td>\n",
       "    </tr>\n",
       "  </tbody>\n",
       "</table>\n",
       "</div>"
      ],
      "text/plain": [
       "   rank_test_score  mean_test_score  mean_train_score param_learning_rate  \\\n",
       "3                1    -4.901447e+00     -6.168560e+00            constant   \n",
       "1                2    -5.477800e+00     -4.363899e+00            constant   \n",
       "5                3    -8.724868e+09     -1.120814e+10            constant   \n",
       "7                4    -1.632509e+11     -1.833719e+11            constant   \n",
       "0                5    -1.836336e+12     -1.984752e+12             optimal   \n",
       "2                6    -1.943173e+12     -2.057901e+12             optimal   \n",
       "4                7    -1.953482e+12     -2.086138e+12             optimal   \n",
       "6                8    -1.965703e+12     -1.986248e+12             optimal   \n",
       "\n",
       "  param_eta0  std_test_score  std_train_score  \n",
       "3     0.0001    4.820400e-01     8.041704e-01  \n",
       "1      1e-05    5.785997e-01     5.686136e-02  \n",
       "5      0.001    2.643508e+09     2.043158e+09  \n",
       "7       0.01    1.750193e+10     2.693341e+10  \n",
       "0      1e-05    1.195057e+11     1.101468e+11  \n",
       "2     0.0001    2.007035e+11     1.721918e+11  \n",
       "4      0.001    2.483476e+11     1.310589e+11  \n",
       "6       0.01    2.716762e+11     1.231879e+11  "
      ]
     },
     "execution_count": 82,
     "metadata": {},
     "output_type": "execute_result"
    }
   ],
   "source": [
    "sgdreg_results = pd.DataFrame(sgdreg_clf.cv_results_)\n",
    "sgdreg_results.sort_values(by=\"rank_test_score\", inplace=True)\n",
    "headers = ['rank_test_score','mean_test_score','mean_train_score','param_learning_rate','param_eta0','std_test_score','std_train_score']\n",
    "sgdreg_results[headers].head(10)"
   ]
  },
  {
   "cell_type": "markdown",
   "metadata": {},
   "source": [
    "Observations about linear models produced by grid search using stochastic gradient descent:\n",
    " - The `mean_test_score` and `mean_train_score` fields are negated as an artifact of `sklearn`'s internals.  The true mean $MAE$ for each model is obtained by reversing this negation.  So the top ranked model's `mean_test_score` is actually $1.194882e+01$ or $11.95$ and its `mean_train_score` is actually $1.454625e+01$ or $14.55$.\n",
    " - The top two `mean_test_score`s have much smaller $MAE$ than we saw with linear regression.\n",
    " - The top ranked estimator's `mean_test_score` very, very close to the runner up.  Choosing one over the other on the basis of these score's is really an arbitrary decision.\n",
    " - Configurations where `learning_rate` is set to `constant` always beat those where it is set to `optimal` in this grid seach.\n",
    " - The ranking of the `eta0` parameter does not seem to be  patternistic."
   ]
  },
  {
   "cell_type": "markdown",
   "metadata": {},
   "source": [
    "Next, we print the parameterization of the best estimator."
   ]
  },
  {
   "cell_type": "code",
   "execution_count": 83,
   "metadata": {},
   "outputs": [
    {
     "data": {
      "text/plain": [
       "SGDRegressor(alpha=0.0001, average=False, epsilon=0.1, eta0=0.0001,\n",
       "       fit_intercept=True, l1_ratio=0.15, learning_rate='constant',\n",
       "       loss='squared_loss', max_iter=None, n_iter=None, penalty='l2',\n",
       "       power_t=0.25, random_state=None, shuffle=True, tol=None, verbose=0,\n",
       "       warm_start=False)"
      ]
     },
     "execution_count": 83,
     "metadata": {},
     "output_type": "execute_result"
    }
   ],
   "source": [
    "sgdreg_clf.best_estimator_"
   ]
  },
  {
   "cell_type": "markdown",
   "metadata": {},
   "source": [
    "We instantiate a linear regression object using the parameters of the best model."
   ]
  },
  {
   "cell_type": "code",
   "execution_count": 84,
   "metadata": {},
   "outputs": [],
   "source": [
    "sgdreg_best = SGDRegressor(alpha=0.0001, average=False, epsilon=0.1, eta0=1e-05,\n",
    "       fit_intercept=True, l1_ratio=0.15, learning_rate='constant',\n",
    "       loss='squared_loss', max_iter=5, n_iter=None, penalty='l2',\n",
    "       power_t=0.25, random_state=None, shuffle=True, tol=None, verbose=0,\n",
    "       warm_start=False)"
   ]
  },
  {
   "cell_type": "markdown",
   "metadata": {},
   "source": [
    "This new model is trained on the entire \"train-test\" set. After training, we predict against the validation set."
   ]
  },
  {
   "cell_type": "code",
   "execution_count": 85,
   "metadata": {},
   "outputs": [],
   "source": [
    "# train on all of the \"train-test\" data\n",
    "sgdreg_best.fit(Xs_trn_tst_scl, y_trn_tst_reg)\n",
    "\n",
    "# make predictions against unseen data (validation set)\n",
    "sgdreg_y_hat = sgdreg_best.predict(Xs_val_scl)"
   ]
  },
  {
   "cell_type": "markdown",
   "metadata": {},
   "source": [
    "---\n",
    "### Linear Regression Using SGD Best Model Evaluation"
   ]
  },
  {
   "cell_type": "markdown",
   "metadata": {},
   "source": [
    "First, we will calculate the $MAE$, our chosen metric, for the best model's predictions against the validation data set."
   ]
  },
  {
   "cell_type": "code",
   "execution_count": 86,
   "metadata": {},
   "outputs": [
    {
     "name": "stdout",
     "output_type": "stream",
     "text": [
      "The MAE of the predictions is 4.421884960000037.\n"
     ]
    }
   ],
   "source": [
    "mae = mean_absolute_error(y_val_reg, sgdreg_y_hat)\n",
    "print_str = \"The MAE of the predictions is {mae}.\"\n",
    "print(print_str.format(mae=mae))"
   ]
  },
  {
   "cell_type": "markdown",
   "metadata": {},
   "source": [
    "Once again our \"average error\" has about one quarter the  magnitude of our high/low threshold cutpoint ($17$)."
   ]
  },
  {
   "cell_type": "markdown",
   "metadata": {},
   "source": [
    "Next we bootstrap a sampling distribution of the MAE."
   ]
  },
  {
   "cell_type": "code",
   "execution_count": 87,
   "metadata": {},
   "outputs": [
    {
     "data": {
      "image/png": "[encoded data removed]",
      "text/plain": [
       "<Figure size 432x288 with 1 Axes>"
      ]
     },
     "metadata": {},
     "output_type": "display_data"
    },
    {
     "name": "stdout",
     "output_type": "stream",
     "text": [
      "The mean of the distribution is 4.422068711643743\n",
      "The median of the distribution is 4.417170228574053\n"
     ]
    }
   ],
   "source": [
    "from sklearn.utils import resample\n",
    "\n",
    "mae_li = [] # an empty list\n",
    "n_samples = len(y_val_reg) # large same equal to validation set size, but w/ replacement!\n",
    "\n",
    "for i in range(10000): # 10,000 samples\n",
    "    X_samp, y_true = resample(Xs_val_scl, y_val_reg, replace=True, n_samples=n_samples)\n",
    "    y_pred = sgdreg_best.predict(X_samp)\n",
    "    mae = mean_absolute_error(y_true, y_pred)\n",
    "    mae_li.append(mae)\n",
    "    \n",
    "sns.distplot(mae_li).set_title(\"Mean Absolute Error\\nSampling Distribution Plot\")  \n",
    "plt.show()\n",
    "\n",
    "print(\"The mean of the distribution is {mean}\".format(mean=np.mean(mae_li)))\n",
    "print(\"The median of the distribution is {median}\".format(median=np.median(mae_li)))"
   ]
  },
  {
   "cell_type": "markdown",
   "metadata": {},
   "source": [
    "As we would expect from the central limit theorem, a very nice, normal looking frequency distribution is created."
   ]
  },
  {
   "cell_type": "code",
   "execution_count": 88,
   "metadata": {},
   "outputs": [
    {
     "data": {
      "text/html": [
       "<div>\n",
       "<style scoped>\n",
       "    .dataframe tbody tr th:only-of-type {\n",
       "        vertical-align: middle;\n",
       "    }\n",
       "\n",
       "    .dataframe tbody tr th {\n",
       "        vertical-align: top;\n",
       "    }\n",
       "\n",
       "    .dataframe thead th {\n",
       "        text-align: right;\n",
       "    }\n",
       "</style>\n",
       "<table border=\"1\" class=\"dataframe\">\n",
       "  <thead>\n",
       "    <tr style=\"text-align: right;\">\n",
       "      <th></th>\n",
       "      <th>count</th>\n",
       "      <th>mean</th>\n",
       "      <th>std</th>\n",
       "      <th>min</th>\n",
       "      <th>25%</th>\n",
       "      <th>50%</th>\n",
       "      <th>75%</th>\n",
       "      <th>max</th>\n",
       "    </tr>\n",
       "  </thead>\n",
       "  <tbody>\n",
       "    <tr>\n",
       "      <th>sample_mae</th>\n",
       "      <td>10000.0</td>\n",
       "      <td>4.422069</td>\n",
       "      <td>0.140214</td>\n",
       "      <td>3.970436</td>\n",
       "      <td>4.325096</td>\n",
       "      <td>4.41717</td>\n",
       "      <td>4.515026</td>\n",
       "      <td>4.922592</td>\n",
       "    </tr>\n",
       "  </tbody>\n",
       "</table>\n",
       "</div>"
      ],
      "text/plain": [
       "              count      mean       std       min       25%      50%  \\\n",
       "sample_mae  10000.0  4.422069  0.140214  3.970436  4.325096  4.41717   \n",
       "\n",
       "                 75%       max  \n",
       "sample_mae  4.515026  4.922592  "
      ]
     },
     "execution_count": 88,
     "metadata": {},
     "output_type": "execute_result"
    }
   ],
   "source": [
    "sgdreg_mae_df = pd.DataFrame({\"sample_mae\":mae_li})\n",
    "sgdreg_mae_df.describe().T"
   ]
  },
  {
   "cell_type": "markdown",
   "metadata": {},
   "source": [
    "Calculate a 95% confidence interval for the $MAE$ using our bootstrapped frequency distribution."
   ]
  },
  {
   "cell_type": "code",
   "execution_count": 89,
   "metadata": {},
   "outputs": [
    {
     "name": "stdout",
     "output_type": "stream",
     "text": [
      "The 95% confidence interval for the mean 4.42 is 4.2 to 4.66.\n"
     ]
    }
   ],
   "source": [
    "x_bar = round(sgdreg_mae_df.describe().T['mean'].values[0],2)\n",
    "fifth = round(np.percentile(mae_li, 5),2)\n",
    "ninety_fifth = round(np.percentile(mae_li, 95),2)\n",
    "\n",
    "\n",
    "print(\"The 95% confidence interval for the mean {mean} is {low} to {high}.\".format(mean=x_bar, low=fifth, high=ninety_fifth))\n"
   ]
  },
  {
   "cell_type": "markdown",
   "metadata": {},
   "source": [
    "These results strongly suggest that if future data are similar to the validation set (something we would not necessarly expect), the $MAE$ is likely to be around $4.4$, or $25\\%$ of our high/low cutpoint of 17.  We would have to consult our domain experts at the APD to deterimine if this magnitude of average error would be acceptable when predicting the continuous variable of daily incidents per 25,000 residents."
   ]
  },
  {
   "cell_type": "markdown",
   "metadata": {},
   "source": [
    "---\n",
    "### SGD Feature Importance"
   ]
  },
  {
   "cell_type": "code",
   "execution_count": 90,
   "metadata": {},
   "outputs": [],
   "source": [
    "weights = sgdreg_best.coef_\n",
    "feature_names = df_test.drop(labels=['daily_incidents_per_25k_population','high_loi'], axis=1).columns\n",
    "sgdreg_ft_imp_df = pd.DataFrame({'feature_names':feature_names, 'weights':weights, 'absolute_weights': np.abs(weights)})\n",
    "sgdreg_ft_imp_df.sort_values(by='weights', inplace=True)"
   ]
  },
  {
   "cell_type": "code",
   "execution_count": 91,
   "metadata": {},
   "outputs": [
    {
     "data": {
      "image/png": "[encoded data removed]",
      "text/plain": [
       "<Figure size 432x288 with 1 Axes>"
      ]
     },
     "metadata": {},
     "output_type": "display_data"
    }
   ],
   "source": [
    "plt.style.use('ggplot')\n",
    "\n",
    "wt_plt_df = sgdreg_ft_imp_df.head(25)\n",
    "\n",
    "weights = pd.Series(wt_plt_df['weights'].values,index=wt_plt_df['feature_names'])\n",
    "ax = weights.plot(kind='bar')\n",
    "\n",
    "\n",
    "ax.set_ylabel(\"Coefficient Magnitude\\n(z-score)\")\n",
    "plt.show()\n"
   ]
  },
  {
   "cell_type": "markdown",
   "metadata": {},
   "source": [
    "This model seems to have taken the approach of finding those postal codes with low crime and assigning them large negative coefficients.  78749 is a suburban area on the southern border of Austin full of shopping centers.  78729 is in North Austin, also suburban, containing many major corporate campuses including Apple, Dun & Bradstreet, and Oracle.  78717 is even further North and is solidly middle class and suburban.  In other words, the most important features are a line up of suburban, middle class, low crime areas."
   ]
  },
  {
   "cell_type": "markdown",
   "metadata": {},
   "source": [
    "---\n",
    "## Multilayer Perceptron Regressor"
   ]
  },
  {
   "cell_type": "markdown",
   "metadata": {},
   "source": [
    "---\n",
    "### General  \n",
    "A multiplayer perceptron (MLP) is a type of artificial neural network that consists of at least three layers of nodes.  The first layer is the input layer and the last layer is the output layer.  Excluding the input node, the inner layers use a nonlinear activation function such as linear regression.  \n",
    "\n",
    "### Advantages  \n",
    " - Capability to learn non-linear models\n",
    " - No assumptions made as to the underlying probability density functions of data\n",
    " \n",
    " \n",
    "### Disadvantages\n",
    " - MLP with hidden layers have a non-convex loss function where there exists more than one local minimum. Therefore different random weight initializations can lead to different validation accuracy. [10]\n",
    " - MLP requires tuning a number of hyperparameters such as the number of hidden neurons, layers, and iterations. [10]  \n",
    " - MLP is sensitive to feature scaling. [10]  "
   ]
  },
  {
   "cell_type": "markdown",
   "metadata": {},
   "source": [
    "---\n",
    "## Modeling"
   ]
  },
  {
   "cell_type": "code",
   "execution_count": 92,
   "metadata": {},
   "outputs": [],
   "source": [
    "from sklearn.neural_network import MLPRegressor\n",
    "\n",
    "mlp_reg = MLPRegressor()"
   ]
  },
  {
   "cell_type": "markdown",
   "metadata": {},
   "source": [
    "Establish hyperparameter space to be grid searched."
   ]
  },
  {
   "cell_type": "code",
   "execution_count": 93,
   "metadata": {},
   "outputs": [],
   "source": [
    "parameters = {'solver':['adam','sgd']\n",
    "              ,'learning_rate':['adaptive']\n",
    "              ,'hidden_layer_sizes':[10,30]\n",
    "              ,'activation':['logistic','tanh']}"
   ]
  },
  {
   "cell_type": "markdown",
   "metadata": {},
   "source": [
    "Create a GridSearchCV object. In our configuration of this object, we pass it the \"blank\" MLP regressor, the `StratifiedKFold` object where  $k=10$, the hyperparameter search space object from the previous cell, and the $MAE$  scorer we previously created. Additionally, we instruct the grid search object to execute four jobs simultaneously (i.e. parallel execution)."
   ]
  },
  {
   "cell_type": "code",
   "execution_count": 94,
   "metadata": {},
   "outputs": [],
   "source": [
    "mlp_reg_gsc = GridSearchCV(estimator=mlp_reg\n",
    "                   , n_jobs=4\n",
    "                   , verbose=1\n",
    "                   , param_grid=parameters\n",
    "                   , scoring=mae_scorer\n",
    "                   , cv=10\n",
    "                   , return_train_score=False)"
   ]
  },
  {
   "cell_type": "markdown",
   "metadata": {},
   "source": [
    "Having created our grid search object, we now pass it training data and begin the hyperparameter search."
   ]
  },
  {
   "cell_type": "code",
   "execution_count": 95,
   "metadata": {},
   "outputs": [
    {
     "name": "stdout",
     "output_type": "stream",
     "text": [
      "Fitting 10 folds for each of 8 candidates, totalling 80 fits\n"
     ]
    },
    {
     "name": "stderr",
     "output_type": "stream",
     "text": [
      "[Parallel(n_jobs=4)]: Done  42 tasks      | elapsed:  8.5min\n",
      "[Parallel(n_jobs=4)]: Done  80 out of  80 | elapsed: 16.3min finished\n"
     ]
    },
    {
     "data": {
      "text/plain": [
       "GridSearchCV(cv=10, error_score='raise',\n",
       "       estimator=MLPRegressor(activation='relu', alpha=0.0001, batch_size='auto', beta_1=0.9,\n",
       "       beta_2=0.999, early_stopping=False, epsilon=1e-08,\n",
       "       hidden_layer_sizes=(100,), learning_rate='constant',\n",
       "       learning_rate_init=0.001, max_iter=200, momentum=0.9,\n",
       "       nesterovs_momentum=True, power_t=0.5, random_state=None,\n",
       "       shuffle=True, solver='adam', tol=0.0001, validation_fraction=0.1,\n",
       "       verbose=False, warm_start=False),\n",
       "       fit_params=None, iid=True, n_jobs=4,\n",
       "       param_grid={'solver': ['adam', 'sgd'], 'learning_rate': ['adaptive'], 'hidden_layer_sizes': [10, 30], 'activation': ['logistic', 'tanh']},\n",
       "       pre_dispatch='2*n_jobs', refit=True, return_train_score=False,\n",
       "       scoring=make_scorer(mean_absolute_error, greater_is_better=False),\n",
       "       verbose=1)"
      ]
     },
     "execution_count": 95,
     "metadata": {},
     "output_type": "execute_result"
    }
   ],
   "source": [
    "mlp_reg_gsc.fit(Xs_trn_tst_scl, y_trn_tst_reg)"
   ]
  },
  {
   "cell_type": "markdown",
   "metadata": {},
   "source": [
    "With our grid search process complete, we can now look at the models ranked according to their mean test score (where $n=k=10$). Our grid search produced 8 models, few enough that we can display them all."
   ]
  },
  {
   "cell_type": "code",
   "execution_count": 96,
   "metadata": {},
   "outputs": [
    {
     "data": {
      "text/html": [
       "<div>\n",
       "<style scoped>\n",
       "    .dataframe tbody tr th:only-of-type {\n",
       "        vertical-align: middle;\n",
       "    }\n",
       "\n",
       "    .dataframe tbody tr th {\n",
       "        vertical-align: top;\n",
       "    }\n",
       "\n",
       "    .dataframe thead th {\n",
       "        text-align: right;\n",
       "    }\n",
       "</style>\n",
       "<table border=\"1\" class=\"dataframe\">\n",
       "  <thead>\n",
       "    <tr style=\"text-align: right;\">\n",
       "      <th></th>\n",
       "      <th>rank_test_score</th>\n",
       "      <th>mean_test_score</th>\n",
       "      <th>param_activation</th>\n",
       "      <th>param_hidden_layer_sizes</th>\n",
       "      <th>param_learning_rate</th>\n",
       "      <th>param_solver</th>\n",
       "      <th>std_test_score</th>\n",
       "    </tr>\n",
       "  </thead>\n",
       "  <tbody>\n",
       "    <tr>\n",
       "      <th>5</th>\n",
       "      <td>1</td>\n",
       "      <td>-4.189610</td>\n",
       "      <td>tanh</td>\n",
       "      <td>10</td>\n",
       "      <td>adaptive</td>\n",
       "      <td>sgd</td>\n",
       "      <td>0.413538</td>\n",
       "    </tr>\n",
       "    <tr>\n",
       "      <th>4</th>\n",
       "      <td>2</td>\n",
       "      <td>-4.241963</td>\n",
       "      <td>tanh</td>\n",
       "      <td>10</td>\n",
       "      <td>adaptive</td>\n",
       "      <td>adam</td>\n",
       "      <td>0.256465</td>\n",
       "    </tr>\n",
       "    <tr>\n",
       "      <th>6</th>\n",
       "      <td>3</td>\n",
       "      <td>-4.276307</td>\n",
       "      <td>tanh</td>\n",
       "      <td>30</td>\n",
       "      <td>adaptive</td>\n",
       "      <td>adam</td>\n",
       "      <td>0.204079</td>\n",
       "    </tr>\n",
       "    <tr>\n",
       "      <th>1</th>\n",
       "      <td>4</td>\n",
       "      <td>-4.284572</td>\n",
       "      <td>logistic</td>\n",
       "      <td>10</td>\n",
       "      <td>adaptive</td>\n",
       "      <td>sgd</td>\n",
       "      <td>0.714993</td>\n",
       "    </tr>\n",
       "    <tr>\n",
       "      <th>2</th>\n",
       "      <td>5</td>\n",
       "      <td>-4.518160</td>\n",
       "      <td>logistic</td>\n",
       "      <td>30</td>\n",
       "      <td>adaptive</td>\n",
       "      <td>adam</td>\n",
       "      <td>0.317624</td>\n",
       "    </tr>\n",
       "    <tr>\n",
       "      <th>3</th>\n",
       "      <td>6</td>\n",
       "      <td>-4.963965</td>\n",
       "      <td>logistic</td>\n",
       "      <td>30</td>\n",
       "      <td>adaptive</td>\n",
       "      <td>sgd</td>\n",
       "      <td>0.728820</td>\n",
       "    </tr>\n",
       "    <tr>\n",
       "      <th>7</th>\n",
       "      <td>7</td>\n",
       "      <td>-5.011016</td>\n",
       "      <td>tanh</td>\n",
       "      <td>30</td>\n",
       "      <td>adaptive</td>\n",
       "      <td>sgd</td>\n",
       "      <td>0.723841</td>\n",
       "    </tr>\n",
       "    <tr>\n",
       "      <th>0</th>\n",
       "      <td>8</td>\n",
       "      <td>-5.526246</td>\n",
       "      <td>logistic</td>\n",
       "      <td>10</td>\n",
       "      <td>adaptive</td>\n",
       "      <td>adam</td>\n",
       "      <td>0.396942</td>\n",
       "    </tr>\n",
       "  </tbody>\n",
       "</table>\n",
       "</div>"
      ],
      "text/plain": [
       "   rank_test_score  mean_test_score param_activation param_hidden_layer_sizes  \\\n",
       "5                1        -4.189610             tanh                       10   \n",
       "4                2        -4.241963             tanh                       10   \n",
       "6                3        -4.276307             tanh                       30   \n",
       "1                4        -4.284572         logistic                       10   \n",
       "2                5        -4.518160         logistic                       30   \n",
       "3                6        -4.963965         logistic                       30   \n",
       "7                7        -5.011016             tanh                       30   \n",
       "0                8        -5.526246         logistic                       10   \n",
       "\n",
       "  param_learning_rate param_solver  std_test_score  \n",
       "5            adaptive          sgd        0.413538  \n",
       "4            adaptive         adam        0.256465  \n",
       "6            adaptive         adam        0.204079  \n",
       "1            adaptive          sgd        0.714993  \n",
       "2            adaptive         adam        0.317624  \n",
       "3            adaptive          sgd        0.728820  \n",
       "7            adaptive          sgd        0.723841  \n",
       "0            adaptive         adam        0.396942  "
      ]
     },
     "execution_count": 96,
     "metadata": {},
     "output_type": "execute_result"
    }
   ],
   "source": [
    "mlpreg_results = pd.DataFrame(mlp_reg_gsc.cv_results_)\n",
    "mlpreg_results.sort_values(by=\"rank_test_score\", inplace=True)\n",
    "headers = ['rank_test_score','mean_test_score','param_activation','param_hidden_layer_sizes','param_learning_rate','param_solver','std_test_score']\n",
    "mlpreg_results[headers].head(10)\n",
    "# mlpreg_results.head(10)\n",
    "# mlpreg_results.columns"
   ]
  },
  {
   "cell_type": "markdown",
   "metadata": {},
   "source": [
    "Observations about linear models produced by grid search:\n",
    " - The `mean_test_score` field is negated as an artifact of `sklearn`'s internals.  The true mean $MAE$ for each model is obtained by reversing this negation.  So the top ranked model's `mean_test_score` is actually $4.151721$.\n",
    " - The `mean_test_score` results have very similar scores.\n",
    " - The top scoring configurations tended to have a `hidden_layer_size` of 10.\n",
    " - The `solver` configuration looks evenly distribued in terms of top scores between `sgd` and `adam`\n"
   ]
  },
  {
   "cell_type": "markdown",
   "metadata": {},
   "source": [
    "Next, we print the parameterization of the best estimator."
   ]
  },
  {
   "cell_type": "code",
   "execution_count": 97,
   "metadata": {},
   "outputs": [
    {
     "data": {
      "text/plain": [
       "MLPRegressor(activation='tanh', alpha=0.0001, batch_size='auto', beta_1=0.9,\n",
       "       beta_2=0.999, early_stopping=False, epsilon=1e-08,\n",
       "       hidden_layer_sizes=10, learning_rate='adaptive',\n",
       "       learning_rate_init=0.001, max_iter=200, momentum=0.9,\n",
       "       nesterovs_momentum=True, power_t=0.5, random_state=None,\n",
       "       shuffle=True, solver='sgd', tol=0.0001, validation_fraction=0.1,\n",
       "       verbose=False, warm_start=False)"
      ]
     },
     "execution_count": 97,
     "metadata": {},
     "output_type": "execute_result"
    }
   ],
   "source": [
    "mlp_reg_gsc.best_estimator_"
   ]
  },
  {
   "cell_type": "markdown",
   "metadata": {},
   "source": [
    "We instantiate a `MLPRegressor` model using the best estimator configuration."
   ]
  },
  {
   "cell_type": "code",
   "execution_count": 98,
   "metadata": {},
   "outputs": [],
   "source": [
    "mlpreg_best = MLPRegressor(activation='tanh', alpha=0.0001, batch_size='auto', beta_1=0.9,\n",
    "       beta_2=0.999, early_stopping=False, epsilon=1e-08,\n",
    "       hidden_layer_sizes=10, learning_rate='adaptive',\n",
    "       learning_rate_init=0.001, max_iter=200, momentum=0.9,\n",
    "       nesterovs_momentum=True, power_t=0.5, random_state=None,\n",
    "       shuffle=True, solver='sgd', tol=0.0001, validation_fraction=0.1,\n",
    "       verbose=False, warm_start=False)"
   ]
  },
  {
   "cell_type": "markdown",
   "metadata": {},
   "source": [
    "This new model is trained on the entire \"train-test\" set. After training, we predict against the validation set."
   ]
  },
  {
   "cell_type": "code",
   "execution_count": 99,
   "metadata": {},
   "outputs": [],
   "source": [
    "# train on all of the \"train-test\" data\n",
    "mlpreg_best.fit(Xs_trn_tst_scl, y_trn_tst_reg)\n",
    "\n",
    "# make predictions against unseen data (validation set)\n",
    "mlpreg_y_hat = mlpreg_best.predict(Xs_val_scl)"
   ]
  },
  {
   "cell_type": "markdown",
   "metadata": {},
   "source": [
    "---\n",
    "### Multilayer Perceptron Best Model Evaluation"
   ]
  },
  {
   "cell_type": "markdown",
   "metadata": {},
   "source": [
    "First, we will calculate the $MAE$, our chosen metric, for the best model's predictions against the validation data set."
   ]
  },
  {
   "cell_type": "code",
   "execution_count": 100,
   "metadata": {},
   "outputs": [
    {
     "name": "stdout",
     "output_type": "stream",
     "text": [
      "The MAE of the predictions is 3.9614739072405865.\n"
     ]
    }
   ],
   "source": [
    "mae = mean_absolute_error(y_val_reg, mlpreg_y_hat)\n",
    "print_str = \"The MAE of the predictions is {mae}.\"\n",
    "print(print_str.format(mae=mae))"
   ]
  },
  {
   "cell_type": "markdown",
   "metadata": {},
   "source": [
    "Our \"average error\" has about one third the magnitude of our high/low threshold cutpoint ($17$)."
   ]
  },
  {
   "cell_type": "markdown",
   "metadata": {},
   "source": [
    "Next we bootstrap a sampling distribution of the MAE."
   ]
  },
  {
   "cell_type": "code",
   "execution_count": 101,
   "metadata": {},
   "outputs": [
    {
     "data": {
      "image/png": "[encoded data removed]",
      "text/plain": [
       "<Figure size 432x288 with 1 Axes>"
      ]
     },
     "metadata": {},
     "output_type": "display_data"
    },
    {
     "name": "stdout",
     "output_type": "stream",
     "text": [
      "The mean of the distribution is 3.961481521097959\n",
      "The median of the distribution is 3.9592502916844783\n"
     ]
    }
   ],
   "source": [
    "from sklearn.utils import resample\n",
    "\n",
    "mae_li = [] # an empty list\n",
    "n_samples = len(y_val_reg) # large same equal to validation set size, but w/ replacement!\n",
    "\n",
    "for i in range(10000): # 10,000 samples\n",
    "    X_samp, y_true = resample(Xs_val_scl, y_val_reg, replace=True, n_samples=n_samples)\n",
    "    y_pred = mlpreg_best.predict(X_samp)\n",
    "    mae = mean_absolute_error(y_true, y_pred)\n",
    "    mae_li.append(mae)\n",
    "    \n",
    "sns.distplot(mae_li).set_title(\"Mean Absolute Error\\nSampling Distribution Plot\")  \n",
    "plt.show()\n",
    "\n",
    "print(\"The mean of the distribution is {mean}\".format(mean=np.mean(mae_li)))\n",
    "print(\"The median of the distribution is {median}\".format(median=np.median(mae_li)))"
   ]
  },
  {
   "cell_type": "markdown",
   "metadata": {},
   "source": [
    "As we would expect from the central limit theorem, a very nice, normal looking frequency distribution is created."
   ]
  },
  {
   "cell_type": "code",
   "execution_count": 102,
   "metadata": {},
   "outputs": [
    {
     "data": {
      "text/html": [
       "<div>\n",
       "<style scoped>\n",
       "    .dataframe tbody tr th:only-of-type {\n",
       "        vertical-align: middle;\n",
       "    }\n",
       "\n",
       "    .dataframe tbody tr th {\n",
       "        vertical-align: top;\n",
       "    }\n",
       "\n",
       "    .dataframe thead th {\n",
       "        text-align: right;\n",
       "    }\n",
       "</style>\n",
       "<table border=\"1\" class=\"dataframe\">\n",
       "  <thead>\n",
       "    <tr style=\"text-align: right;\">\n",
       "      <th></th>\n",
       "      <th>count</th>\n",
       "      <th>mean</th>\n",
       "      <th>std</th>\n",
       "      <th>min</th>\n",
       "      <th>25%</th>\n",
       "      <th>50%</th>\n",
       "      <th>75%</th>\n",
       "      <th>max</th>\n",
       "    </tr>\n",
       "  </thead>\n",
       "  <tbody>\n",
       "    <tr>\n",
       "      <th>sample_mae</th>\n",
       "      <td>10000.0</td>\n",
       "      <td>3.961482</td>\n",
       "      <td>0.129612</td>\n",
       "      <td>3.462246</td>\n",
       "      <td>3.873249</td>\n",
       "      <td>3.95925</td>\n",
       "      <td>4.048924</td>\n",
       "      <td>4.454691</td>\n",
       "    </tr>\n",
       "  </tbody>\n",
       "</table>\n",
       "</div>"
      ],
      "text/plain": [
       "              count      mean       std       min       25%      50%  \\\n",
       "sample_mae  10000.0  3.961482  0.129612  3.462246  3.873249  3.95925   \n",
       "\n",
       "                 75%       max  \n",
       "sample_mae  4.048924  4.454691  "
      ]
     },
     "execution_count": 102,
     "metadata": {},
     "output_type": "execute_result"
    }
   ],
   "source": [
    "mlpreg_mae_df = pd.DataFrame({\"sample_mae\":mae_li})\n",
    "mlpreg_mae_df.describe().T"
   ]
  },
  {
   "cell_type": "markdown",
   "metadata": {},
   "source": [
    "Calculate a 95% confidence interval for the $MAE$ using our bootstrapped frequency distribution."
   ]
  },
  {
   "cell_type": "code",
   "execution_count": 103,
   "metadata": {},
   "outputs": [
    {
     "name": "stdout",
     "output_type": "stream",
     "text": [
      "The 95% confidence interval for the mean 3.96 is 3.75 to 4.18.\n"
     ]
    }
   ],
   "source": [
    "x_bar = round(mlpreg_mae_df.describe().T['mean'].values[0],2)\n",
    "fifth = round(np.percentile(mae_li, 5),2)\n",
    "ninety_fifth = round(np.percentile(mae_li, 95),2)\n",
    "\n",
    "\n",
    "print(\"The 95% confidence interval for the mean {mean} is {low} to {high}.\".format(mean=x_bar, low=fifth, high=ninety_fifth))\n"
   ]
  },
  {
   "cell_type": "markdown",
   "metadata": {},
   "source": [
    "These results strongly suggest that if future data are similar to the validation set (something we would not necessarly expect), the $MAE$ is likely to be around $5.6$, or $33\\%$ of our high/low cutpoint of 17.  We would have to consult our domain experts at the APD to deterimine if this magnitude of average error would be acceptable when predicting the continuous variable of daily incidents per 25,000 residents."
   ]
  },
  {
   "cell_type": "markdown",
   "metadata": {},
   "source": [
    "<div style='margin-left:0%;margin-right:0%;margin-top:0px;background-color:#d3d3d3;padding:1px;'></div>\n",
    "# Final Model Comparison"
   ]
  },
  {
   "cell_type": "markdown",
   "metadata": {},
   "source": [
    "---\n",
    "## Classification"
   ]
  },
  {
   "cell_type": "markdown",
   "metadata": {},
   "source": [
    "We compare the best classifications models.  We predict against 10 folds from the validation set."
   ]
  },
  {
   "cell_type": "code",
   "execution_count": 104,
   "metadata": {},
   "outputs": [
    {
     "name": "stdout",
     "output_type": "stream",
     "text": [
      "[0.8556740475630138, 0.8597314443507882, 0.8509728215455747, 0.8606573749256321, 0.8491134812254173, 0.8460861272537661, 0.8475853176786252, 0.8515121291496421, 0.8505842853784467, 0.8474649920819384]\n"
     ]
    }
   ],
   "source": [
    "skf.get_n_splits(Xs_val_scl , y_val_clf)\n",
    "\n",
    "lr_cs_tot = []\n",
    "rf_cs_tot = []\n",
    "ab_cs_tot = []\n",
    "\n",
    "for train_index, test_index in skf.split(Xs_val_scl, y_val_clf):\n",
    "    y_hat_lr = best_lr_clf.predict(Xs_val_scl[train_index])\n",
    "    y_hat_rf = best_rf_clf.predict(Xs_val_scl[train_index])\n",
    "    y_hat_ab = best_ab_clf.predict(Xs_val_scl[train_index])\n",
    "    lr_cs_tot.append(score_func(y_val_clf[train_index], y_hat_lr))\n",
    "    rf_cs_tot.append(score_func(y_val_clf[train_index], y_hat_rf))\n",
    "    ab_cs_tot.append(score_func(y_val_clf[train_index], y_hat_ab))\n",
    "    \n",
    "print(ab_cs_tot)"
   ]
  },
  {
   "cell_type": "markdown",
   "metadata": {},
   "source": [
    "Create boxplot chart of results."
   ]
  },
  {
   "cell_type": "code",
   "execution_count": 105,
   "metadata": {},
   "outputs": [
    {
     "data": {
      "image/png": "[encoded data removed]",
      "text/plain": [
       "<Figure size 1080x360 with 1 Axes>"
      ]
     },
     "metadata": {},
     "output_type": "display_data"
    }
   ],
   "source": [
    "sns.set_palette(\"dark\")\n",
    "plt.figure(figsize=(15,5))\n",
    "plt.boxplot([ lr_cs_tot, rf_cs_tot, ab_cs_tot],\n",
    "            labels=['Logistic Regression\\nComposite Scores','Random Forest\\nComposite Scores', 'AdaBoost\\nComposite Scores'])\n",
    "plt.ylim([0.8,.875])\n",
    "plt.show()\n"
   ]
  },
  {
   "cell_type": "markdown",
   "metadata": {},
   "source": [
    "Conduct overall $F$-test to determine if the mean composite scores from the models are statistically significantly different."
   ]
  },
  {
   "cell_type": "code",
   "execution_count": 106,
   "metadata": {},
   "outputs": [
    {
     "name": "stdout",
     "output_type": "stream",
     "text": [
      "The F-statistic from the ANOVA test is 151.71807863793475\n",
      "The p-value from the ANOVA test is 2.0688486277158473e-15\n"
     ]
    }
   ],
   "source": [
    "from scipy import stats\n",
    "\n",
    "F, p = stats.f_oneway(lr_cs_tot, rf_cs_tot, ab_cs_tot)\n",
    "\n",
    "print(\"The F-statistic from the ANOVA test is {stat}\".format(stat=F))\n",
    "print(\"The p-value from the ANOVA test is {stat}\".format(stat=p))"
   ]
  },
  {
   "cell_type": "markdown",
   "metadata": {},
   "source": [
    "The very small $p$-value suggests that at least one model's mean composite score is different than the others."
   ]
  },
  {
   "cell_type": "markdown",
   "metadata": {},
   "source": [
    "We will need to conduct individual two sample $t$-tests to determine which is mean is the lowest. We will set our alpha to $0.05 / 3 = .017$ (Bonferroni adjustment)."
   ]
  },
  {
   "cell_type": "code",
   "execution_count": 107,
   "metadata": {},
   "outputs": [
    {
     "name": "stdout",
     "output_type": "stream",
     "text": [
      "The t-stat and p-value for Logistic Regression model vs. Random Forest model are 3.440901247090314 and 0.002936131900357556\n",
      "The t-stat and p-value for Logistic Regression model vs. AdaBoost model are -12.792196387565248 and 1.796520001264248e-10\n",
      "The t-stat and p-value for Random Forest model vs.  AdaBoost model are -16.763413168215568 and 2.1231507232031245e-12\n"
     ]
    }
   ],
   "source": [
    "t1, p1 = stats.ttest_ind(lr_cs_tot,rf_cs_tot, equal_var = False)\n",
    "t2, p2 = stats.ttest_ind(lr_cs_tot,ab_cs_tot, equal_var = False)\n",
    "t3, p3 = stats.ttest_ind(rf_cs_tot, ab_cs_tot, equal_var = False)\n",
    "\n",
    "print(\"The t-stat and p-value for Logistic Regression model vs. Random Forest model are {t} and {p}\".format(t=t1, p=p1))\n",
    "print(\"The t-stat and p-value for Logistic Regression model vs. AdaBoost model are {t} and {p}\".format(t=t2, p=p2))\n",
    "print(\"The t-stat and p-value for Random Forest model vs.  AdaBoost model are {t} and {p}\".format(t=t3, p=p3))"
   ]
  },
  {
   "cell_type": "markdown",
   "metadata": {},
   "source": [
    "From the above $t$-tests we can conclude that AdaBoost provides the best composite scores."
   ]
  },
  {
   "cell_type": "markdown",
   "metadata": {},
   "source": [
    "---\n",
    "## Regression"
   ]
  },
  {
   "cell_type": "code",
   "execution_count": 108,
   "metadata": {},
   "outputs": [
    {
     "data": {
      "text/plain": [
       "(3228, 131)"
      ]
     },
     "execution_count": 108,
     "metadata": {},
     "output_type": "execute_result"
    }
   ],
   "source": [
    "Xs_val_scl.shape"
   ]
  },
  {
   "cell_type": "code",
   "execution_count": 109,
   "metadata": {},
   "outputs": [
    {
     "data": {
      "text/plain": [
       "(3228,)"
      ]
     },
     "execution_count": 109,
     "metadata": {},
     "output_type": "execute_result"
    }
   ],
   "source": [
    "y_val_reg.shape"
   ]
  },
  {
   "cell_type": "code",
   "execution_count": 110,
   "metadata": {},
   "outputs": [
    {
     "data": {
      "text/plain": [
       "'continuous'"
      ]
     },
     "execution_count": 110,
     "metadata": {},
     "output_type": "execute_result"
    }
   ],
   "source": [
    "from sklearn.utils.multiclass import type_of_target\n",
    "\n",
    "type_of_target(y_val_reg)"
   ]
  },
  {
   "cell_type": "code",
   "execution_count": 111,
   "metadata": {},
   "outputs": [],
   "source": [
    "Xs_zeros = np.zeros(3228)"
   ]
  },
  {
   "cell_type": "code",
   "execution_count": 112,
   "metadata": {},
   "outputs": [
    {
     "data": {
      "text/plain": [
       "'binary'"
      ]
     },
     "execution_count": 112,
     "metadata": {},
     "output_type": "execute_result"
    }
   ],
   "source": [
    "type_of_target(y_val_clf)"
   ]
  },
  {
   "cell_type": "code",
   "execution_count": 113,
   "metadata": {},
   "outputs": [],
   "source": [
    "skf.get_n_splits(Xs_val_scl , y_val_reg)\n",
    "\n",
    "mlr_mae_tot = []\n",
    "sgd_mae_tot = []\n",
    "mlp_mae_tot = []\n",
    "\n",
    "for train_index, test_index in skf.split(Xs_val_scl, y_val_clf):\n",
    "    y_hat_mlr = best_linreg_clf.predict(Xs_val_scl[train_index])\n",
    "    y_hat_sgd = sgdreg_best.predict(Xs_val_scl[train_index])\n",
    "    y_hat_mlp = mlpreg_best.predict(Xs_val_scl[train_index])\n",
    "    mlr_mae_tot.append(mean_absolute_error(y_val_clf[train_index], y_hat_mlr))\n",
    "    sgd_mae_tot.append(mean_absolute_error(y_val_clf[train_index], y_hat_sgd))\n",
    "    mlp_mae_tot.append(mean_absolute_error(y_val_clf[train_index], y_hat_mlp))"
   ]
  },
  {
   "cell_type": "code",
   "execution_count": 114,
   "metadata": {},
   "outputs": [
    {
     "data": {
      "image/png": "[encoded data removed]",
      "text/plain": [
       "<Figure size 1080x360 with 1 Axes>"
      ]
     },
     "metadata": {},
     "output_type": "display_data"
    }
   ],
   "source": [
    "sns.set_palette(\"dark\")\n",
    "plt.figure(figsize=(15,5))\n",
    "plt.boxplot([ mlr_mae_tot, sgd_mae_tot, mlp_mae_tot],\n",
    "            labels=['Multiple Linear Regression\\nMAE','SGDRegressor\\nMAE', 'MLPRegressor\\nMAE'])\n",
    "plt.ylim([11.5, 14])\n",
    "plt.show()"
   ]
  },
  {
   "cell_type": "markdown",
   "metadata": {},
   "source": [
    "Conduct overall $F$-test to determine if the mean composite scores from the models are statistically significantly different."
   ]
  },
  {
   "cell_type": "code",
   "execution_count": 115,
   "metadata": {},
   "outputs": [
    {
     "name": "stdout",
     "output_type": "stream",
     "text": [
      "The F-statistic from the ANOVA test is 168.23326270682523\n",
      "The p-value from the ANOVA test is 5.716644099283768e-16\n"
     ]
    }
   ],
   "source": [
    "from scipy import stats\n",
    "\n",
    "F, p = stats.f_oneway(mlr_mae_tot,sgd_mae_tot,mlp_mae_tot)\n",
    "\n",
    "print(\"The F-statistic from the ANOVA test is {stat}\".format(stat=F))\n",
    "print(\"The p-value from the ANOVA test is {stat}\".format(stat=p))"
   ]
  },
  {
   "cell_type": "markdown",
   "metadata": {},
   "source": [
    "The boxplot above clearly shows that the MLPRegressor has a larger $MAE$ than either the Multiple Linear Regressor or the SGDRegressor. The ANOVA confrms this separation and the very small $p$-value statistically confirms that at least one model's mean $MAE$ is different than the others."
   ]
  },
  {
   "cell_type": "markdown",
   "metadata": {},
   "source": [
    "We conduct pairwise two sample $t$-tests to determine which is mean is indeed the lowest. We set our alpha to $0.05 / 3 = .017$ (Bonferroni adjustment)."
   ]
  },
  {
   "cell_type": "code",
   "execution_count": 116,
   "metadata": {},
   "outputs": [
    {
     "name": "stdout",
     "output_type": "stream",
     "text": [
      "The t-stat and p-value for MLR vs. SGDRegressor are 6.1907111104335355 and 1.3156582835320053e-05\n",
      "The t-stat and p-value for MLR vs. MLPRegressor are -10.805153583610856 and 1.045919931318993e-08\n",
      "The t-stat and p-value for SGDRegressor vs. MLPRegressor are -21.3246849837779 and 3.1895190158813764e-14\n"
     ]
    }
   ],
   "source": [
    "t1, p1 = stats.ttest_ind(mlr_mae_tot,sgd_mae_tot, equal_var = False)\n",
    "t2, p2 = stats.ttest_ind(mlr_mae_tot,mlp_mae_tot, equal_var = False)\n",
    "t3, p3 = stats.ttest_ind(sgd_mae_tot,mlp_mae_tot, equal_var = False)\n",
    "\n",
    "print(\"The t-stat and p-value for MLR vs. SGDRegressor are {t} and {p}\".format(t=t1, p=p1))\n",
    "print(\"The t-stat and p-value for MLR vs. MLPRegressor are {t} and {p}\".format(t=t2, p=p2))\n",
    "print(\"The t-stat and p-value for SGDRegressor vs. MLPRegressor are {t} and {p}\".format(t=t3, p=p3))"
   ]
  },
  {
   "cell_type": "markdown",
   "metadata": {},
   "source": [
    "The $t$-tests again confirm that the $MAE$ for the MLPRegressor is greater than both the SGDRegressor and the Multiple Linear Regressor. The $t$-tests also show that the $MAE$ of the SGDRegressor is indeed the lowest of the three regresseion methods."
   ]
  },
  {
   "cell_type": "markdown",
   "metadata": {},
   "source": [
    "<div style='margin-left:0%;margin-right:0%;margin-top:0px;background-color:#d3d3d3;padding:1px;'></div>\n",
    "# Deployment"
   ]
  },
  {
   "cell_type": "markdown",
   "metadata": {},
   "source": [
    "The Austin Police Department (APD) has asked us to predict crime levels for postal codes in the Austin area for the fourth quarter of 2015.  We were provided with historical data for the period 2011 to the present.  We utilized 3 classification algorithms and 3 regression algorithms.\n",
    "\n",
    "The classification algorithm was designed to assign postal code into groups of high or low crime rate areas.  The regression algorithm was designed to calculate a specific level of expected crime per postal code for every 25,000 people.\n",
    "\n",
    "Given that we are using three months of forecasted data to create our predictions, we feel that the more general binary classification levels of high and low to be more useful for long-term planning.  We feel that using the exact crime levels that the regression calculates would be unnecessarily precise.  We expect that the APD would allocate equal resources to all high crime areas in an effort not to underserve those constituents.  In effect they would be replicating the cut-point between high and low that we created for the classification algorithms.\n",
    "\n",
    "We recommend using a rolling system of updating both the historical training data and the forecast data on either a monthly or quarterly basis.  Then retraining the classification algorithm to determine the new high/low designations for each postal code.      \n",
    "\n",
    "We do think the regression predictions could serve a specific purpose in a deployment plan.  The APD could use the regression algorithm to do ad hoc predictions for holidays, long weekends, or city-wide events.  More narrowly constrained, and accurate, forecasted data could be used as the testing data and drill down to more exact predicted crime levels that could be used to allocate extra or emergency resources to specific postal codes.\n",
    "\n"
   ]
  },
  {
   "cell_type": "markdown",
   "metadata": {},
   "source": [
    "<div style='margin-left:0%;margin-right:0%;margin-top:0px;background-color:#d3d3d3;padding:1px;'></div>"
   ]
  },
  {
   "cell_type": "markdown",
   "metadata": {},
   "source": [
    "# References"
   ]
  },
  {
   "cell_type": "markdown",
   "metadata": {},
   "source": [
    "[1] Ioffe, Sergey, and Christian Szegedy. \"Batch normalization: Accelerating deep network training by reducing internal covariate shift.\" In International Conference on Machine Learning, pp. 448-456. 2015.\n",
    "Harvard  \n",
    "[2] Kohavi, Ron. \"A study of cross-validation and bootstrap for accuracy estimation and model selection.\" In Ijcai, vol. 14, no. 2, pp. 1137-1145. 1995.  \n",
    "[3] https://www.quora.com/What-are-the-advantages-of-logistic-regression-over-decision-trees-Are-there-any-cases-where-its-better-to-use-logistic-regression-instead-of-decision-trees#!n=24  \n",
    "[4] https://www.quora.com/What-are-the-pros-and-cons-of-using-logistic-regression-with-one-binary-outcome-and-several-binary-predictors  \n",
    "[5] Faber, Nicolaas Klaas M. \"Estimating the uncertainty in estimates of root mean square error of prediction: application to determining the size of an adequate test set in multivariate calibration.\" Chemometrics and intelligent laboratory systems 49, no. 1 (1999): 79-89.\n",
    "Harvard\t\n",
    "[6] Pedregosa, F., G. Varoquaux, and A. Gramfort. \"1.5. Stochastic Gradient Descent.\" 1.5. Stochastic Gradient Descent — scikit-learn 0.19.1 documentation. Accessed October 26, 2017. http://scikit-learn.org/stable/modules/sgd.html#sgd.  \n",
    "[7]  Willmott, Cort J., and Kenji Matsuura. \"Advantages of the mean absolute error (MAE) over the root mean square error (RMSE) in assessing average model performance.\" Climate research 30, no. 1 (2005): 79-82.  \n",
    "[8] Willmott, Cort J., and Kenji Matsuura. \"On the use of dimensioned measures of error to evaluate the performance of spatial interpolators.\" International Journal of Geographical Information Science 20, no. 1 (2006): 89-102.  \n",
    "[9] Wesner, Janet. \"MAE and RMSE - Which Metric is Better? – Human in a Machine World.\" Medium. March 23, 2016. Accessed October 28, 2017. https://medium.com/human-in-a-machine-world/mae-and-rmse-which-metric-is-better-e60ac3bde13d.  \n",
    "[10] \"1.17. Neural network models (supervised)¶.\" 1.17. Neural network models (supervised) — scikit-learn 0.19.1 documentation. Accessed October 29, 2017. http://scikit-learn.org/stable/modules/neural_networks_supervised.html."
   ]
  }
 ],
 "metadata": {
  "anaconda-cloud": {},
  "kernelspec": {
   "display_name": "Python [conda env:gkopyenviro]",
   "language": "python",
   "name": "conda-env-gkopyenviro-py"
  },
  "language_info": {
   "codemirror_mode": {
    "name": "ipython",
    "version": 3
   },
   "file_extension": ".py",
   "mimetype": "text/x-python",
   "name": "python",
   "nbconvert_exporter": "python",
   "pygments_lexer": "ipython3",
   "version": "3.6.4"
  },
  "varInspector": {
   "cols": {
    "lenName": 16,
    "lenType": 16,
    "lenVar": 40
   },
   "kernels_config": {
    "python": {
     "delete_cmd_postfix": "",
     "delete_cmd_prefix": "del ",
     "library": "var_list.py",
     "varRefreshCmd": "print(var_dic_list())"
    },
    "r": {
     "delete_cmd_postfix": ") ",
     "delete_cmd_prefix": "rm(",
     "library": "var_list.r",
     "varRefreshCmd": "cat(var_dic_list()) "
    }
   },
   "types_to_exclude": [
    "module",
    "function",
    "builtin_function_or_method",
    "instance",
    "_Feature"
   ],
   "window_display": false
  }
 },
 "nbformat": 4,
 "nbformat_minor": 2
}
